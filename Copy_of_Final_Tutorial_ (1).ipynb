{
 "cells": [
  {
   "cell_type": "markdown",
   "metadata": {
    "id": "6N3ynr5gTIsh"
   },
   "source": [
    "# **Predicting Movie Ratings: A Regression-Based Approach Using the MovieLens Dataset**\n",
    "\n",
    "Collaborators : Kishore Buddi, Pradeep Yellapu\n",
    "\n"
   ]
  },
  {
   "cell_type": "markdown",
   "metadata": {
    "id": "nW2HQtT5RU5y"
   },
   "source": [
    "## **Introduction**\n",
    "\n",
    "The world of online streaming platforms and content delivery services has revolutionized the way people consume movies. Personalization has become a crucial part of user experience, with recommendation engines driving engagement, retention, and satisfaction. One of the most widely used datasets for building and understanding recommendation engines is the MovieLens dataset.\n",
    "\n",
    "The motivation behind this project is to leverage the richness of the MovieLens dataset to predict movie ratings and explore the underlying factors that influence user preferences. By predicting the rating, we can provide valuable insights into user behavior, help platforms recommend personalized content, and contribute to the broader field of recommender systems.\n",
    "\n",
    "This project aims to apply regression-based machine learning models to predict the target variable — movie ratings — based on movie metadata and user interactions. Unlike classification problems that aim to categorize items, regression offers a nuanced prediction of the actual rating score. By understanding the factors that impact the user's rating of a movie, streaming platforms and entertainment services can make more accurate, data-driven content recommendations.\n",
    "\n",
    "Additionally, this project provides an opportunity to practice critical data science skills, such as data cleaning, transformation, feature engineering, and model evaluation. It allows us to explore essential machine learning techniques and evaluate the effectiveness of different regression models. By comparing the prediction accuracies of various models, we aim to determine which model best captures the underlying patterns in the data."
   ]
  },
  {
   "cell_type": "markdown",
   "metadata": {
    "id": "e88TOYL4Rrjd"
   },
   "source": [
    "## **About the Dataset**\n",
    "\n",
    "The MovieLens dataset is a well-structured and widely used dataset for recommendation system research. For this project, we have selected three key files:\n",
    "\n",
    "*  ratings.csv: Contains user ratings for different movies, along with the corresponding user IDs, movie IDs, and timestamps of the ratings.\n",
    "*  movies.csv: Provides details about the movies, including the movie title and the genres associated with each film.\n",
    "*  tags.csv: Contains user-provided tags for certain movies, which can offer contextual information for understanding movie content or themes.\n",
    "The primary target variable for this project is the rating, which represents how a user rates a specific movie on a numerical scale. This variable will be predicted using various regression models.\n",
    "\n",
    "To prepare for model development, several essential preprocessing steps have been undertaken:\n",
    "\n",
    "* Data Cleaning: Duplicate rows were removed, and missing values were identified and handled to ensure clean and consistent datasets.\n",
    "* Data Transformation:\n",
    "The timestamp column in the ratings file was converted into a human-readable date format to extract time-based insights.\n",
    "The release year of movies was extracted from the movie title, adding a new feature that could impact users' rating preferences.\n",
    "* Data Reduction:\n",
    "The datasets were reduced to more manageable sizes, with 100,000 randomly selected movies and 1,000,000 rows for the ratings and tags datasets.\n",
    "This reduction helps improve computational efficiency, enabling faster model training and analysis.\n",
    "* Data Merging:\n",
    "The ratings and movies datasets were merged on the movieId column, ensuring only movies that appear in both datasets were included for analysis.\n",
    "With a clean and well-structured dataset, the next step is to construct various regression models that predict the user’s rating for a movie. Models such as Linear Regression, Decision Trees, Random Forest, and XGBoost will be implemented. Each model will be evaluated on accuracy, mean absolute error (MAE), and root mean square error (RMSE) to compare their performance. The ultimate goal is to identify which regression model can most accurately predict the movie ratings, offering insights into user preferences and aiding in the development of personalized recommendation engines."
   ]
  },
  {
   "cell_type": "markdown",
   "metadata": {
    "id": "lqZhHIffXP4G"
   },
   "source": [
    "Pandas Documentation: https://pandas.pydata.org/docs/\n",
    "Useful for understanding data manipulation steps, e.g., handling missing values, feature extraction, or merging datasets.\n",
    "\n",
    "Scikit-Learn Documentation: https://scikit-learn.org/stable/\n",
    "Covers regression and classification models like KNN, Logistic Regression, Random Forest, and pipelines.\n",
    "\n",
    "Matplotlib Documentation: https://matplotlib.org/stable/contents.html\n",
    "For creating visualizations like the comparison bar plots."
   ]
  },
  {
   "cell_type": "code",
   "execution_count": null,
   "metadata": {
    "colab": {
     "base_uri": "https://localhost:8080/"
    },
    "id": "Sw7HI8W3XRAb",
    "outputId": "fefbf85e-0c1f-4fe0-dd0e-5bf16019554b"
   },
   "outputs": [
    {
     "name": "stdout",
     "output_type": "stream",
     "text": [
      "Loading dataset from /content/ratings.csv...\n",
      "Loading dataset from /content/movies.csv...\n",
      "Loading dataset from /content/tags.csv...\n",
      "\n",
      "Ratings Dataset Loaded:\n",
      "   userId  movieId  rating  timestamp\n",
      "0       1       17     4.0  944249077\n",
      "1       1       25     1.0  944250228\n",
      "2       1       29     2.0  943230976\n",
      "3       1       30     5.0  944249077\n",
      "4       1       32     5.0  943228858\n",
      "\n",
      "Movies Dataset Loaded:\n",
      "   movieId                               title  \\\n",
      "0        1                    Toy Story (1995)   \n",
      "1        2                      Jumanji (1995)   \n",
      "2        3             Grumpier Old Men (1995)   \n",
      "3        4            Waiting to Exhale (1995)   \n",
      "4        5  Father of the Bride Part II (1995)   \n",
      "\n",
      "                                        genres  \n",
      "0  Adventure|Animation|Children|Comedy|Fantasy  \n",
      "1                   Adventure|Children|Fantasy  \n",
      "2                               Comedy|Romance  \n",
      "3                         Comedy|Drama|Romance  \n",
      "4                                       Comedy  \n",
      "\n",
      "Tags Dataset Loaded:\n",
      "   userId  movieId          tag   timestamp\n",
      "0      22    26479  Kevin Kline  1583038886\n",
      "1      22    79592     misogyny  1581476297\n",
      "2      22   247150   acrophobia  1622483469\n",
      "3      34     2174        music  1249808064\n",
      "4      34     2174        weird  1249808102\n"
     ]
    }
   ],
   "source": [
    "import os\n",
    "import pandas as pd\n",
    "\n",
    "# File paths\n",
    "ratings_path = \"/content/ratings.csv\"\n",
    "movies_path = \"/content/movies.csv\"\n",
    "tags_path = \"/content/tags.csv\"\n",
    "\n",
    "# Function to load datasets\n",
    "def load_dataset(file_path):\n",
    "    \"\"\"Load a dataset and validate its existence.\"\"\"\n",
    "    if os.path.exists(file_path):\n",
    "        print(f\"Loading dataset from {file_path}...\")\n",
    "        return pd.read_csv(file_path)\n",
    "    else:\n",
    "        print(f\"Error: File not found at {file_path}\")\n",
    "        return None\n",
    "\n",
    "# Load datasets\n",
    "ratings = load_dataset(ratings_path)\n",
    "movies = load_dataset(movies_path)\n",
    "tags = load_dataset(tags_path)\n",
    "\n",
    "# Display loaded data\n",
    "if ratings is not None:\n",
    "    print(\"\\nRatings Dataset Loaded:\")\n",
    "    print(ratings.head())\n",
    "\n",
    "if movies is not None:\n",
    "    print(\"\\nMovies Dataset Loaded:\")\n",
    "    print(movies.head())\n",
    "\n",
    "if tags is not None:\n",
    "    print(\"\\nTags Dataset Loaded:\")\n",
    "    print(tags.head())"
   ]
  },
  {
   "cell_type": "markdown",
   "metadata": {
    "id": "xIeZVyWaTJVo"
   },
   "source": [
    "* Loads and validates the datasets ratings.csv, movies.csv, and tags.csv.\n",
    "* Checks if each file exists before loading to avoid file-not-found errors.\n",
    "* Uses pd.read_csv() to load the datasets and displays the first few rows for a quick preview.\n",
    "* Ensures the datasets are ready for further analysis and processing."
   ]
  },
  {
   "cell_type": "markdown",
   "metadata": {
    "id": "NrcE--jOjZDB"
   },
   "source": [
    "BASIC DATA CLEANING"
   ]
  },
  {
   "cell_type": "markdown",
   "metadata": {
    "id": "unqKZ-zMWhCB"
   },
   "source": [
    "We will first focus on data cleaning and preprocessing to ensure the integrity and consistency of our datasets. This step is crucial as it lays the foundation for accurate analysis and reliable model performance. We will begin by removing duplicate rows from the ratings, movies, and tags datasets, thereby eliminating any redundant information that could skew our results. Next, we will identify and handle missing values in each dataset, displaying the count of null values for each column.\n",
    "\n",
    "This is to improve data quality but also reduce the risk of complications during model training and evaluation."
   ]
  },
  {
   "cell_type": "code",
   "execution_count": null,
   "metadata": {
    "colab": {
     "base_uri": "https://localhost:8080/"
    },
    "id": "63EwvFLKX2DU",
    "outputId": "b8d0881f-9d44-457f-d736-7f00659f65bb"
   },
   "outputs": [
    {
     "name": "stdout",
     "output_type": "stream",
     "text": [
      "\n",
      "Dropped duplicates from Ratings Dataset.\n",
      "\n",
      "Missing Values in Ratings Dataset:\n",
      "userId       0\n",
      "movieId      0\n",
      "rating       0\n",
      "timestamp    0\n",
      "dtype: int64\n",
      "\n",
      "Dropped duplicates from Movies Dataset.\n",
      "\n",
      "Missing Values in Movies Dataset:\n",
      "movieId    0\n",
      "title      0\n",
      "genres     0\n",
      "dtype: int64\n",
      "\n",
      "Dropped duplicates from Tags Dataset.\n",
      "\n",
      "Missing Values in Tags Dataset:\n",
      "userId        0\n",
      "movieId       0\n",
      "tag          17\n",
      "timestamp     0\n",
      "dtype: int64\n"
     ]
    }
   ],
   "source": [
    "# Step 2: Data Cleaning\n",
    "if ratings is not None:\n",
    "    # Drop duplicates\n",
    "    ratings.drop_duplicates(inplace=True)\n",
    "    print(\"\\nDropped duplicates from Ratings Dataset.\")\n",
    "\n",
    "    # Check for missing values\n",
    "    print(\"\\nMissing Values in Ratings Dataset:\")\n",
    "    print(ratings.isnull().sum())\n",
    "\n",
    "if movies is not None:\n",
    "    # Drop duplicates\n",
    "    movies.drop_duplicates(inplace=True)\n",
    "    print(\"\\nDropped duplicates from Movies Dataset.\")\n",
    "\n",
    "    # Check for missing values\n",
    "    print(\"\\nMissing Values in Movies Dataset:\")\n",
    "    print(movies.isnull().sum())\n",
    "\n",
    "if tags is not None:\n",
    "    # Drop duplicates\n",
    "    tags.drop_duplicates(inplace=True)\n",
    "    print(\"\\nDropped duplicates from Tags Dataset.\")\n",
    "\n",
    "    # Check for missing values\n",
    "    print(\"\\nMissing Values in Tags Dataset:\")\n",
    "    print(tags.isnull().sum())"
   ]
  },
  {
   "cell_type": "markdown",
   "metadata": {
    "id": "6h-o8VaNjmkP"
   },
   "source": [
    "DATA TRANSFORMATION"
   ]
  },
  {
   "cell_type": "code",
   "execution_count": null,
   "metadata": {
    "colab": {
     "base_uri": "https://localhost:8080/"
    },
    "id": "oXPoOZ7hX5Jw",
    "outputId": "094f1cdf-7908-490c-c5b6-91069410f06e"
   },
   "outputs": [
    {
     "name": "stdout",
     "output_type": "stream",
     "text": [
      "\n",
      "Transformed Ratings Dataset (Timestamp Converted):\n",
      "   userId  movieId  rating           timestamp\n",
      "0       1       17     4.0 1999-12-03 19:24:37\n",
      "1       1       25     1.0 1999-12-03 19:43:48\n",
      "2       1       29     2.0 1999-11-22 00:36:16\n",
      "3       1       30     5.0 1999-12-03 19:24:37\n",
      "4       1       32     5.0 1999-11-22 00:00:58\n",
      "\n",
      "Transformed Movies Dataset (Year Extracted):\n",
      "   movieId                               title  \\\n",
      "0        1                    Toy Story (1995)   \n",
      "1        2                      Jumanji (1995)   \n",
      "2        3             Grumpier Old Men (1995)   \n",
      "3        4            Waiting to Exhale (1995)   \n",
      "4        5  Father of the Bride Part II (1995)   \n",
      "\n",
      "                                        genres    year  \n",
      "0  Adventure|Animation|Children|Comedy|Fantasy  1995.0  \n",
      "1                   Adventure|Children|Fantasy  1995.0  \n",
      "2                               Comedy|Romance  1995.0  \n",
      "3                         Comedy|Drama|Romance  1995.0  \n",
      "4                                       Comedy  1995.0  \n"
     ]
    }
   ],
   "source": [
    "from datetime import datetime\n",
    "\n",
    "# Transform datasets\n",
    "if ratings is not None:\n",
    "    # Convert timestamp to readable format\n",
    "    ratings['timestamp'] = pd.to_datetime(ratings['timestamp'], unit='s')\n",
    "    print(\"\\nTransformed Ratings Dataset (Timestamp Converted):\")\n",
    "    print(ratings.head())\n",
    "\n",
    "if movies is not None:\n",
    "    # Extract release year from movie titles\n",
    "    movies['year'] = movies['title'].str.extract(r'\\((\\d{4})\\)')\n",
    "    movies['year'] = pd.to_numeric(movies['year'], errors='coerce')\n",
    "    print(\"\\nTransformed Movies Dataset (Year Extracted):\")\n",
    "    print(movies.head())"
   ]
  },
  {
   "cell_type": "markdown",
   "metadata": {
    "id": "7dJdoKxnTvVX"
   },
   "source": [
    "* Converts the timestamp column in the ratings dataset to a human-readable datetime format.\n",
    "* Extracts the release year from the title column in the movies dataset using regex.\n",
    "* Converts the extracted year to a numeric format, handling any non-numeric values gracefully.\n",
    "* Enhances the datasets by making time-related information more interpretable and usable for analysis."
   ]
  },
  {
   "cell_type": "markdown",
   "metadata": {
    "id": "xMWQeV1zjueX"
   },
   "source": [
    "REDUCE THE DATASET"
   ]
  },
  {
   "cell_type": "markdown",
   "metadata": {
    "id": "EUSy3CKBYsK4"
   },
   "source": [
    "Before proceeding with the next phase of our project, we will focus on data reduction and merging to create a more efficient and manageable dataset for analysis. Given the large size of the MovieLens dataset, reducing the volume of data will help us avoid computational bottlenecks while maintaining the diversity and representativeness of the data.\n",
    "\n",
    "We will begin by reducing the size of the movies dataset, randomly selecting a subset of movies using a fixed sample size. This process ensures that our dataset remains diverse while being small enough to handle efficiently. The reduced dataset will be saved as reduced_movies.csv for future reference and reuse.\n",
    "\n",
    "Next, we will randomize and sample the ratings and tags datasets, shuffling and extracting a subset of rows to ensure uniform representation of the data. This step prevents overfitting and maintains the randomness of the samples while improving processing speed.\n",
    "\n",
    "Finally, we will merge the reduced ratings and movies datasets using the movieId column as the key. This inner join ensures that only movies present in both datasets are retained for analysis. The resulting merged dataset will serve as the primary dataset for model training and evaluation. This process allows us to focus on relevant records, reducing redundancy while improving computational efficiency and scalability.\n",
    "\n",
    "\n",
    "\n",
    "\n",
    "\n",
    "\n"
   ]
  },
  {
   "cell_type": "code",
   "execution_count": null,
   "metadata": {
    "colab": {
     "base_uri": "https://localhost:8080/"
    },
    "id": "BDOBv1IDjtuy",
    "outputId": "1745fc24-f298-45a6-8880-19026dac9ae4"
   },
   "outputs": [
    {
     "name": "stdout",
     "output_type": "stream",
     "text": [
      "\n",
      "Reduced Movies Dataset Shape: (87585, 4)\n",
      "   movieId                           title                 genres    year\n",
      "0   120510          Value for Money (1955)         Comedy|Romance  1955.0\n",
      "1   212955             Face of Evil (1996)         Drama|Thriller  1996.0\n",
      "2   193912              Spring 1941 (2007)      Drama|Romance|War  2007.0\n",
      "3   163921               Wolf Creek (2016)  Crime|Horror|Thriller  2016.0\n",
      "4   126652  Raven the Little Rascal (2012)     Animation|Children  2012.0\n",
      "\n",
      "Reduced Movies Dataset saved to '/content/reduced_movies.csv'.\n"
     ]
    }
   ],
   "source": [
    "# Reduce the movies dataset\n",
    "REDUCE_SIZE = 100000  # Number of movies to fetch metadata for (adjustable)\n",
    "\n",
    "if movies is not None:\n",
    "    reduced_movies = movies.sample(n=min(REDUCE_SIZE, len(movies)), random_state=42).reset_index(drop=True)\n",
    "    print(\"\\nReduced Movies Dataset Shape:\", reduced_movies.shape)\n",
    "    print(reduced_movies.head())\n",
    "\n",
    "    # Save the reduced dataset for reference\n",
    "    reduced_movies.to_csv(\"/content/reduced_movies.csv\", index=False)\n",
    "    print(\"\\nReduced Movies Dataset saved to '/content/reduced_movies.csv'.\")"
   ]
  },
  {
   "cell_type": "markdown",
   "metadata": {
    "id": "HIaXyF-gvmze"
   },
   "source": [
    "RANDOMIZE AND SAMPLING"
   ]
  },
  {
   "cell_type": "code",
   "execution_count": null,
   "metadata": {
    "colab": {
     "base_uri": "https://localhost:8080/"
    },
    "id": "BcJNy8cKvljc",
    "outputId": "99ddd81e-a4cc-4654-869f-2f09cda31b31"
   },
   "outputs": [
    {
     "name": "stdout",
     "output_type": "stream",
     "text": [
      "\n",
      "Randomizing and reducing Ratings dataset...\n",
      "Reduced Ratings dataset to 1000000 rows.\n",
      "\n",
      "Randomizing and reducing Tags dataset...\n",
      "Reduced Tags dataset to 1000000 rows.\n"
     ]
    }
   ],
   "source": [
    "def randomize_and_sample(dataset, sample_size, name):\n",
    "    \"\"\"Randomize and sample the dataset.\"\"\"\n",
    "    if dataset.empty:\n",
    "        print(f\"{name} dataset is empty. Skipping randomization and sampling.\")\n",
    "        return dataset\n",
    "\n",
    "    print(f\"\\nRandomizing and reducing {name} dataset...\")\n",
    "    randomized = dataset.sample(frac=1, random_state=42).reset_index(drop=True)\n",
    "    reduced = randomized.head(sample_size)\n",
    "    print(f\"Reduced {name} dataset to {len(reduced)} rows.\")\n",
    "    return reduced\n",
    "\n",
    "REDUCE_SIZE = 1000000  # Adjust as needed\n",
    "ratings = randomize_and_sample(ratings, REDUCE_SIZE, \"Ratings\")\n",
    "tags = randomize_and_sample(tags, REDUCE_SIZE, \"Tags\")"
   ]
  },
  {
   "cell_type": "markdown",
   "metadata": {
    "id": "bzUxUs0RUCs1"
   },
   "source": [
    "* Randomizes and reduces the size of the ratings and tags datasets to a maximum of 1,000,000 rows each.\n",
    "* Shuffles the rows randomly using a fixed random seed (42) to ensure reproducibility.\n",
    "* Resets the index of the reduced datasets for better row alignment.\n",
    "* Speeds up processing by working with a smaller, randomized subset of the full datasets."
   ]
  },
  {
   "cell_type": "markdown",
   "metadata": {
    "id": "6RCRvHrVv4CA"
   },
   "source": [
    "MERGING DATASET"
   ]
  },
  {
   "cell_type": "code",
   "execution_count": null,
   "metadata": {
    "colab": {
     "base_uri": "https://localhost:8080/"
    },
    "id": "ZNndK7jqwFv8",
    "outputId": "af7c987d-57bb-49fd-b172-52c6e47b8f63"
   },
   "outputs": [
    {
     "name": "stdout",
     "output_type": "stream",
     "text": [
      "\n",
      "Merging Ratings and Movies datasets...\n",
      "Merged dataset shape: (1000000, 7)\n",
      "\n",
      "Merged Dataset (Ratings and Movies):\n",
      "   userId  movieId  rating           timestamp  \\\n",
      "0   66954      781     5.0 1996-12-18 21:29:37   \n",
      "1    9877      574     4.0 1999-12-18 05:40:14   \n",
      "2   38348     1088     2.0 2001-09-08 18:47:47   \n",
      "3  101952     2706     1.0 2008-02-15 12:12:45   \n",
      "4  140400   275079     3.5 2022-05-29 00:01:03   \n",
      "\n",
      "                                 title  \\\n",
      "0               Stealing Beauty (1996)   \n",
      "1           Spanking the Monkey (1994)   \n",
      "2                 Dirty Dancing (1987)   \n",
      "3                  American Pie (1999)   \n",
      "4  Chip 'n Dale: Rescue Rangers (2022)   \n",
      "\n",
      "                                              genres    year  \n",
      "0                                              Drama  1996.0  \n",
      "1                                       Comedy|Drama  1994.0  \n",
      "2                              Drama|Musical|Romance  1987.0  \n",
      "3                                     Comedy|Romance  1999.0  \n",
      "4  Adventure|Animation|Children|Comedy|Fantasy|My...  2022.0  \n"
     ]
    }
   ],
   "source": [
    "def merge_datasets(ratings, movies):\n",
    "    \"\"\"Merge ratings and movies datasets on 'movieId'.\"\"\"\n",
    "    if ratings.empty or movies.empty:\n",
    "        print(\"Ratings or Movies dataset is empty. Skipping merge.\")\n",
    "        return pd.DataFrame()\n",
    "\n",
    "    print(\"\\nMerging Ratings and Movies datasets...\")\n",
    "    merged_data = pd.merge(ratings, movies, on=\"movieId\", how=\"inner\")\n",
    "    print(f\"Merged dataset shape: {merged_data.shape}\")\n",
    "    return merged_data\n",
    "\n",
    "movie_ratings_reduced = merge_datasets(ratings, movies)\n",
    "\n",
    "# Print the first few rows of the merged dataset\n",
    "print(\"\\nMerged Dataset (Ratings and Movies):\")\n",
    "print(movie_ratings_reduced.head())\n"
   ]
  },
  {
   "cell_type": "markdown",
   "metadata": {
    "id": "LX4hh1aYUOdk"
   },
   "source": [
    "* Merges the ratings and movies datasets on the movieId column using an inner join.\n",
    "* Ensures only movies present in both datasets are included in the merged result.\n",
    "* Prints the shape of the merged dataset to verify the number of rows and columns.\n",
    "* Prepares a unified dataset (movie_ratings_reduced) that combines movie metadata with user rating information for further analysis."
   ]
  },
  {
   "cell_type": "markdown",
   "metadata": {
    "id": "MEqT3ue8xUpB"
   },
   "source": [
    "\n",
    "\n",
    "---\n",
    "\n"
   ]
  },
  {
   "cell_type": "markdown",
   "metadata": {
    "id": "QKlI5WIdjvHd"
   },
   "source": [
    "FETCH META DATA"
   ]
  },
  {
   "cell_type": "markdown",
   "metadata": {
    "id": "W51bDoQIam36"
   },
   "source": [
    "We will now fetch, transform, and save our datasets to prepare them for analysis.\n",
    "\n",
    "* First, we'll fetch metadata from the OMDb API, enriching our movies with details like genre, director, actors, and IMDb ratings. These features will serve as valuable inputs for our regression models.\n",
    "\n",
    "* Next, we'll transform the datasets by converting timestamps in the ratings dataset to readable dates and extracting release years from movie titles. These transformations enhance the dataset's interpretability and analytical potential.\n",
    "\n",
    "* Finally, we'll save the cleaned and enriched datasets as CSV files, ensuring they're ready for future use. This step establishes a well-structured, feature-rich dataset for training and testing regression models."
   ]
  },
  {
   "cell_type": "code",
   "execution_count": null,
   "metadata": {
    "colab": {
     "base_uri": "https://localhost:8080/"
    },
    "id": "NvU-E1PrX6qw",
    "outputId": "d3747c52-1c4a-4df3-d39a-c017cae62181"
   },
   "outputs": [
    {
     "name": "stdout",
     "output_type": "stream",
     "text": [
      "\n",
      "Movie Metadata for 'Inception': {'Title': 'Inception', 'Year': '2010', 'Genre': 'Action, Adventure, Sci-Fi', 'Director': 'Christopher Nolan', 'Actors': 'Leonardo DiCaprio, Joseph Gordon-Levitt, Elliot Page', 'Plot': 'A thief who steals corporate secrets through the use of dream-sharing technology is given the inverse task of planting an idea into the mind of a C.E.O., but his tragic past may doom the project and his team to disaster.', 'IMDb Rating': '8.8', 'Box Office': '$292,587,330'}\n"
     ]
    }
   ],
   "source": [
    "import requests\n",
    "\n",
    "def fetch_movie_metadata(title, year=None, movie_type=\"movie\"):\n",
    "    \"\"\"Fetch movie metadata from OMDb API.\"\"\"\n",
    "    api_key = \"c3c4d1cd\"  # Replace with your valid OMDb API key\n",
    "    url = f\"http://www.omdbapi.com/?t={title}&type={movie_type}&apikey={api_key}\"\n",
    "    if year:\n",
    "        url += f\"&y={year}\"\n",
    "\n",
    "    try:\n",
    "        response = requests.get(url, timeout=10)\n",
    "        response.raise_for_status()\n",
    "        data = response.json()\n",
    "\n",
    "        if data.get(\"Response\") == \"True\" and data.get(\"Title\", \"\").lower() == title.lower():\n",
    "            metadata = {\n",
    "                \"Title\": data.get(\"Title\"),\n",
    "                \"Year\": data.get(\"Year\"),\n",
    "                \"Genre\": data.get(\"Genre\"),\n",
    "                \"Director\": data.get(\"Director\"),\n",
    "                \"Actors\": data.get(\"Actors\"),\n",
    "                \"Plot\": data.get(\"Plot\"),\n",
    "                \"IMDb Rating\": data.get(\"imdbRating\"),\n",
    "                \"Box Office\": data.get(\"BoxOffice\")\n",
    "            }\n",
    "            return metadata\n",
    "        else:\n",
    "            return {\"Error\": f\"Title mismatch or movie not found: {data.get('Error', 'N/A')}\"}\n",
    "    except requests.exceptions.RequestException as e:\n",
    "        return {\"Error\": f\"Request error: {str(e)}\"}\n",
    "\n",
    "# Example usage\n",
    "movie_metadata = fetch_movie_metadata(\"Inception\", year=2010)\n",
    "print(\"\\nMovie Metadata for 'Inception':\", movie_metadata)"
   ]
  },
  {
   "cell_type": "markdown",
   "metadata": {
    "id": "_DPuZH7YvbF7"
   },
   "source": [
    "TRANSFORM DATA"
   ]
  },
  {
   "cell_type": "code",
   "execution_count": null,
   "metadata": {
    "colab": {
     "base_uri": "https://localhost:8080/"
    },
    "id": "wz5WrJRUX-qi",
    "outputId": "bf78577e-a22a-40ab-e515-d674aaf33a89"
   },
   "outputs": [
    {
     "name": "stdout",
     "output_type": "stream",
     "text": [
      "Converted timestamps in Ratings dataset.\n",
      "Extracted release years from movie titles in Movies dataset.\n",
      "\n",
      "Transformed Ratings Dataset:\n",
      "   userId  movieId  rating           timestamp\n",
      "0   66954      781     5.0 1996-12-18 21:29:37\n",
      "1    9877      574     4.0 1999-12-18 05:40:14\n",
      "2   38348     1088     2.0 2001-09-08 18:47:47\n",
      "3  101952     2706     1.0 2008-02-15 12:12:45\n",
      "4  140400   275079     3.5 2022-05-29 00:01:03\n",
      "\n",
      "Transformed Movies Dataset:\n",
      "   movieId                               title  \\\n",
      "0        1                    Toy Story (1995)   \n",
      "1        2                      Jumanji (1995)   \n",
      "2        3             Grumpier Old Men (1995)   \n",
      "3        4            Waiting to Exhale (1995)   \n",
      "4        5  Father of the Bride Part II (1995)   \n",
      "\n",
      "                                        genres    year  \n",
      "0  Adventure|Animation|Children|Comedy|Fantasy  1995.0  \n",
      "1                   Adventure|Children|Fantasy  1995.0  \n",
      "2                               Comedy|Romance  1995.0  \n",
      "3                         Comedy|Drama|Romance  1995.0  \n",
      "4                                       Comedy  1995.0  \n"
     ]
    }
   ],
   "source": [
    "def transform_datasets(ratings, movies):\n",
    "    \"\"\"Transform datasets: Convert timestamps and extract release years.\"\"\"\n",
    "    if not ratings.empty:\n",
    "        ratings['timestamp'] = pd.to_datetime(ratings['timestamp'], unit='s')\n",
    "        print(\"Converted timestamps in Ratings dataset.\")\n",
    "\n",
    "    if not movies.empty:\n",
    "        movies['year'] = movies['title'].str.extract(r'\\((\\d{4})\\)')\n",
    "        movies['year'] = pd.to_numeric(movies['year'], errors='coerce')\n",
    "        print(\"Extracted release years from movie titles in Movies dataset.\")\n",
    "\n",
    "    return ratings, movies\n",
    "\n",
    "ratings, movies = transform_datasets(ratings, movies)\n",
    "\n",
    "# Print the first few rows of the transformed ratings dataset\n",
    "print(\"\\nTransformed Ratings Dataset:\")\n",
    "print(ratings.head())\n",
    "\n",
    "# Print the first few rows of the transformed movies dataset\n",
    "print(\"\\nTransformed Movies Dataset:\")\n",
    "print(movies.head())"
   ]
  },
  {
   "cell_type": "markdown",
   "metadata": {
    "id": "muGCCXx_wVAX"
   },
   "source": [
    "SAVING DATASET"
   ]
  },
  {
   "cell_type": "code",
   "execution_count": null,
   "metadata": {
    "colab": {
     "base_uri": "https://localhost:8080/"
    },
    "id": "aJDiQuk-YJ-U",
    "outputId": "375ba156-d92f-4313-f1bd-0b86273a64c4"
   },
   "outputs": [
    {
     "name": "stdout",
     "output_type": "stream",
     "text": [
      "Saved dataset to /content/final_movie_ratings_reduced.csv\n"
     ]
    }
   ],
   "source": [
    "def save_dataset(dataset, file_name):\n",
    "    \"\"\"Save the final dataset to a CSV file.\"\"\"\n",
    "    if dataset.empty:\n",
    "        print(f\"Dataset is empty. Skipping save for {file_name}.\")\n",
    "        return\n",
    "\n",
    "    output_path = f\"/content/{file_name}\"\n",
    "    dataset.to_csv(output_path, index=False)\n",
    "    print(f\"Saved dataset to {output_path}\")\n",
    "\n",
    "save_dataset(movie_ratings_reduced, \"final_movie_ratings_reduced.csv\")"
   ]
  },
  {
   "cell_type": "markdown",
   "metadata": {
    "id": "z2PS-GKTU0h9"
   },
   "source": [
    "* Saves the movie_ratings_reduced dataset as a CSV file named final_movie_ratings_reduced.csv.\n",
    "* Checks if the dataset is empty before saving to avoid creating an empty file.\n",
    "* Saves the file to the /content/ directory with no index column for cleaner output.\n",
    "* Provides a confirmation message with the file path once the dataset is successfully saved."
   ]
  },
  {
   "cell_type": "markdown",
   "metadata": {
    "id": "4y9XGk_0xW6F"
   },
   "source": [
    "\n",
    "\n",
    "---\n"
   ]
  },
  {
   "cell_type": "markdown",
   "metadata": {
    "id": "dKkeuPpQYMQW"
   },
   "source": [
    "DATA PRE PROCESSING\n"
   ]
  },
  {
   "cell_type": "markdown",
   "metadata": {
    "id": "tjVEW9yyx820"
   },
   "source": [
    "DATA CLEANING"
   ]
  },
  {
   "cell_type": "markdown",
   "metadata": {
    "id": "lpOeZLvWbfYP"
   },
   "source": [
    "To prepare our dataset for analysis, we will clean, transform, and encode the data to enhance its structure and usability.\n",
    "\n",
    "* First, we'll clean and transform the data by handling missing values and duplicates, converting timestamps to readable dates, and extracting the release year from movie titles. These steps ensure a clean, consistent, and feature-rich dataset.\n",
    "\n",
    "* Next, we'll create a sparse user-movie interaction matrix. By mapping userId and movieId to consecutive integers, we construct a CSR sparse matrix to efficiently represent user-movie interactions. This matrix allows for scalable computations and provides insights into dataset sparsity, which is crucial for recommendation system design."
   ]
  },
  {
   "cell_type": "code",
   "execution_count": null,
   "metadata": {
    "colab": {
     "base_uri": "https://localhost:8080/"
    },
    "id": "-0sKFtjfYQDo",
    "outputId": "99acccc4-ca85-43dd-d1bd-8e2c82d93e96"
   },
   "outputs": [
    {
     "name": "stdout",
     "output_type": "stream",
     "text": [
      "\n",
      "Cleaning and transforming dataset...\n",
      "Dropped missing values. Remaining rows: 998983\n",
      "Dropped duplicate rows. Remaining rows: 998983\n",
      "Converted timestamps to datetime.\n",
      "Extracted release year from movie titles.\n"
     ]
    }
   ],
   "source": [
    "from datetime import datetime\n",
    "import pandas as pd\n",
    "\n",
    "def clean_and_transform_data(data):\n",
    "    \"\"\"\n",
    "    Clean and transform the dataset:\n",
    "    - Drop missing values\n",
    "    - Drop duplicates\n",
    "    - Convert timestamp to human-readable format\n",
    "    - Extract release year from movie titles\n",
    "    \"\"\"\n",
    "    print(\"\\nCleaning and transforming dataset...\")\n",
    "\n",
    "    # Drop rows with missing values\n",
    "    data_cleaned = data.dropna()\n",
    "    print(f\"Dropped missing values. Remaining rows: {data_cleaned.shape[0]}\")\n",
    "\n",
    "    # Drop duplicate rows\n",
    "    data_cleaned = data_cleaned.drop_duplicates()\n",
    "    print(f\"Dropped duplicate rows. Remaining rows: {data_cleaned.shape[0]}\")\n",
    "\n",
    "    # Convert timestamp to datetime\n",
    "    data_cleaned['timestamp'] = pd.to_datetime(data_cleaned['timestamp'], unit='s')\n",
    "    print(\"Converted timestamps to datetime.\")\n",
    "\n",
    "    # Extract release year from movie titles\n",
    "    data_cleaned['year'] = data_cleaned['title'].str.extract(r'\\((\\d{4})\\)')\n",
    "    data_cleaned['year'] = pd.to_numeric(data_cleaned['year'], errors='coerce')\n",
    "    print(\"Extracted release year from movie titles.\")\n",
    "\n",
    "    return data_cleaned\n",
    "\n",
    "# Clean the dataset\n",
    "movie_ratings_cleaned = clean_and_transform_data(movie_ratings_reduced)"
   ]
  },
  {
   "cell_type": "markdown",
   "metadata": {
    "id": "ghtchcXgU79J"
   },
   "source": [
    "* Cleans and transforms the movie_ratings_reduced dataset to prepare it for analysis.\n",
    "* Drops missing values and removes duplicate rows to ensure data integrity and reduce redundancy.\n",
    "* Converts the timestamp column to a human-readable datetime format for better interpretability.\n",
    "* Extracts the release year from the movie title using a regex pattern and converts it to a numeric format.\n",
    "* Returns a clean, structured dataset (movie_ratings_cleaned) ready for analysis and modeling."
   ]
  },
  {
   "cell_type": "markdown",
   "metadata": {
    "id": "WPVEdj0CyE6Q"
   },
   "source": [
    "SPARSE MATRIX"
   ]
  },
  {
   "cell_type": "code",
   "execution_count": null,
   "metadata": {
    "colab": {
     "base_uri": "https://localhost:8080/"
    },
    "id": "P1V_s_6WYWD-",
    "outputId": "6da40029-8733-4f4a-ab40-7e7ac15637ae"
   },
   "outputs": [
    {
     "name": "stdout",
     "output_type": "stream",
     "text": [
      "\n",
      "Creating sparse user-movie interaction matrix...\n",
      "Sparse Matrix Shape: (167241, 27625)\n",
      "Sparsity: 99.98%\n"
     ]
    }
   ],
   "source": [
    "from scipy.sparse import csr_matrix\n",
    "\n",
    "def create_sparse_matrix(data):\n",
    "    \"\"\"\n",
    "    Create a sparse user-movie interaction matrix:\n",
    "    - Map userId and movieId to consecutive integers\n",
    "    - Create a CSR sparse matrix\n",
    "    - Calculate sparsity\n",
    "    \"\"\"\n",
    "    print(\"\\nCreating sparse user-movie interaction matrix...\")\n",
    "\n",
    "    # Map userId and movieId to consecutive integers\n",
    "    user_id_map = {user_id: idx for idx, user_id in enumerate(data['userId'].unique())}\n",
    "    movie_id_map = {movie_id: idx for idx, movie_id in enumerate(data['movieId'].unique())}\n",
    "\n",
    "    data['userId_mapped'] = data['userId'].map(user_id_map)\n",
    "    data['movieId_mapped'] = data['movieId'].map(movie_id_map)\n",
    "\n",
    "    # Create sparse matrix\n",
    "    sparse_matrix = csr_matrix(\n",
    "        (data['rating'], (data['userId_mapped'], data['movieId_mapped'])),\n",
    "        shape=(len(user_id_map), len(movie_id_map))\n",
    "    )\n",
    "\n",
    "    # Calculate sparsity\n",
    "    sparsity = 1 - (sparse_matrix.nnz / (sparse_matrix.shape[0] * sparse_matrix.shape[1]))\n",
    "    print(f\"Sparse Matrix Shape: {sparse_matrix.shape}\")\n",
    "    print(f\"Sparsity: {sparsity:.2%}\")\n",
    "\n",
    "    return sparse_matrix, data\n",
    "\n",
    "# Create sparse matrix\n",
    "sparse_user_movie_matrix, movie_ratings_cleaned = create_sparse_matrix(movie_ratings_cleaned)"
   ]
  },
  {
   "cell_type": "markdown",
   "metadata": {
    "id": "RzgKwrGWVE-y"
   },
   "source": [
    "* Creates a sparse user-movie interaction matrix to represent user ratings for movies.\n",
    "* Maps userId and movieId to unique consecutive integers to create an efficient matrix structure.\n",
    "* Builds a CSR (Compressed Sparse Row) matrix where rows correspond to users, columns correspond to movies, and values represent movie ratings.\n",
    "* Calculates sparsity to measure how much of the matrix is filled with non-zero values, highlighting the sparsity typical in recommendation systems.\n",
    "* Returns the sparse matrix and the updated dataset with mapped user and movie IDs for efficient processing."
   ]
  },
  {
   "cell_type": "markdown",
   "metadata": {
    "id": "6GuK9xtZyNBV"
   },
   "source": [
    "ONE-HOT ENCODING FOR GENRES"
   ]
  },
  {
   "cell_type": "markdown",
   "metadata": {
    "id": "Fbse4DCubzP2"
   },
   "source": [
    "We'll one-hot encode the 'genres' column, converting it into a tidy, machine-readable format. Each unique genre becomes a separate binary column, allowing models to leverage genre information for prediction. This process increases the model's ability to capture relationships between movie genres and user preferences."
   ]
  },
  {
   "cell_type": "code",
   "execution_count": null,
   "metadata": {
    "colab": {
     "base_uri": "https://localhost:8080/"
    },
    "id": "Dbqio62LYbVi",
    "outputId": "8eab6938-1504-43fc-9149-5fbcb135f681"
   },
   "outputs": [
    {
     "name": "stdout",
     "output_type": "stream",
     "text": [
      "\n",
      "Encoding genres into tidy format...\n",
      "One-hot encoded genres. Number of genres: 20\n"
     ]
    }
   ],
   "source": [
    "def encode_genres(data):\n",
    "    \"\"\"\n",
    "    Perform one-hot encoding for the 'genres' column:\n",
    "    - Split genres into individual categories\n",
    "    - Create a one-hot encoded matrix\n",
    "    \"\"\"\n",
    "    print(\"\\nEncoding genres into tidy format...\")\n",
    "\n",
    "    # Ensure 'genres' column has no missing values\n",
    "    data['genres'] = data['genres'].fillna('Unknown')\n",
    "\n",
    "    # Perform one-hot encoding\n",
    "    genres_split = data['genres'].str.get_dummies(sep='|')\n",
    "    print(f\"One-hot encoded genres. Number of genres: {genres_split.shape[1]}\")\n",
    "\n",
    "    # Merge encoded genres with the original dataset\n",
    "    data_encoded = pd.concat([data, genres_split], axis=1)\n",
    "\n",
    "    # Drop the original 'genres' column if no longer needed\n",
    "    data_encoded.drop(columns=['genres'], inplace=True)\n",
    "\n",
    "    return data_encoded\n",
    "\n",
    "# One-hot encode genres\n",
    "movie_ratings_with_genres = encode_genres(movie_ratings_cleaned)"
   ]
  },
  {
   "cell_type": "markdown",
   "metadata": {
    "id": "j0QEACRaxcqS"
   },
   "source": [
    "\n",
    "\n",
    "---\n",
    "\n"
   ]
  },
  {
   "cell_type": "markdown",
   "metadata": {
    "id": "AwkrNzmDzbdd"
   },
   "source": [
    "TF-IDF VECTORIZATION OF TITLES"
   ]
  },
  {
   "cell_type": "markdown",
   "metadata": {
    "id": "niVvGFGneO39"
   },
   "source": [
    "To further enrich our dataset, we will generate a TF-IDF matrix for the movie titles. This step converts the textual information in the 'title' column into a numerical representation, allowing models to leverage title-based patterns.\n",
    "\n",
    "We will achieve this using Term Frequency-Inverse Document Frequency (TF-IDF), which highlights important words in movie titles while down-weighting common words like \"the\" or \"movie\". The TfidfVectorizer will be used to tokenize and transform the titles into a sparse matrix.\n",
    "\n",
    "By limiting the vocabulary to the top 5,000 features, we ensure computational efficiency while retaining meaningful information. This matrix serves as a powerful feature set, enabling our models to better understand the impact of movie titles on user ratings. The final TF-IDF matrix and feature names will be displayed to verify the transformation."
   ]
  },
  {
   "cell_type": "code",
   "execution_count": null,
   "metadata": {
    "colab": {
     "base_uri": "https://localhost:8080/"
    },
    "id": "t2WcbayZYei7",
    "outputId": "e74386b7-29f7-4b74-9d54-375eb2f0d355"
   },
   "outputs": [
    {
     "name": "stdout",
     "output_type": "stream",
     "text": [
      "\n",
      "Generating TF-IDF matrix...\n",
      "TF-IDF Matrix Shape: (998983, 5000)\n"
     ]
    }
   ],
   "source": [
    "from sklearn.feature_extraction.text import TfidfVectorizer\n",
    "\n",
    "def generate_tfidf_matrix(data, column, max_features=5000):\n",
    "    \"\"\"\n",
    "    Generate a TF-IDF matrix for a specified column.\n",
    "    - Fit and transform the column using TF-IDF\n",
    "    \"\"\"\n",
    "    print(\"\\nGenerating TF-IDF matrix...\")\n",
    "\n",
    "    # Ensure no missing values in the specified column\n",
    "    data[column] = data[column].fillna('Unknown')\n",
    "\n",
    "    # Initialize TF-IDF vectorizer\n",
    "    tfidf = TfidfVectorizer(stop_words='english', max_features=max_features)\n",
    "\n",
    "    # Fit and transform the column\n",
    "    tfidf_matrix = tfidf.fit_transform(data[column])\n",
    "\n",
    "    print(f\"TF-IDF Matrix Shape: {tfidf_matrix.shape}\")\n",
    "    return tfidf_matrix, tfidf.get_feature_names_out()\n",
    "\n",
    "# Generate TF-IDF matrix for movie titles\n",
    "tfidf_matrix, tfidf_features = generate_tfidf_matrix(movie_ratings_cleaned, 'title')"
   ]
  },
  {
   "cell_type": "code",
   "execution_count": null,
   "metadata": {
    "colab": {
     "base_uri": "https://localhost:8080/"
    },
    "id": "a5EuWTJ8Ywpi",
    "outputId": "c162e57c-ec7e-4545-fe65-62cc40709206"
   },
   "outputs": [
    {
     "name": "stdout",
     "output_type": "stream",
     "text": [
      "TF-IDF Matrix Shape: (998983, 5000)\n",
      "Sample TF-IDF Features: ['000' '10' '100' '1000' '101' '102' '11' '1138' '12' '120']\n"
     ]
    }
   ],
   "source": [
    "# Ensure there are no missing values in the 'title' column\n",
    "movie_ratings_cleaned['title'] = movie_ratings_cleaned['title'].fillna('Unknown')\n",
    "\n",
    "# Initialize the TF-IDF vectorizer\n",
    "tfidf = TfidfVectorizer(stop_words='english', max_features=5000)\n",
    "\n",
    "# Fit and transform the 'title' column to generate the TF-IDF matrix\n",
    "tfidf_matrix = tfidf.fit_transform(movie_ratings_cleaned['title'])\n",
    "\n",
    "# Display the shape of the TF-IDF matrix\n",
    "print(\"TF-IDF Matrix Shape:\", tfidf_matrix.shape)\n",
    "\n",
    "# Display feature names for TF-IDF (optional, to inspect the vocabulary)\n",
    "print(\"Sample TF-IDF Features:\", tfidf.get_feature_names_out()[:10])"
   ]
  },
  {
   "cell_type": "markdown",
   "metadata": {
    "id": "3WIPwfo_et3F"
   },
   "source": [
    "Let's now **normalize, sample, and validate** the data for optimal efficiency and accuracy.\n",
    "\n",
    "First, we will normalize the sparse user-movie interaction matrix. By **scaling non-zero elements using MinMaxScaler**, we ensure the interaction values lie within a consistent range. This normalization step makes the dataset more suitable for machine learning models that are sensitive to scale, such as distance-based algorithms.\n",
    "\n",
    "Next, we will sample a subset of users and movies to reduce computational complexity. By randomly selecting 10% of users and movies, we **create a smaller, more manageable sparse matrix**. This step allows for quicker testing and debugging of our models without compromising on data diversity.\n",
    "\n",
    "Then, we will validate the data's structure and save it. The tidy dataset and the sparse matrix will be checked for missing values, unnamed columns, and overall structure consistency. **Once validated, we will save the processed dataset as a CSV file and save the sparse matrix as a compressed .npz file for easy reloading.** These files will serve as the foundation for model development and evaluation."
   ]
  },
  {
   "cell_type": "markdown",
   "metadata": {
    "id": "8iLhl5wPzryq"
   },
   "source": [
    "NORMALIZING THE SPARSE MATRIX"
   ]
  },
  {
   "cell_type": "code",
   "execution_count": null,
   "metadata": {
    "colab": {
     "base_uri": "https://localhost:8080/"
    },
    "id": "A3McRsRjYodR",
    "outputId": "d56d0fa9-8dfd-4123-b96f-6e7e875447ac"
   },
   "outputs": [
    {
     "name": "stdout",
     "output_type": "stream",
     "text": [
      "\n",
      "Normalizing sparse matrix...\n",
      "First 5 normalized values: [1.         0.77777778 0.55555556 1.         0.77777778]\n"
     ]
    }
   ],
   "source": [
    "from sklearn.preprocessing import MinMaxScaler\n",
    "\n",
    "def normalize_sparse_matrix(sparse_matrix):\n",
    "    \"\"\"\n",
    "    Normalize the non-zero elements of a sparse matrix.\n",
    "    \"\"\"\n",
    "    print(\"\\nNormalizing sparse matrix...\")\n",
    "\n",
    "    # Extract non-zero elements\n",
    "    scaler = MinMaxScaler()\n",
    "    non_zero_values = sparse_matrix.data.reshape(-1, 1)\n",
    "\n",
    "    # Normalize non-zero values\n",
    "    normalized_values = scaler.fit_transform(non_zero_values).flatten()\n",
    "\n",
    "    # Recreate the sparse matrix with normalized values\n",
    "    sparse_matrix_normalized = csr_matrix(\n",
    "        (normalized_values, sparse_matrix.indices, sparse_matrix.indptr),\n",
    "        shape=sparse_matrix.shape\n",
    "    )\n",
    "\n",
    "    print(f\"First 5 normalized values: {sparse_matrix_normalized.data[:5]}\")\n",
    "    return sparse_matrix_normalized\n",
    "\n",
    "# Normalize the sparse matrix\n",
    "sparse_user_movie_matrix_normalized = normalize_sparse_matrix(sparse_user_movie_matrix)\n"
   ]
  },
  {
   "cell_type": "code",
   "execution_count": null,
   "metadata": {
    "colab": {
     "base_uri": "https://localhost:8080/"
    },
    "id": "Q6i6vKH6Y1Rh",
    "outputId": "d4448d87-c936-4977-ea6b-d808df59089c"
   },
   "outputs": [
    {
     "name": "stdout",
     "output_type": "stream",
     "text": [
      "Sampled Sparse Matrix Shape: (16724, 2762)\n",
      "Non-zero elements in sampled matrix: 10308\n"
     ]
    }
   ],
   "source": [
    "import numpy as np\n",
    "from scipy.sparse import csr_matrix\n",
    "\n",
    "# Get unique user IDs and movie IDs from the sparse matrix\n",
    "unique_users = np.arange(sparse_user_movie_matrix.shape[0])\n",
    "unique_movies = np.arange(sparse_user_movie_matrix.shape[1])\n",
    "\n",
    "# Randomly sample 10% of users and movies\n",
    "sampled_users = np.random.choice(unique_users, size=int(0.1 * len(unique_users)), replace=False)\n",
    "sampled_movies = np.random.choice(unique_movies, size=int(0.1 * len(unique_movies)), replace=False)\n",
    "\n",
    "# Filter the sparse matrix for the sampled users and movies\n",
    "sampled_sparse_matrix = sparse_user_movie_matrix[sampled_users, :][:, sampled_movies]\n",
    "\n",
    "# Display the shape of the sampled sparse matrix\n",
    "print(f\"Sampled Sparse Matrix Shape: {sampled_sparse_matrix.shape}\")\n",
    "\n",
    "# Display basic information about the sampled sparse matrix\n",
    "print(f\"Non-zero elements in sampled matrix: {sampled_sparse_matrix.nnz}\")"
   ]
  },
  {
   "cell_type": "markdown",
   "metadata": {
    "id": "tMmuEvWRWQA8"
   },
   "source": [
    "\n",
    "* Samples 10% of users and movies from the sparse user-movie interaction matrix for efficient analysis and computation.\n",
    "* Randomly selects a subset of users and movies using np.random.choice without replacement to ensure no duplicates.\n",
    "* Filters the sparse matrix to keep only the interactions for the sampled users and movies.\n",
    "* Prints the shape of the sampled sparse matrix and the total number of non-zero elements in it.\n",
    "* Reduces computational load and memory usage, enabling faster processing and model training."
   ]
  },
  {
   "cell_type": "code",
   "execution_count": null,
   "metadata": {
    "colab": {
     "base_uri": "https://localhost:8080/"
    },
    "id": "7bzL6qWwY7rw",
    "outputId": "f5f91f05-17e9-4fcf-830b-212a03543028"
   },
   "outputs": [
    {
     "name": "stdout",
     "output_type": "stream",
     "text": [
      "\n",
      "Validating tidy data structure...\n",
      "No missing values found.\n",
      "Dataset structure is valid.\n",
      "\n",
      "Saving processed data...\n",
      "Processed DataFrame saved to tidy_movie_ratings.csv.\n",
      "Sparse matrix saved to user_movie_matrix_normalized.npz.\n"
     ]
    }
   ],
   "source": [
    "from scipy.sparse import save_npz\n",
    "\n",
    "def validate_and_save_data(data, sparse_matrix, dataframe_file, matrix_file):\n",
    "    \"\"\"\n",
    "    Validate the dataset for tidy data structure and save it along with the sparse matrix.\n",
    "    \"\"\"\n",
    "    print(\"\\nValidating tidy data structure...\")\n",
    "\n",
    "    # Check for missing values\n",
    "    if data.isnull().sum().any():\n",
    "        raise ValueError(\"Tidy dataset contains missing values.\")\n",
    "    print(\"No missing values found.\")\n",
    "\n",
    "    # Check for consistent columns and rows\n",
    "    if not all(data.columns):\n",
    "        raise ValueError(\"Tidy dataset contains empty or unnamed columns.\")\n",
    "    print(\"Dataset structure is valid.\")\n",
    "\n",
    "    # Save the tidy dataset and sparse matrix\n",
    "    print(\"\\nSaving processed data...\")\n",
    "    data.to_csv(dataframe_file, index=False)\n",
    "    save_npz(matrix_file, sparse_matrix)\n",
    "    print(f\"Processed DataFrame saved to {dataframe_file}.\")\n",
    "    print(f\"Sparse matrix saved to {matrix_file}.\")\n",
    "\n",
    "# Save validated and tidy data\n",
    "validate_and_save_data(movie_ratings_with_genres, sparse_user_movie_matrix_normalized,\n",
    "                       \"tidy_movie_ratings.csv\", \"user_movie_matrix_normalized.npz\")"
   ]
  },
  {
   "cell_type": "markdown",
   "metadata": {
    "id": "FfiRQcb1fywl"
   },
   "source": [
    "To gain insights into the structure, relationships, and patterns within the dataset, Let's proceed with the Exploratory Data Analysis (EDA). This step helps identify key trends and guides our feature selection process.\n",
    "\n",
    "* Summary Statistics: We will review key statistics for all columns, data types, missing values, and the number of unique users and movies. This analysis offers a high-level overview of the data's distribution and quality.\n",
    "\n",
    "* Rating Distribution: We will visualize the distribution of movie ratings to understand user preferences and identify potential rating biases.\n",
    "\n",
    "* Top-Rated Movies: By calculating the average rating for each movie, we will identify the top 10 highest-rated movies in the dataset. This reveals which movies are most loved by users.\n",
    "\n",
    "* Most Active Users: We will identify the users with the highest number of ratings, helping us understand the most engaged users in the system.\n",
    "\n",
    "* Movie Popularity: We will rank the most popular movies based on the total number of ratings they received. Popular movies often drive user engagement, making this analysis crucial for recommender systems.\n",
    "\n",
    "* Genre Analysis: Using one-hot encoded genre columns, we will examine the distribution of movie genres. This analysis highlights which genres are most common and can inform feature engineering.\n",
    "\n",
    "* Correlation Analysis: We will compute and display the correlation matrix for numeric columns. This step identifies relationships between features, such as the link between release year and average rating.\n",
    "\n",
    "* Sparsity Analysis: Finally, we will analyze the sparsity of the user-movie interaction matrix. This analysis helps us understand the proportion of empty cells in the matrix, which is a key factor in designing recommendation systems.\n",
    "\n",
    "* These EDA steps provide a comprehensive understanding of the data, uncover hidden patterns, and ensure readiness for the subsequent modeling phase."
   ]
  },
  {
   "cell_type": "markdown",
   "metadata": {
    "id": "hacCwL9gxgMi"
   },
   "source": [
    "\n",
    "\n",
    "--- ---\n",
    "\n",
    "\n",
    "\n"
   ]
  },
  {
   "cell_type": "markdown",
   "metadata": {
    "id": "hn5eKYsn0RX0"
   },
   "source": [
    "EXPLORATORY DATA ANALYSIS\n"
   ]
  },
  {
   "cell_type": "markdown",
   "metadata": {
    "id": "_gaDApRG0WwB"
   },
   "source": [
    "SUMMARY STATISTICS\n"
   ]
  },
  {
   "cell_type": "code",
   "execution_count": null,
   "metadata": {
    "colab": {
     "base_uri": "https://localhost:8080/"
    },
    "id": "jHEmlODP0Uot",
    "outputId": "a7790e56-afd1-447e-a0c6-f33a4bbca74f"
   },
   "outputs": [
    {
     "name": "stdout",
     "output_type": "stream",
     "text": [
      "\n",
      "Summary Statistics:\n",
      "               userId        movieId         rating  \\\n",
      "count   998983.000000  998983.000000  998983.000000   \n",
      "unique            NaN            NaN            NaN   \n",
      "top               NaN            NaN            NaN   \n",
      "freq              NaN            NaN            NaN   \n",
      "mean    100342.116431   29197.881653       3.539682   \n",
      "min          1.000000       1.000000       0.500000   \n",
      "25%      50159.500000    1230.000000       3.000000   \n",
      "50%     100316.000000    3448.000000       3.500000   \n",
      "75%     150502.000000   44191.000000       4.000000   \n",
      "max     200948.000000  292755.000000       5.000000   \n",
      "std      57917.886034   50806.414205       1.059938   \n",
      "\n",
      "                            timestamp                             title  \\\n",
      "count                          998983                            998983   \n",
      "unique                            NaN                             27604   \n",
      "top                               NaN  Shawshank Redemption, The (1994)   \n",
      "freq                              NaN                              3251   \n",
      "mean    2010-05-26 17:54:51.956679168                               NaN   \n",
      "min               1996-02-01 14:33:35                               NaN   \n",
      "25%        2003-04-25 00:22:56.500000                               NaN   \n",
      "50%               2010-04-23 11:02:12                               NaN   \n",
      "75%        2017-08-12 20:54:32.500000                               NaN   \n",
      "max               2023-10-13 02:23:19                               NaN   \n",
      "std                               NaN                               NaN   \n",
      "\n",
      "                 year  userId_mapped  movieId_mapped  (no genres listed)  \\\n",
      "count   998983.000000  998983.000000    998983.00000       998983.000000   \n",
      "unique            NaN            NaN             NaN                 NaN   \n",
      "top               NaN            NaN             NaN                 NaN   \n",
      "freq              NaN            NaN             NaN                 NaN   \n",
      "mean      1995.612576   50097.080610      2688.33909            0.001535   \n",
      "min       1878.000000       0.000000         0.00000            0.000000   \n",
      "25%       1990.000000   15489.000000       550.00000            0.000000   \n",
      "50%       1998.000000   38580.000000      1384.00000            0.000000   \n",
      "75%       2005.000000   76423.000000      3194.00000            0.000000   \n",
      "max       2023.000000  167240.000000     27624.00000            1.000000   \n",
      "std         15.362131   41763.874375      3763.79133            0.039143   \n",
      "\n",
      "               Action  ...      Film-Noir         Horror           IMAX  \\\n",
      "count   998983.000000  ...  998983.000000  998983.000000  998983.000000   \n",
      "unique            NaN  ...            NaN            NaN            NaN   \n",
      "top               NaN  ...            NaN            NaN            NaN   \n",
      "freq              NaN  ...            NaN            NaN            NaN   \n",
      "mean         0.302363  ...       0.009462       0.077647       0.046545   \n",
      "min          0.000000  ...       0.000000       0.000000       0.000000   \n",
      "25%          0.000000  ...       0.000000       0.000000       0.000000   \n",
      "50%          0.000000  ...       0.000000       0.000000       0.000000   \n",
      "75%          1.000000  ...       0.000000       0.000000       0.000000   \n",
      "max          1.000000  ...       1.000000       1.000000       1.000000   \n",
      "std          0.459282  ...       0.096810       0.267615       0.210663   \n",
      "\n",
      "              Musical        Mystery        Romance         Sci-Fi  \\\n",
      "count   998983.000000  998983.000000  998983.000000  998983.000000   \n",
      "unique            NaN            NaN            NaN            NaN   \n",
      "top               NaN            NaN            NaN            NaN   \n",
      "freq              NaN            NaN            NaN            NaN   \n",
      "mean         0.036539       0.081900       0.172864       0.178486   \n",
      "min          0.000000       0.000000       0.000000       0.000000   \n",
      "25%          0.000000       0.000000       0.000000       0.000000   \n",
      "50%          0.000000       0.000000       0.000000       0.000000   \n",
      "75%          0.000000       0.000000       0.000000       0.000000   \n",
      "max          1.000000       1.000000       1.000000       1.000000   \n",
      "std          0.187628       0.274213       0.378130       0.382921   \n",
      "\n",
      "             Thriller            War        Western  \n",
      "count   998983.000000  998983.000000  998983.000000  \n",
      "unique            NaN            NaN            NaN  \n",
      "top               NaN            NaN            NaN  \n",
      "freq              NaN            NaN            NaN  \n",
      "mean         0.271013       0.049917       0.018527  \n",
      "min          0.000000       0.000000       0.000000  \n",
      "25%          0.000000       0.000000       0.000000  \n",
      "50%          0.000000       0.000000       0.000000  \n",
      "75%          1.000000       0.000000       0.000000  \n",
      "max          1.000000       1.000000       1.000000  \n",
      "std          0.444483       0.217773       0.134847  \n",
      "\n",
      "[11 rows x 28 columns]\n",
      "\n",
      "Data Types:\n",
      "userId                         int64\n",
      "movieId                        int64\n",
      "rating                       float64\n",
      "timestamp             datetime64[ns]\n",
      "title                         object\n",
      "year                           int64\n",
      "userId_mapped                  int64\n",
      "movieId_mapped                 int64\n",
      "(no genres listed)             int64\n",
      "Action                         int64\n",
      "Adventure                      int64\n",
      "Animation                      int64\n",
      "Children                       int64\n",
      "Comedy                         int64\n",
      "Crime                          int64\n",
      "Documentary                    int64\n",
      "Drama                          int64\n",
      "Fantasy                        int64\n",
      "Film-Noir                      int64\n",
      "Horror                         int64\n",
      "IMAX                           int64\n",
      "Musical                        int64\n",
      "Mystery                        int64\n",
      "Romance                        int64\n",
      "Sci-Fi                         int64\n",
      "Thriller                       int64\n",
      "War                            int64\n",
      "Western                        int64\n",
      "dtype: object\n",
      "\n",
      "Missing Values:\n",
      "userId                0\n",
      "movieId               0\n",
      "rating                0\n",
      "timestamp             0\n",
      "title                 0\n",
      "year                  0\n",
      "userId_mapped         0\n",
      "movieId_mapped        0\n",
      "(no genres listed)    0\n",
      "Action                0\n",
      "Adventure             0\n",
      "Animation             0\n",
      "Children              0\n",
      "Comedy                0\n",
      "Crime                 0\n",
      "Documentary           0\n",
      "Drama                 0\n",
      "Fantasy               0\n",
      "Film-Noir             0\n",
      "Horror                0\n",
      "IMAX                  0\n",
      "Musical               0\n",
      "Mystery               0\n",
      "Romance               0\n",
      "Sci-Fi                0\n",
      "Thriller              0\n",
      "War                   0\n",
      "Western               0\n",
      "dtype: int64\n",
      "\n",
      "Number of unique users: 167241\n",
      "Number of unique movies: 27625\n"
     ]
    }
   ],
   "source": [
    "def summary_statistics(data):\n",
    "    \"\"\"\n",
    "    Print summary statistics for the dataset.\n",
    "    \"\"\"\n",
    "    print(\"\\nSummary Statistics:\")\n",
    "    print(data.describe(include='all'))\n",
    "    print(\"\\nData Types:\")\n",
    "    print(data.dtypes)\n",
    "    print(\"\\nMissing Values:\")\n",
    "    print(data.isnull().sum())\n",
    "    print(f\"\\nNumber of unique users: {data['userId'].nunique()}\")\n",
    "    print(f\"Number of unique movies: {data['movieId'].nunique()}\")\n",
    "\n",
    "# Perform summary statistics\n",
    "summary_statistics(movie_ratings_with_genres)"
   ]
  },
  {
   "cell_type": "markdown",
   "metadata": {
    "id": "O-amSya_WrV9"
   },
   "source": [
    "* Generates summary statistics for the movie_ratings_with_genres dataset to provide an overview of its structure and content.\n",
    "* Displays descriptive statistics for all columns, including count, mean, min, max, and percentiles for numeric features.\n",
    "* Shows data types of each column to ensure correct data formats (e.g., integers, floats, objects, etc.).\n",
    "* Counts missing values in each column, helping identify potential data quality issues.\n",
    "* Calculates unique counts of users and movies, providing insight into the dataset's size and diversity."
   ]
  },
  {
   "cell_type": "markdown",
   "metadata": {
    "id": "7nNruuCn0jU8"
   },
   "source": [
    "DISTRIBUTION OF RATINGS\n"
   ]
  },
  {
   "cell_type": "code",
   "execution_count": null,
   "metadata": {
    "colab": {
     "base_uri": "https://localhost:8080/"
    },
    "id": "l8luYBRb0hhg",
    "outputId": "639243dd-d751-4454-ec79-50f3072e5b62"
   },
   "outputs": [
    {
     "name": "stdout",
     "output_type": "stream",
     "text": [
      "\n",
      "Rating Distribution:\n",
      "rating\n",
      "0.5     16534\n",
      "1.0     29682\n",
      "1.5     16689\n",
      "2.0     63115\n",
      "2.5     52718\n",
      "3.0    188773\n",
      "3.5    134085\n",
      "4.0    260950\n",
      "4.5     93053\n",
      "5.0    143384\n",
      "Name: count, dtype: int64\n"
     ]
    }
   ],
   "source": [
    "def rating_distribution(data):\n",
    "    \"\"\"\n",
    "    Display the distribution of ratings.\n",
    "    \"\"\"\n",
    "    print(\"\\nRating Distribution:\")\n",
    "    rating_counts = data['rating'].value_counts().sort_index()\n",
    "    print(rating_counts)\n",
    "\n",
    "# Display rating distribution\n",
    "rating_distribution(movie_ratings_with_genres)"
   ]
  },
  {
   "cell_type": "markdown",
   "metadata": {
    "id": "IT0w9E9SXA8J"
   },
   "source": [
    "* Displays the distribution of movie ratings by counting the occurrences of each unique rating in the dataset.\n",
    "* Sorts the rating counts in ascending order to provide a clear, structured view of rating frequencies.\n",
    "* Offers insight into user rating behavior, helping identify potential class imbalances for classification tasks."
   ]
  },
  {
   "cell_type": "markdown",
   "metadata": {
    "id": "sSF8H4nZ02Zj"
   },
   "source": [
    "TOP RATED MOVIES"
   ]
  },
  {
   "cell_type": "code",
   "execution_count": null,
   "metadata": {
    "colab": {
     "base_uri": "https://localhost:8080/"
    },
    "id": "nIjkz-nq05P4",
    "outputId": "0ab43154-e338-435c-9d32-333a65cd5445"
   },
   "outputs": [
    {
     "name": "stdout",
     "output_type": "stream",
     "text": [
      "\n",
      "Top 10 Rated Movies:\n",
      "title\n",
      "The Valley of Light (2007)                              5.0\n",
      "Приключения Домовёнка (1986)                            5.0\n",
      "Пасека (2002)                                           5.0\n",
      "1 (2013)                                                5.0\n",
      "(The New) War of the Buttons (2011)                     5.0\n",
      "Zulu (2013)                                             5.0\n",
      "The Unseen (1945)                                       5.0\n",
      "The Letters (2015)                                      5.0\n",
      "Drip-Along Daffy (1951)                                 5.0\n",
      "The Trapped 13: How We Survived The Thai Cave (2022)    5.0\n",
      "Name: rating, dtype: float64\n"
     ]
    }
   ],
   "source": [
    "def top_rated_movies(data, top_n=10):\n",
    "    \"\"\"\n",
    "    Display the top N movies with the highest average ratings.\n",
    "    \"\"\"\n",
    "    print(f\"\\nTop {top_n} Rated Movies:\")\n",
    "    top_movies = (\n",
    "        data.groupby('title')['rating']\n",
    "        .mean()\n",
    "        .sort_values(ascending=False)\n",
    "        .head(top_n)\n",
    "    )\n",
    "    print(top_movies)\n",
    "\n",
    "# Get top-rated movies\n",
    "top_rated_movies(movie_ratings_with_genres)"
   ]
  },
  {
   "cell_type": "markdown",
   "metadata": {
    "id": "QVU977-iXIfR"
   },
   "source": [
    "* Identifies the top 10 movies with the highest average ratings from the dataset.\n",
    "* Groups ratings by movie title and calculates the mean rating for each movie.\n",
    "* Sorts movies by average rating in descending order to highlight the top-rated movies."
   ]
  },
  {
   "cell_type": "markdown",
   "metadata": {
    "id": "0e8I-0_x1ADC"
   },
   "source": [
    "MOST ACTIVE USERS"
   ]
  },
  {
   "cell_type": "code",
   "execution_count": null,
   "metadata": {
    "colab": {
     "base_uri": "https://localhost:8080/"
    },
    "id": "kdodZnwB09t_",
    "outputId": "3141fa46-0ed6-4ddb-e4de-d48ef5988472"
   },
   "outputs": [
    {
     "name": "stdout",
     "output_type": "stream",
     "text": [
      "\n",
      "Top 10 Most Active Users:\n",
      "userId\n",
      "175325    1066\n",
      "17035      302\n",
      "123465     282\n",
      "55653      276\n",
      "171795     251\n",
      "49305      237\n",
      "198515     233\n",
      "22744      230\n",
      "53192      219\n",
      "10202      214\n",
      "Name: rating, dtype: int64\n"
     ]
    }
   ],
   "source": [
    "def most_active_users(data, top_n=10):\n",
    "    \"\"\"\n",
    "    Display the top N users with the most ratings.\n",
    "    \"\"\"\n",
    "    print(f\"\\nTop {top_n} Most Active Users:\")\n",
    "    active_users = (\n",
    "        data.groupby('userId')['rating']\n",
    "        .count()\n",
    "        .sort_values(ascending=False)\n",
    "        .head(top_n)\n",
    "    )\n",
    "    print(active_users)\n",
    "\n",
    "# Get most active users\n",
    "most_active_users(movie_ratings_with_genres)"
   ]
  },
  {
   "cell_type": "markdown",
   "metadata": {
    "id": "jcCOEHRoXVdX"
   },
   "source": [
    "* Identifies the top 10 most active users by counting the total number of ratings each user has submitted.\n",
    "* Groups data by userId and sorts users in descending order based on the number of ratings.\n",
    "* Highlights the most engaged users, which could be useful for understanding user behavior or recommending personalized content."
   ]
  },
  {
   "cell_type": "markdown",
   "metadata": {
    "id": "RBlbzEee1EpU"
   },
   "source": [
    "POPULARITY BY RATINGS"
   ]
  },
  {
   "cell_type": "code",
   "execution_count": null,
   "metadata": {
    "colab": {
     "base_uri": "https://localhost:8080/"
    },
    "id": "boE52UH11IIx",
    "outputId": "65b19ecf-d8e3-44c9-9185-10d1daff9ddb"
   },
   "outputs": [
    {
     "name": "stdout",
     "output_type": "stream",
     "text": [
      "\n",
      "Top 10 Most Popular Movies by Number of Ratings:\n",
      "title\n",
      "Shawshank Redemption, The (1994)                             3251\n",
      "Forrest Gump (1994)                                          3223\n",
      "Pulp Fiction (1994)                                          3112\n",
      "Matrix, The (1999)                                           2917\n",
      "Silence of the Lambs, The (1991)                             2832\n",
      "Star Wars: Episode IV - A New Hope (1977)                    2639\n",
      "Fight Club (1999)                                            2477\n",
      "Jurassic Park (1993)                                         2347\n",
      "Schindler's List (1993)                                      2280\n",
      "Lord of the Rings: The Fellowship of the Ring, The (2001)    2250\n",
      "Name: rating, dtype: int64\n"
     ]
    }
   ],
   "source": [
    "def movie_popularity(data, top_n=10):\n",
    "    \"\"\"\n",
    "    Display the top N most popular movies by number of ratings.\n",
    "    \"\"\"\n",
    "    print(f\"\\nTop {top_n} Most Popular Movies by Number of Ratings:\")\n",
    "    popular_movies = (\n",
    "        data.groupby('title')['rating']\n",
    "        .count()\n",
    "        .sort_values(ascending=False)\n",
    "        .head(top_n)\n",
    "    )\n",
    "    print(popular_movies)\n",
    "\n",
    "# Get most popular movies\n",
    "movie_popularity(movie_ratings_with_genres)"
   ]
  },
  {
   "cell_type": "markdown",
   "metadata": {
    "id": "p8OnzPiPXumm"
   },
   "source": [
    "* Identifies the top N most popular movies based on the total number of user ratings each movie has received.\n",
    "* Groups data by title and counts the number of ratings for each movie, sorting them in descending order.\n",
    "* Highlights the most viewed or discussed movies, which could be used to recommend trending content."
   ]
  },
  {
   "cell_type": "markdown",
   "metadata": {
    "id": "9RtzM3aO1Lrf"
   },
   "source": [
    "GENRE ANALYSIS"
   ]
  },
  {
   "cell_type": "code",
   "execution_count": null,
   "metadata": {
    "colab": {
     "base_uri": "https://localhost:8080/"
    },
    "id": "doos1KDO1nj3",
    "outputId": "4f1d0801-ac28-4523-90e6-7f09039871ec"
   },
   "outputs": [
    {
     "name": "stdout",
     "output_type": "stream",
     "text": [
      "\n",
      "Genre Distribution:\n",
      "Drama                 436127\n",
      "Comedy                349776\n",
      "Action                302055\n",
      "Thriller              270737\n",
      "Adventure             237136\n",
      "Sci-Fi                178304\n",
      "Romance               172688\n",
      "Crime                 168372\n",
      "Fantasy               115748\n",
      "Children               85420\n",
      "Mystery                81817\n",
      "Horror                 77568\n",
      "Animation              69342\n",
      "War                    49866\n",
      "IMAX                   46498\n",
      "Musical                36502\n",
      "Western                18508\n",
      "Documentary            13381\n",
      "Film-Noir               9452\n",
      "(no genres listed)      1533\n",
      "dtype: int64\n"
     ]
    }
   ],
   "source": [
    "def genre_analysis(data, genre_columns):\n",
    "    \"\"\"\n",
    "    Analyze the distribution of genres.\n",
    "    \"\"\"\n",
    "    print(\"\\nGenre Distribution:\")\n",
    "    genre_counts = data[genre_columns].sum().sort_values(ascending=False)\n",
    "    print(genre_counts)\n",
    "\n",
    "# Get genre columns (assumes one-hot encoding was done)\n",
    "genre_columns = movie_ratings_with_genres.columns.difference(\n",
    "    ['userId', 'movieId', 'rating', 'timestamp', 'title', 'year', 'userId_mapped', 'movieId_mapped']\n",
    ")\n",
    "# Perform genre analysis\n",
    "genre_analysis(movie_ratings_with_genres, genre_columns)"
   ]
  },
  {
   "cell_type": "markdown",
   "metadata": {
    "id": "6Vqi7b0eX3Wj"
   },
   "source": [
    "* Analyzes the distribution of movie genres by counting how frequently each genre appears in the dataset.\n",
    "* Aggregates one-hot encoded genre columns to calculate the total count of each genre across all movies.\n",
    "* Sorts genres in descending order to highlight the most common movie genres in the dataset."
   ]
  },
  {
   "cell_type": "markdown",
   "metadata": {
    "id": "iAm2jVtq1qpE"
   },
   "source": [
    "CORRELATION"
   ]
  },
  {
   "cell_type": "code",
   "execution_count": null,
   "metadata": {
    "colab": {
     "base_uri": "https://localhost:8080/"
    },
    "id": "2A1cmmI81qFS",
    "outputId": "464c9119-118a-4aa0-c1f4-f4e86d9d016a"
   },
   "outputs": [
    {
     "name": "stdout",
     "output_type": "stream",
     "text": [
      "\n",
      "Correlation Analysis:\n",
      "                          userId       movieId    rating      year  \\\n",
      "userId              1.000000e+00  1.966059e-07  0.002129  0.000693   \n",
      "movieId             1.966059e-07  1.000000e+00 -0.017857  0.552119   \n",
      "rating              2.128521e-03 -1.785657e-02  1.000000 -0.073384   \n",
      "year                6.925151e-04  5.521188e-01 -0.073384  1.000000   \n",
      "userId_mapped       5.531645e-03 -9.219967e-02  0.113439 -0.013339   \n",
      "movieId_mapped     -1.341729e-03  3.448756e-01 -0.133432  0.023562   \n",
      "(no genres listed)  1.295576e-03  1.049469e-01 -0.008633  0.026109   \n",
      "Action             -9.208263e-04  4.306826e-02 -0.038094  0.118909   \n",
      "Adventure          -9.114136e-04  1.997401e-02 -0.008525  0.049801   \n",
      "Animation           1.660516e-03  6.001179e-02  0.018116  0.031053   \n",
      "Children            5.212438e-04 -1.681398e-02 -0.030486 -0.040585   \n",
      "Comedy             -4.685716e-05 -7.108437e-02 -0.074323  0.011760   \n",
      "Crime               8.040110e-04 -3.021049e-02  0.063981  0.021414   \n",
      "Documentary         8.639315e-04  7.587923e-02  0.016583  0.051091   \n",
      "Drama               2.481528e-03 -1.271696e-02  0.118136 -0.021571   \n",
      "Fantasy             2.377048e-03  1.154235e-02 -0.009624  0.016338   \n",
      "Film-Noir          -5.062854e-04 -3.179434e-02  0.033402 -0.119129   \n",
      "Horror             -1.004201e-03  1.881924e-02 -0.063291 -0.018594   \n",
      "IMAX                9.273352e-04  1.501627e-01  0.011232  0.174111   \n",
      "Musical             1.307126e-03 -6.660854e-02  0.002117 -0.173406   \n",
      "Mystery             1.055431e-03 -1.153981e-03  0.037213  0.006693   \n",
      "Romance             2.838871e-04 -9.196960e-02  0.002014 -0.048670   \n",
      "Sci-Fi             -3.529432e-04  7.125220e-02 -0.021360  0.073638   \n",
      "Thriller           -1.106079e-03 -1.102271e-02 -0.004687  0.083448   \n",
      "War                 1.940975e-03 -3.093516e-02  0.053940 -0.068244   \n",
      "Western            -9.414309e-04 -1.868028e-02  0.006608 -0.068181   \n",
      "\n",
      "                    userId_mapped  movieId_mapped  (no genres listed)  \\\n",
      "userId                   0.005532       -0.001342            0.001296   \n",
      "movieId                 -0.092200        0.344876            0.104947   \n",
      "rating                   0.113439       -0.133432           -0.008633   \n",
      "year                    -0.013339        0.023562            0.026109   \n",
      "userId_mapped            1.000000       -0.164498           -0.015390   \n",
      "movieId_mapped          -0.164498        1.000000            0.101591   \n",
      "(no genres listed)      -0.015390        0.101591            1.000000   \n",
      "Action                   0.029337       -0.139755           -0.025809   \n",
      "Adventure                0.040496       -0.141098           -0.021872   \n",
      "Animation                0.009355       -0.027738           -0.010707   \n",
      "Children                 0.012190       -0.034344           -0.011988   \n",
      "Comedy                  -0.011635       -0.006263           -0.028776   \n",
      "Crime                    0.021266       -0.071540           -0.017651   \n",
      "Documentary             -0.033241        0.150036           -0.004568   \n",
      "Drama                    0.005119        0.027580           -0.034509   \n",
      "Fantasy                  0.009908       -0.062719           -0.014192   \n",
      "Film-Noir               -0.006908        0.003798           -0.003832   \n",
      "Horror                  -0.036189        0.066206           -0.011375   \n",
      "IMAX                     0.024266       -0.071335           -0.008662   \n",
      "Musical                  0.002860       -0.019877           -0.007635   \n",
      "Mystery                  0.000212       -0.027758           -0.011709   \n",
      "Romance                  0.015583       -0.028813           -0.017922   \n",
      "Sci-Fi                   0.021555       -0.105014           -0.018273   \n",
      "Thriller                 0.010888       -0.070227           -0.023903   \n",
      "War                      0.015941       -0.031059           -0.008986   \n",
      "Western                  0.001343       -0.001987           -0.005386   \n",
      "\n",
      "                      Action  Adventure  Animation  ...  Film-Noir    Horror  \\\n",
      "userId             -0.000921  -0.000911   0.001661  ...  -0.000506 -0.001004   \n",
      "movieId             0.043068   0.019974   0.060012  ...  -0.031794  0.018819   \n",
      "rating             -0.038094  -0.008525   0.018116  ...   0.033402 -0.063291   \n",
      "year                0.118909   0.049801   0.031053  ...  -0.119129 -0.018594   \n",
      "userId_mapped       0.029337   0.040496   0.009355  ...  -0.006908 -0.036189   \n",
      "movieId_mapped     -0.139755  -0.141098  -0.027738  ...   0.003798  0.066206   \n",
      "(no genres listed) -0.025809  -0.021872  -0.010707  ...  -0.003832 -0.011375   \n",
      "Action              1.000000   0.334663  -0.097980  ...  -0.041874 -0.051371   \n",
      "Adventure           0.334663   1.000000   0.239874  ...  -0.043226 -0.124916   \n",
      "Animation          -0.097980   0.239874   1.000000  ...  -0.026082 -0.069734   \n",
      "Children           -0.135041   0.241385   0.655197  ...  -0.029885 -0.086059   \n",
      "Comedy             -0.219690  -0.058914   0.106374  ...  -0.068812 -0.107320   \n",
      "Crime               0.090428  -0.183628  -0.093851  ...   0.139735 -0.056971   \n",
      "Documentary        -0.072708  -0.061282  -0.028431  ...  -0.011388 -0.031660   \n",
      "Drama              -0.250316  -0.267835  -0.143507  ...  -0.006848 -0.141472   \n",
      "Fantasy            -0.020299   0.279049   0.237041  ...  -0.030082 -0.005720   \n",
      "Film-Noir          -0.041874  -0.043226  -0.026082  ...   1.000000 -0.023102   \n",
      "Horror             -0.051371  -0.124916  -0.069734  ...  -0.023102  1.000000   \n",
      "IMAX                0.166352   0.182190   0.081132  ...  -0.021594 -0.033442   \n",
      "Musical            -0.112223   0.009245   0.293554  ...  -0.018206 -0.033936   \n",
      "Mystery            -0.057326  -0.102868  -0.057556  ...   0.156673  0.101886   \n",
      "Romance            -0.188922  -0.143119  -0.011507  ...  -0.023241 -0.112678   \n",
      "Sci-Fi              0.331861   0.242131  -0.041858  ...  -0.033242  0.048580   \n",
      "Thriller            0.236562  -0.071732  -0.157742  ...   0.089316  0.163580   \n",
      "War                 0.065408  -0.048573  -0.052998  ...  -0.022307 -0.064135   \n",
      "Western             0.030562   0.025920  -0.027038  ...  -0.011511 -0.033872   \n",
      "\n",
      "                        IMAX   Musical   Mystery   Romance    Sci-Fi  \\\n",
      "userId              0.000927  0.001307  0.001055  0.000284 -0.000353   \n",
      "movieId             0.150163 -0.066609 -0.001154 -0.091970  0.071252   \n",
      "rating              0.011232  0.002117  0.037213  0.002014 -0.021360   \n",
      "year                0.174111 -0.173406  0.006693 -0.048670  0.073638   \n",
      "userId_mapped       0.024266  0.002860  0.000212  0.015583  0.021555   \n",
      "movieId_mapped     -0.071335 -0.019877 -0.027758 -0.028813 -0.105014   \n",
      "(no genres listed) -0.008662 -0.007635 -0.011709 -0.017922 -0.018273   \n",
      "Action              0.166352 -0.112223 -0.057326 -0.188922  0.331861   \n",
      "Adventure           0.182190  0.009245 -0.102868 -0.143119  0.242131   \n",
      "Animation           0.081132  0.293554 -0.057556 -0.011507 -0.041858   \n",
      "Children            0.065441  0.289901 -0.065872 -0.037215 -0.070957   \n",
      "Comedy             -0.119543  0.063824 -0.163265  0.194981 -0.188697   \n",
      "Crime              -0.017757 -0.079128  0.134761 -0.157957 -0.152269   \n",
      "Documentary        -0.019503 -0.000554 -0.032769 -0.052852 -0.053356   \n",
      "Drama              -0.080515 -0.054235  0.016893  0.114624 -0.207491   \n",
      "Fantasy             0.123290  0.112710 -0.032332  0.041772 -0.082667   \n",
      "Film-Noir          -0.021594 -0.018206  0.156673 -0.023241 -0.033242   \n",
      "Horror             -0.033442 -0.033936  0.101886 -0.112678  0.048580   \n",
      "IMAX                1.000000  0.046877  0.001019 -0.064514  0.161900   \n",
      "Musical             0.046877  1.000000 -0.056102  0.092206 -0.080198   \n",
      "Mystery             0.001019 -0.056102  1.000000 -0.064144  0.012001   \n",
      "Romance            -0.064514  0.092206 -0.064144  1.000000 -0.155768   \n",
      "Sci-Fi              0.161900 -0.080198  0.012001 -0.155768  1.000000   \n",
      "Thriller           -0.015026 -0.114851  0.306331 -0.175327  0.122634   \n",
      "War                -0.028345 -0.037901 -0.065242  0.015280 -0.090827   \n",
      "Western            -0.023732 -0.018448 -0.029530 -0.024684 -0.034070   \n",
      "\n",
      "                    Thriller       War   Western  \n",
      "userId             -0.001106  0.001941 -0.000941  \n",
      "movieId            -0.011023 -0.030935 -0.018680  \n",
      "rating             -0.004687  0.053940  0.006608  \n",
      "year                0.083448 -0.068244 -0.068181  \n",
      "userId_mapped       0.010888  0.015941  0.001343  \n",
      "movieId_mapped     -0.070227 -0.031059 -0.001987  \n",
      "(no genres listed) -0.023903 -0.008986 -0.005386  \n",
      "Action              0.236562  0.065408  0.030562  \n",
      "Adventure          -0.071732 -0.048573  0.025920  \n",
      "Animation          -0.157742 -0.052998 -0.027038  \n",
      "Children           -0.184663 -0.066966 -0.030199  \n",
      "Comedy             -0.319850 -0.071816 -0.028327  \n",
      "Crime               0.279109 -0.081343 -0.046569  \n",
      "Documentary        -0.070652 -0.009794 -0.015944  \n",
      "Drama              -0.050994  0.179069 -0.005584  \n",
      "Fantasy            -0.146597 -0.067209 -0.048299  \n",
      "Film-Noir           0.089316 -0.022307 -0.011511  \n",
      "Horror              0.163580 -0.064135 -0.033872  \n",
      "IMAX               -0.015026 -0.028345 -0.023732  \n",
      "Musical            -0.114851 -0.037901 -0.018448  \n",
      "Mystery             0.306331 -0.065242 -0.029530  \n",
      "Romance            -0.175327  0.015280 -0.024684  \n",
      "Sci-Fi              0.122634 -0.090827 -0.034070  \n",
      "Thriller            1.000000 -0.074917 -0.065133  \n",
      "War                -0.074917  1.000000  0.007879  \n",
      "Western            -0.065133  0.007879  1.000000  \n",
      "\n",
      "[26 rows x 26 columns]\n"
     ]
    }
   ],
   "source": [
    "def correlation_analysis(data):\n",
    "    \"\"\"\n",
    "    Display the correlation matrix for numerical columns.\n",
    "    \"\"\"\n",
    "    print(\"\\nCorrelation Analysis:\")\n",
    "\n",
    "    # Select only numeric columns for correlation\n",
    "    numeric_data = data.select_dtypes(include=['number'])\n",
    "\n",
    "    # Compute the correlation matrix\n",
    "    correlation_matrix = numeric_data.corr()\n",
    "\n",
    "    # Print the correlation matrix\n",
    "    print(correlation_matrix)\n",
    "\n",
    "# Perform correlation analysis\n",
    "correlation_analysis(movie_ratings_with_genres)"
   ]
  },
  {
   "cell_type": "markdown",
   "metadata": {
    "id": "B2CeSX7tYBb1"
   },
   "source": [
    "* Computes the correlation matrix for all numerical columns in the dataset to identify relationships between features.\n",
    "* Selects numeric columns only, excluding categorical or text-based features.\n",
    "* Displays the correlation values to highlight positive or negative relationships between variables, useful for feature selection and model development."
   ]
  },
  {
   "cell_type": "markdown",
   "metadata": {
    "id": "gav0mVp31_s2"
   },
   "source": [
    "SPARSITY ANALYSIS"
   ]
  },
  {
   "cell_type": "code",
   "execution_count": null,
   "metadata": {
    "colab": {
     "base_uri": "https://localhost:8080/"
    },
    "id": "uKHG4XGz18sh",
    "outputId": "92e03179-d172-4012-b2bc-464d62a281fe"
   },
   "outputs": [
    {
     "name": "stdout",
     "output_type": "stream",
     "text": [
      "\n",
      "Sparsity Analysis:\n",
      "Sparsity: 99.98%\n",
      "Non-zero elements: 998983\n",
      "Matrix dimensions: (167241, 27625)\n"
     ]
    }
   ],
   "source": [
    "def sparsity_analysis(sparse_matrix):\n",
    "    \"\"\"\n",
    "    Analyze the sparsity of the user-movie interaction matrix.\n",
    "    \"\"\"\n",
    "    print(\"\\nSparsity Analysis:\")\n",
    "    sparsity = 1 - (sparse_matrix.nnz / (sparse_matrix.shape[0] * sparse_matrix.shape[1]))\n",
    "    print(f\"Sparsity: {sparsity:.2%}\")\n",
    "    print(f\"Non-zero elements: {sparse_matrix.nnz}\")\n",
    "    print(f\"Matrix dimensions: {sparse_matrix.shape}\")\n",
    "\n",
    "# Perform sparsity analysis\n",
    "sparsity_analysis(sparse_user_movie_matrix_normalized)"
   ]
  },
  {
   "cell_type": "markdown",
   "metadata": {
    "id": "9BQH_HXUYMsn"
   },
   "source": [
    "* Calculates the sparsity of the user-movie interaction matrix, revealing a sparsity of 99.75%, meaning most of the matrix is empty.\n",
    "* Displays 998,904 non-zero elements out of a total matrix size of (14,535 x 27,873), highlighting the matrix's sparse nature, which is common in recommendation systems."
   ]
  },
  {
   "cell_type": "markdown",
   "metadata": {
    "id": "RYyEDZC-xm9Y"
   },
   "source": [
    "\n",
    "\n",
    "---\n",
    "\n"
   ]
  },
  {
   "cell_type": "markdown",
   "metadata": {
    "id": "JNE__fO4Y96L"
   },
   "source": [
    "DATA VIZ"
   ]
  },
  {
   "cell_type": "markdown",
   "metadata": {
    "id": "tjo-Q_yQgrS-"
   },
   "source": [
    "As we are done with the EDA, let's now try to visualize the data using a series of plots that highlight key patterns and trends.\n",
    "\n",
    "* Rating Distribution: We will plot a histogram of user ratings to visualize how users rate movies. This helps identify any bias in the distribution of ratings.\n",
    "\n",
    "* Most Rated Movies: We will visualize the top 10 most rated movies to highlight which movies received the most user attention.\n",
    "\n",
    "* Genre Popularity: We will visualize the frequency of each movie genre, revealing the most common genres in the dataset.\n",
    "\n",
    "* Ratings Over Time: By plotting the number of ratings per year, we will observe trends in user activity over time, which could inform temporal shifts in user engagement.\n",
    "\n",
    "* Average Rating by Genre: We will plot the average rating for each genre, helping us see which genres tend to receive higher or lower user ratings.\n",
    "\n",
    "* User Activity Distribution: We will visualize the number of ratings submitted by each user, identifying how active users are and determining the presence of power users.\n",
    "\n",
    "* Average Rating by Release Year: This plot will reveal if the release year of a movie affects its average rating, offering insight into user preferences over time.\n",
    "\n",
    "* User-Movie Interaction Heatmap: By visualizing a heatmap of a sampled user-movie interaction matrix, we gain insight into user activity and movie engagement. This plot highlights user sparsity and helps visualize the density of user interactions.\n",
    "\n",
    "These visualizations provide a comprehensive view of user behavior, movie popularity, and genre preferences. This step helps uncover patterns that will later inform model design and feature selection."
   ]
  },
  {
   "cell_type": "code",
   "execution_count": null,
   "metadata": {
    "colab": {
     "base_uri": "https://localhost:8080/",
     "height": 605
    },
    "id": "F0G22Za5Y_92",
    "outputId": "469e6580-fde7-4b22-8289-fa6ac42f2557"
   },
   "outputs": [
    {
     "name": "stdout",
     "output_type": "stream",
     "text": [
      "\n",
      "Visualizing the distribution of user ratings...\n"
     ]
    },
    {
     "data": {
      "image/png": "[encoded data removed]",
      "text/plain": [
       "<Figure size 800x600 with 1 Axes>"
      ]
     },
     "metadata": {},
     "output_type": "display_data"
    }
   ],
   "source": [
    "def plot_rating_distribution(data):\n",
    "    \"\"\"\n",
    "    Plot the distribution of user ratings.\n",
    "    \"\"\"\n",
    "    import matplotlib.pyplot as plt\n",
    "    import seaborn as sns\n",
    "\n",
    "    print(\"\\nVisualizing the distribution of user ratings...\")\n",
    "    plt.figure(figsize=(8, 6))\n",
    "    sns.histplot(data['rating'], bins=20, kde=True, color='blue')\n",
    "    plt.title('Distribution of User Ratings', fontsize=14)\n",
    "    plt.xlabel('Rating', fontsize=12)\n",
    "    plt.ylabel('Frequency', fontsize=12)\n",
    "    plt.show()\n",
    "\n",
    "# Call the function\n",
    "plot_rating_distribution(movie_ratings_cleaned)"
   ]
  },
  {
   "cell_type": "markdown",
   "metadata": {
    "id": "Gh_41uJPZOfk"
   },
   "source": [
    "* Visualizes the distribution of user ratings, showing how frequently different rating values appear in the dataset.\n",
    "* Observes a clear peak around ratings of 4, indicating that most users tend to give higher ratings.\n",
    "* The lower ratings (e.g., 1 or 2) have significantly lower frequency, which suggests a potential bias toward favorable reviews.\n",
    "* This distribution highlights a common pattern in user rating systems, where higher ratings are more prevalent."
   ]
  },
  {
   "cell_type": "code",
   "execution_count": null,
   "metadata": {
    "colab": {
     "base_uri": "https://localhost:8080/",
     "height": 643
    },
    "id": "GlSJUtmGZDb7",
    "outputId": "b165ff56-27f4-4baa-940b-954e8ac2e30c"
   },
   "outputs": [
    {
     "name": "stdout",
     "output_type": "stream",
     "text": [
      "\n",
      "Visualizing the most rated movies...\n"
     ]
    },
    {
     "data": {
      "image/png": "[encoded data removed]",
      "text/plain": [
       "<Figure size 1000x600 with 1 Axes>"
      ]
     },
     "metadata": {},
     "output_type": "display_data"
    }
   ],
   "source": [
    "def plot_most_rated_movies(data, top_n=10):\n",
    "    \"\"\"\n",
    "    Plot the top N most rated movies.\n",
    "    \"\"\"\n",
    "    import matplotlib.pyplot as plt\n",
    "\n",
    "    print(\"\\nVisualizing the most rated movies...\")\n",
    "    most_rated_movies = data.groupby('title')['rating'].count().sort_values(ascending=False).head(top_n)\n",
    "\n",
    "    plt.figure(figsize=(10, 6))\n",
    "    most_rated_movies.plot(kind='bar', color='green')\n",
    "    plt.title(f'Top {top_n} Most Rated Movies', fontsize=14)\n",
    "    plt.xlabel('Movie Title', fontsize=12)\n",
    "    plt.ylabel('Number of Ratings', fontsize=12)\n",
    "    plt.xticks(rotation=45)\n",
    "    plt.tight_layout()\n",
    "    plt.show()\n",
    "\n",
    "# Call the function\n",
    "plot_most_rated_movies(movie_ratings_cleaned)"
   ]
  },
  {
   "cell_type": "markdown",
   "metadata": {
    "id": "TmPUtc3xZ1p9"
   },
   "source": [
    "* Visualizes the top 10 most rated movies, with \"The Shawshank Redemption\" and \"Forrest Gump\" leading the list, each receiving over 3,000 ratings.\n",
    "* Highlights highly rated classics like \"Pulp Fiction,\" \"The Matrix,\" and \"Silence of the Lambs,\" showcasing user engagement with iconic movies.\n",
    "* Demonstrates user preference and activity centered around popular and critically acclaimed films."
   ]
  },
  {
   "cell_type": "code",
   "execution_count": null,
   "metadata": {
    "colab": {
     "base_uri": "https://localhost:8080/",
     "height": 643
    },
    "id": "wixruyqTZFse",
    "outputId": "16602fdf-26e4-4d10-ae1d-3d5dfb477b1d"
   },
   "outputs": [
    {
     "name": "stdout",
     "output_type": "stream",
     "text": [
      "\n",
      "Visualizing genre popularity...\n"
     ]
    },
    {
     "data": {
      "image/png": "[encoded data removed]",
      "text/plain": [
       "<Figure size 1000x600 with 1 Axes>"
      ]
     },
     "metadata": {},
     "output_type": "display_data"
    }
   ],
   "source": [
    "import matplotlib.pyplot as plt\n",
    "\n",
    "def plot_genre_popularity(genres_split):\n",
    "    \"\"\"\n",
    "    Plot the popularity of genres based on the number of movies.\n",
    "    \"\"\"\n",
    "    if genres_split.empty:\n",
    "        print(\"Error: genres_split is empty. Ensure the 'genres' column was properly one-hot encoded.\")\n",
    "        return\n",
    "\n",
    "    print(\"\\nVisualizing genre popularity...\")\n",
    "    genre_counts = genres_split.sum().sort_values(ascending=False)\n",
    "\n",
    "    plt.figure(figsize=(10, 6))\n",
    "    genre_counts.plot(kind='bar', color='purple')\n",
    "    plt.title('Genre Popularity', fontsize=14)\n",
    "    plt.xlabel('Genre', fontsize=12)\n",
    "    plt.ylabel('Number of Movies', fontsize=12)\n",
    "    plt.xticks(rotation=45)\n",
    "    plt.tight_layout()\n",
    "    plt.show()\n",
    "\n",
    "    # Create genres_split\n",
    "if 'genres' in movie_ratings_cleaned.columns:\n",
    "    genres_split = movie_ratings_cleaned['genres'].str.get_dummies(sep='|')\n",
    "\n",
    "    # Plot genre popularity\n",
    "    plot_genre_popularity(genres_split)\n",
    "else:\n",
    "    print(\"Cannot plot genre popularity. 'genres' column is missing.\")\n"
   ]
  },
  {
   "cell_type": "markdown",
   "metadata": {
    "id": "IVDgpwWsaDCv"
   },
   "source": [
    "* Visualizes the popularity of movie genres by plotting the total number of movies belonging to each genre.\n",
    "* Highlights Drama, Comedy, and Action as the most common genres, with Drama leading significantly in popularity.\n",
    "* Provides insight into genre preferences and the diversity of movies in the dataset, which can inform recommendations or marketing strategies."
   ]
  },
  {
   "cell_type": "code",
   "execution_count": null,
   "metadata": {
    "colab": {
     "base_uri": "https://localhost:8080/",
     "height": 592
    },
    "id": "GWPn1nkLZJAE",
    "outputId": "9b172761-462a-43b5-af2b-42c2f9570259"
   },
   "outputs": [
    {
     "name": "stdout",
     "output_type": "stream",
     "text": [
      "\n",
      "Visualizing ratings over time...\n"
     ]
    },
    {
     "data": {
      "image/png": "[encoded data removed]",
      "text/plain": [
       "<Figure size 1200x600 with 1 Axes>"
      ]
     },
     "metadata": {},
     "output_type": "display_data"
    }
   ],
   "source": [
    "def plot_ratings_over_time(data):\n",
    "    \"\"\"\n",
    "    Plot the number of ratings over time.\n",
    "    \"\"\"\n",
    "    import matplotlib.pyplot as plt\n",
    "\n",
    "    print(\"\\nVisualizing ratings over time...\")\n",
    "    data['rating_year'] = data['timestamp'].dt.year\n",
    "    ratings_over_time = data.groupby('rating_year')['rating'].count()\n",
    "\n",
    "    plt.figure(figsize=(12, 6))\n",
    "    ratings_over_time.plot(kind='line', marker='o', color='orange')\n",
    "    plt.title('Number of Ratings Over Time', fontsize=14)\n",
    "    plt.xlabel('Year', fontsize=12)\n",
    "    plt.ylabel('Number of Ratings', fontsize=12)\n",
    "    plt.grid()\n",
    "    plt.tight_layout()\n",
    "    plt.show()\n",
    "\n",
    "# Call the function\n",
    "plot_ratings_over_time(movie_ratings_cleaned)"
   ]
  },
  {
   "cell_type": "markdown",
   "metadata": {
    "id": "mZglIS49aPOD"
   },
   "source": [
    "* Visualizes the number of ratings over time, showing trends in user engagement across different years.\n",
    "* Identifies peaks in ratings activity, such as significant spikes around the years 2000 and 2015, likely indicating periods of higher user participation or popular movie releases.\n",
    "* Highlights a noticeable decline in the number of ratings after 2020, potentially influenced by changing user behavior or data availability."
   ]
  },
  {
   "cell_type": "code",
   "execution_count": null,
   "metadata": {
    "colab": {
     "base_uri": "https://localhost:8080/",
     "height": 593
    },
    "id": "S7DLOekyZMpF",
    "outputId": "bab4f05e-3dd1-486c-e4f8-7fe5f2f1bd1e"
   },
   "outputs": [
    {
     "name": "stdout",
     "output_type": "stream",
     "text": [
      "\n",
      "Visualizing average rating by genre...\n"
     ]
    },
    {
     "data": {
      "image/png": "[encoded data removed]",
      "text/plain": [
       "<Figure size 1200x600 with 1 Axes>"
      ]
     },
     "metadata": {},
     "output_type": "display_data"
    }
   ],
   "source": [
    "def plot_genre_avg_rating(data):\n",
    "    \"\"\"\n",
    "    Plot the average rating for each genre.\n",
    "    \"\"\"\n",
    "    import matplotlib.pyplot as plt\n",
    "\n",
    "    print(\"\\nVisualizing average rating by genre...\")\n",
    "\n",
    "    # Identify genre columns explicitly by excluding non-genre columns\n",
    "    non_genre_columns = ['movieId', 'userId', 'timestamp', 'title', 'year', 'userId_mapped', 'movieId_mapped', 'rating']\n",
    "    genre_columns = [col for col in data.columns if col not in non_genre_columns]\n",
    "\n",
    "    # Calculate the average rating for each genre\n",
    "    genre_avg_rating = data[genre_columns].mul(data['rating'], axis=0).sum() / data[genre_columns].sum()\n",
    "    genre_avg_rating = genre_avg_rating.sort_values(ascending=False)\n",
    "\n",
    "    # Plot the average ratings\n",
    "    plt.figure(figsize=(12, 6))\n",
    "    genre_avg_rating.plot(kind='bar', color='cyan')\n",
    "    plt.title('Average Rating by Genre', fontsize=14)\n",
    "    plt.xlabel('Genre', fontsize=12)\n",
    "    plt.ylabel('Average Rating', fontsize=12)\n",
    "    plt.xticks(rotation=45)\n",
    "    plt.tight_layout()\n",
    "    plt.show()\n",
    "    # Call the fixed function\n",
    "plot_genre_avg_rating(movie_ratings_with_genres)\n"
   ]
  },
  {
   "cell_type": "markdown",
   "metadata": {
    "id": "2FE_3EboacfD"
   },
   "source": [
    "* Visualizes the average rating for each genre, highlighting the genres with the highest user satisfaction.\n",
    "* Film-Noir and War genres top the chart with the highest average ratings, suggesting they resonate well with users.\n",
    "* Provides insights into genre-specific preferences, useful for targeted recommendations or content creation strategies."
   ]
  },
  {
   "cell_type": "code",
   "execution_count": null,
   "metadata": {
    "colab": {
     "base_uri": "https://localhost:8080/",
     "height": 678
    },
    "id": "hNpRk2pHZRNp",
    "outputId": "23351e61-5482-40bd-e6f6-767a26e12359"
   },
   "outputs": [
    {
     "name": "stdout",
     "output_type": "stream",
     "text": [
      "\n",
      "Visualizing user activity distribution...\n",
      "Total users: 167241\n",
      "Users with >= 5 ratings: 60551\n"
     ]
    },
    {
     "data": {
      "image/png": "[encoded data removed]",
      "text/plain": [
       "<Figure size 1000x600 with 1 Axes>"
      ]
     },
     "metadata": {},
     "output_type": "display_data"
    }
   ],
   "source": [
    "def plot_user_activity_distribution(data, threshold=5, max_bins=30):\n",
    "    \"\"\"\n",
    "    Plot the distribution of user activity (number of ratings per user).\n",
    "    Parameters:\n",
    "        - data: The dataset\n",
    "        - threshold: Minimum number of ratings to consider a user active\n",
    "        - max_bins: Number of bins in the histogram\n",
    "    \"\"\"\n",
    "    import matplotlib.pyplot as plt\n",
    "    import seaborn as sns\n",
    "\n",
    "    print(\"\\nVisualizing user activity distribution...\")\n",
    "\n",
    "    # Count the number of ratings per user\n",
    "    user_activity = data['userId'].value_counts()\n",
    "\n",
    "    # Debug: Print statistics about user activity\n",
    "    print(f\"Total users: {len(user_activity)}\")\n",
    "    print(f\"Users with >= {threshold} ratings: {len(user_activity[user_activity >= threshold])}\")\n",
    "\n",
    "    # Filter users with ratings above the threshold\n",
    "    active_users = user_activity[user_activity >= threshold]\n",
    "\n",
    "    if active_users.empty:\n",
    "        print(f\"No users with at least {threshold} ratings.\")\n",
    "        return\n",
    "\n",
    "    # Plot the distribution\n",
    "    plt.figure(figsize=(10, 6))\n",
    "    sns.histplot(active_users, bins=max_bins, kde=False, color='red')\n",
    "    plt.title('User Activity Distribution (Filtered)', fontsize=14)\n",
    "    plt.xlabel('Number of Ratings', fontsize=12)\n",
    "    plt.ylabel('Number of Users', fontsize=12)\n",
    "    plt.grid(axis='y', linestyle='--', alpha=0.7)\n",
    "    plt.tight_layout()\n",
    "    plt.show()\n",
    "    # Call the updated function with a threshold for active users\n",
    "plot_user_activity_distribution(movie_ratings_cleaned, threshold=5, max_bins=30)\n"
   ]
  },
  {
   "cell_type": "markdown",
   "metadata": {
    "id": "VTcYFGyfanfw"
   },
   "source": [
    "* Visualizes the distribution of user activity by plotting the number of ratings per user, focusing on users with at least 5 ratings.\n",
    "* Shows that most users have a low number of ratings, while a few highly active users contribute significantly more.\n",
    "* Provides insights into user engagement, which is valuable for personalizing recommendations or segmenting users."
   ]
  },
  {
   "cell_type": "code",
   "execution_count": null,
   "metadata": {
    "colab": {
     "base_uri": "https://localhost:8080/",
     "height": 592
    },
    "id": "H8LKeoMCZUID",
    "outputId": "668dbf52-478f-49a4-d2ac-717a25fcfb8e"
   },
   "outputs": [
    {
     "name": "stdout",
     "output_type": "stream",
     "text": [
      "\n",
      "Visualizing average rating by release year...\n"
     ]
    },
    {
     "data": {
      "image/png": "[encoded data removed]",
      "text/plain": [
       "<Figure size 1200x600 with 1 Axes>"
      ]
     },
     "metadata": {},
     "output_type": "display_data"
    }
   ],
   "source": [
    "def plot_avg_rating_by_release_year(data):\n",
    "    \"\"\"\n",
    "    Plot the average rating by movie release year.\n",
    "    \"\"\"\n",
    "    import matplotlib.pyplot as plt\n",
    "\n",
    "    print(\"\\nVisualizing average rating by release year...\")\n",
    "    rating_by_year = data.groupby('year')['rating'].mean()\n",
    "\n",
    "    plt.figure(figsize=(12, 6))\n",
    "    rating_by_year.plot(kind='line', marker='o', color='brown')\n",
    "    plt.title('Average Rating by Release Year', fontsize=14)\n",
    "    plt.xlabel('Release Year', fontsize=12)\n",
    "    plt.ylabel('Average Rating', fontsize=12)\n",
    "    plt.grid()\n",
    "    plt.tight_layout()\n",
    "    plt.show()\n",
    "\n",
    "# Call the function\n",
    "plot_avg_rating_by_release_year(movie_ratings_cleaned)"
   ]
  },
  {
   "cell_type": "markdown",
   "metadata": {
    "id": "DE3FglWSa0VZ"
   },
   "source": [
    "* Visualizes the average movie rating over release years, showcasing how ratings have varied across time.\n",
    "* Older movies (pre-1900s) show a significant fluctuation in average ratings, possibly due to fewer ratings or varying audience perceptions.\n",
    "* Steady high ratings are observed for movies released between 1940 and 1980, indicating consistent appreciation of films from these decades.\n",
    "* A slight decline in ratings is noted for movies released post-2000, possibly reflecting changing audience preferences or increased scrutiny."
   ]
  },
  {
   "cell_type": "markdown",
   "metadata": {
    "id": "ab7zGYS1YpUb"
   },
   "source": [
    "Seaborn Documentation: https://seaborn.pydata.org/\n",
    "For creating bar plots and other visualizations to compare model performance."
   ]
  },
  {
   "cell_type": "code",
   "execution_count": null,
   "metadata": {
    "colab": {
     "base_uri": "https://localhost:8080/",
     "height": 843
    },
    "id": "PjURm3c6ZWkq",
    "outputId": "dd1b8b19-d342-4fda-e399-a8709522fbcf"
   },
   "outputs": [
    {
     "name": "stdout",
     "output_type": "stream",
     "text": [
      "\n",
      "Visualizing user-movie interaction heatmap...\n"
     ]
    },
    {
     "data": {
      "image/png": "[encoded data removed]",
      "text/plain": [
       "<Figure size 1000x800 with 2 Axes>"
      ]
     },
     "metadata": {},
     "output_type": "display_data"
    }
   ],
   "source": [
    "def plot_user_movie_interaction_heatmap(sparse_matrix, sample_size=50):\n",
    "    \"\"\"\n",
    "    Plot a heatmap of a sampled user-movie interaction matrix.\n",
    "    \"\"\"\n",
    "    import matplotlib.pyplot as plt\n",
    "    import numpy as np\n",
    "    import seaborn as sns\n",
    "\n",
    "    print(\"\\nVisualizing user-movie interaction heatmap...\")\n",
    "    sampled_users = np.random.choice(sparse_matrix.shape[0], size=sample_size, replace=False)\n",
    "    sampled_movies = np.random.choice(sparse_matrix.shape[1], size=sample_size, replace=False)\n",
    "    sampled_matrix = sparse_matrix[sampled_users, :][:, sampled_movies].toarray()\n",
    "\n",
    "    plt.figure(figsize=(10, 8))\n",
    "    sns.heatmap(sampled_matrix, cmap='YlGnBu', cbar=True)\n",
    "    plt.title('User-Movie Interaction Matrix (Sample)', fontsize=14)\n",
    "    plt.xlabel('Movies', fontsize=12)\n",
    "    plt.ylabel('Users', fontsize=12)\n",
    "    plt.tight_layout()\n",
    "    plt.show()\n",
    "\n",
    "# Call the function\n",
    "plot_user_movie_interaction_heatmap(sparse_user_movie_matrix)"
   ]
  },
  {
   "cell_type": "markdown",
   "metadata": {
    "id": "eRzh-FWAbCel"
   },
   "source": [
    "* Visualizes a sampled user-movie interaction matrix using a heatmap, where darker colors indicate higher ratings.\n",
    "* Highlights the sparsity of the interaction matrix, with only a few user-movie pairs showing ratings in the sampled data.\n",
    "* Provides a clear representation of user activity and movie engagement, useful for identifying patterns or clustering users/movies."
   ]
  },
  {
   "cell_type": "markdown",
   "metadata": {
    "id": "GSDIrbBHxrlu"
   },
   "source": [
    "\n",
    "\n",
    "---\n",
    "\n"
   ]
  },
  {
   "cell_type": "markdown",
   "metadata": {
    "id": "IA-10bYM4q5f"
   },
   "source": [
    "MACHINE LEARNING"
   ]
  },
  {
   "cell_type": "markdown",
   "metadata": {
    "id": "R76FVBAdQ_8M"
   },
   "source": [
    "SVD"
   ]
  },
  {
   "cell_type": "markdown",
   "metadata": {
    "id": "kCz1G4rqkcP1"
   },
   "source": [
    "We now use Regularized SVD to uncover hidden patterns in the user-movie interaction matrix. Starting with a 10,000-row sample, we create a user-item matrix where missing ratings are filled with zeros.\n",
    "\n",
    "The matrix is decomposed into latent components (U, S, and VT), with a regularization term to prevent overfitting. We then reconstruct the matrix to predict user ratings.\n",
    "\n",
    "To evaluate the model, we use 10-Fold Cross-Validation, measuring performance with MSE, R², and accuracy (predictions within ±0.5 of actual ratings). The average scores across all folds provide a clear view of the model’s predictive power."
   ]
  },
  {
   "cell_type": "code",
   "execution_count": null,
   "metadata": {
    "colab": {
     "base_uri": "https://localhost:8080/"
    },
    "id": "woiWc2qYQwzw",
    "outputId": "e8f366e4-dc86-4b5f-ee17-680bd986c8ea"
   },
   "outputs": [
    {
     "name": "stdout",
     "output_type": "stream",
     "text": [
      "\n",
      "Sampling dataset...\n",
      "\n",
      "Creating user-item matrix...\n",
      "\n",
      "Filling missing values with zeros...\n",
      "\n",
      "Performing 10-Fold Cross-Validation...\n",
      "\n",
      "Cross-Validation Results:\n",
      "Mean MSE: 0.0038 ± 0.0001\n",
      "Mean R² Score: 0.0172 ± 0.0052\n",
      "Mean Accuracy (within ±0.5): 99.97%\n"
     ]
    }
   ],
   "source": [
    "import pandas as pd\n",
    "import numpy as np\n",
    "from sklearn.model_selection import KFold\n",
    "from sklearn.decomposition import TruncatedSVD\n",
    "from sklearn.metrics import mean_squared_error, r2_score\n",
    "\n",
    "# Step 1: Sample the dataset (100,000 samples for training)\n",
    "print(\"\\nSampling dataset...\")\n",
    "movie_ratings_sampled = movie_ratings_cleaned.sample(n=10000, random_state=42)\n",
    "\n",
    "# Step 2: Create a user-item matrix\n",
    "print(\"\\nCreating user-item matrix...\")\n",
    "user_item_matrix = movie_ratings_sampled.pivot_table(\n",
    "    index='userId', columns='movieId', values='rating'\n",
    ")\n",
    "\n",
    "# Step 3: Fill missing values (imputation)\n",
    "print(\"\\nFilling missing values with zeros...\")\n",
    "user_item_matrix_filled = user_item_matrix.fillna(0)\n",
    "\n",
    "# Convert the matrix to a NumPy array for SVD\n",
    "user_item_matrix_array = user_item_matrix_filled.values\n",
    "\n",
    "# Step 4: Initialize TruncatedSVD with Regularization\n",
    "class RegularizedSVD:\n",
    "    def __init__(self, n_components, reg=0.5, random_state=42):  # Regularization applied\n",
    "        self.n_components = n_components\n",
    "        self.reg = reg\n",
    "        self.random_state = random_state\n",
    "        self.svd = TruncatedSVD(n_components=n_components, random_state=random_state)\n",
    "\n",
    "    def fit_transform(self, matrix):\n",
    "        # Apply SVD to the matrix\n",
    "        U = self.svd.fit_transform(matrix)\n",
    "        S = np.diag(self.svd.singular_values_)\n",
    "        VT = self.svd.components_\n",
    "\n",
    "        # Apply regularization to the singular values\n",
    "        S_reg = S / (S + self.reg)\n",
    "        return np.dot(U, S_reg), VT\n",
    "\n",
    "    def inverse_transform(self, reduced_matrix, VT):\n",
    "        return np.dot(reduced_matrix, VT)\n",
    "\n",
    "# Instantiate the Regularized SVD\n",
    "n_components = 5  # Reduced number of latent features\n",
    "reg_svd = RegularizedSVD(n_components=n_components, reg=0.5)\n",
    "\n",
    "# Step 5: 10-Fold Cross-Validation\n",
    "kf = KFold(n_splits=10, shuffle=True, random_state=42)\n",
    "mse_scores = []\n",
    "r2_scores = []\n",
    "accuracy_scores = []  # To store accuracy for each fold\n",
    "\n",
    "print(\"\\nPerforming 10-Fold Cross-Validation...\")\n",
    "for train_index, test_index in kf.split(user_item_matrix_array):\n",
    "    train_matrix = user_item_matrix_array[train_index]\n",
    "    test_matrix = user_item_matrix_array[test_index]\n",
    "\n",
    "    # Fit and transform on the train set\n",
    "    train_matrix_reduced, VT = reg_svd.fit_transform(train_matrix)\n",
    "\n",
    "    # Reconstruct the train and test matrices\n",
    "    train_matrix_reconstructed = reg_svd.inverse_transform(train_matrix_reduced, VT)\n",
    "    test_matrix_reduced = np.dot(test_matrix, VT.T)  # Transform test matrix\n",
    "    test_matrix_reconstructed = reg_svd.inverse_transform(test_matrix_reduced, VT)\n",
    "\n",
    "    # Evaluate performance on the test set\n",
    "    y_test = test_matrix.flatten()\n",
    "    y_pred = test_matrix_reconstructed.flatten()\n",
    "\n",
    "    # Calculate metrics\n",
    "    mse = mean_squared_error(y_test, y_pred)\n",
    "    r2 = r2_score(y_test, y_pred)\n",
    "\n",
    "    # Accuracy: Predictions within a threshold (e.g., ±0.5)\n",
    "    threshold = 0.5\n",
    "    accuracy = np.mean(np.abs(y_test - y_pred) <= threshold) * 100\n",
    "\n",
    "    mse_scores.append(mse)\n",
    "    r2_scores.append(r2)\n",
    "    accuracy_scores.append(accuracy)\n",
    "\n",
    "# Step 6: Display Results\n",
    "print(\"\\nCross-Validation Results:\")\n",
    "print(f\"Mean MSE: {np.mean(mse_scores):.4f} ± {np.std(mse_scores):.4f}\")\n",
    "print(f\"Mean R² Score: {np.mean(r2_scores):.4f} ± {np.std(r2_scores):.4f}\")\n",
    "print(f\"Mean Accuracy (within ±0.5): {np.mean(accuracy_scores):.2f}%\")"
   ]
  },
  {
   "cell_type": "markdown",
   "metadata": {
    "id": "236MngZ_bPtu"
   },
   "source": [
    "The output demonstrates the evaluation of the Regularized SVD model using 10-Fold Cross-Validation. Here's the interpretation:\n",
    "\n",
    "Mean MSE: 0.0113 ± 0.0006 indicates a very low average error in predicted ratings.\n",
    "\n",
    "Mean R² Score: 0.0148 ± 0.0034 shows the model explains a small portion of the variance in ratings, suggesting room for improvement in capturing user-movie interactions.\n",
    "\n",
    "Mean Accuracy: 99.92% (within ± 0.5) highlights the model’s ability to make predictions very close to actual ratings.\n",
    "This suggests the model is highly accurate within a small tolerance range but may not fully capture broader patterns in user preferences, as reflected in the low R² score."
   ]
  },
  {
   "cell_type": "markdown",
   "metadata": {
    "id": "lnoJUv45xuRf"
   },
   "source": [
    "\n",
    "\n",
    "---\n",
    "\n"
   ]
  },
  {
   "cell_type": "markdown",
   "metadata": {
    "id": "om67cL_o4tdF"
   },
   "source": [
    "# **RANDOM FOREST**"
   ]
  },
  {
   "cell_type": "markdown",
   "metadata": {
    "id": "W3zn8OB-pVTT"
   },
   "source": [
    "We fine-tune a Random Forest Regressor to predict movie ratings by preprocessing the data and optimizing model parameters. The dataset is split into features and target ratings, with numerical columns imputed and scaled, and categorical columns one-hot encoded. A 30% sample of the training data is used to reduce computational overhead.\n",
    "\n",
    "Using RandomizedSearchCV, we tune hyperparameters like the number of trees, tree depth, and split criteria over 10 iterations with 3-fold cross-validation. The best model is selected based on mean squared error (MSE). Finally, the model is evaluated on the test set, with performance measured by MSE and R² score, ensuring an optimized and reliable prediction pipeline."
   ]
  },
  {
   "cell_type": "code",
   "execution_count": null,
   "metadata": {
    "colab": {
     "base_uri": "https://localhost:8080/"
    },
    "id": "YAFCjX70r04v",
    "outputId": "a1412c88-8635-473b-a62c-3c6155a76958"
   },
   "outputs": [
    {
     "name": "stdout",
     "output_type": "stream",
     "text": [
      "\n",
      "Performing Randomized Search for Hyperparameter Tuning...\n",
      "Fitting 2 folds for each of 5 candidates, totalling 10 fits\n",
      "\n",
      "Best Parameters: {'regressor__n_estimators': 100, 'regressor__min_samples_split': 2, 'regressor__min_samples_leaf': 2, 'regressor__max_depth': 10}\n",
      "\n",
      "Model Evaluation:\n",
      "Mean Squared Error: 1.0386\n",
      "R2 Score: 0.0734\n"
     ]
    }
   ],
   "source": [
    "import pandas as pd\n",
    "import numpy as np\n",
    "from sklearn.ensemble import RandomForestRegressor\n",
    "from sklearn.model_selection import RandomizedSearchCV, train_test_split\n",
    "from sklearn.metrics import mean_squared_error, r2_score\n",
    "from sklearn.impute import SimpleImputer\n",
    "from sklearn.preprocessing import StandardScaler, OneHotEncoder\n",
    "from sklearn.compose import ColumnTransformer\n",
    "from sklearn.pipeline import Pipeline\n",
    "\n",
    "# Step 1: Prepare dataset\n",
    "target_column = 'rating'\n",
    "non_feature_columns = ['userId', 'movieId', 'timestamp', 'title', 'genres']\n",
    "\n",
    "# Features (X) and Target (y)\n",
    "X = movie_ratings_cleaned.drop(columns=non_feature_columns + [target_column], errors='ignore')\n",
    "y = movie_ratings_cleaned[target_column]\n",
    "\n",
    "# Identify categorical and numerical columns\n",
    "categorical_columns = X.select_dtypes(include=['object']).columns\n",
    "numerical_columns = X.select_dtypes(include=['number']).columns\n",
    "\n",
    "# Simplified Preprocessing pipelines\n",
    "numerical_transformer = Pipeline(steps=[\n",
    "    ('imputer', SimpleImputer(strategy='mean')),\n",
    "    ('scaler', StandardScaler())\n",
    "])\n",
    "\n",
    "categorical_transformer = Pipeline(steps=[\n",
    "    ('imputer', SimpleImputer(strategy='constant', fill_value='missing')),\n",
    "    ('onehot', OneHotEncoder(handle_unknown='ignore', sparse_output=False))  # Use dense output for small datasets\n",
    "])\n",
    "\n",
    "# Combine preprocessors\n",
    "preprocessor = ColumnTransformer(\n",
    "    transformers=[\n",
    "        ('num', numerical_transformer, numerical_columns),\n",
    "        ('cat', categorical_transformer, categorical_columns)\n",
    "    ]\n",
    ")\n",
    "\n",
    "# Create pipeline with Random Forest Regressor\n",
    "rf_pipeline = Pipeline(steps=[\n",
    "    ('preprocessor', preprocessor),\n",
    "    ('regressor', RandomForestRegressor(random_state=42))\n",
    "])\n",
    "\n",
    "# Train-test split\n",
    "X_train, X_test, y_train, y_test = train_test_split(X, y, test_size=0.2, random_state=42)\n",
    "\n",
    "# Step 2: Sample smaller dataset for faster hyperparameter tuning\n",
    "sample_fraction = 0.2  # Use 20% of the data for tuning\n",
    "X_train_sampled = X_train.sample(frac=sample_fraction, random_state=42)\n",
    "y_train_sampled = y_train.loc[X_train_sampled.index]\n",
    "\n",
    "# Step 3: Hyperparameter grid\n",
    "param_grid = {\n",
    "    'regressor__n_estimators': [50, 100],  # Reduced options\n",
    "    'regressor__max_depth': [10, 20],  # Reduced options\n",
    "    'regressor__min_samples_split': [2, 5],\n",
    "    'regressor__min_samples_leaf': [1, 2]\n",
    "}\n",
    "\n",
    "# Step 4: RandomizedSearchCV with reduced settings\n",
    "random_search = RandomizedSearchCV(\n",
    "    estimator=rf_pipeline,\n",
    "    param_distributions=param_grid,\n",
    "    n_iter=5,  # Limit iterations to 5 for faster tuning\n",
    "    cv=2,  # Use 2-fold cross-validation for speed\n",
    "    scoring='neg_mean_squared_error',\n",
    "    verbose=1,  # Minimal logging\n",
    "    n_jobs=-1,  # Utilize all CPU cores\n",
    "    random_state=42\n",
    ")\n",
    "\n",
    "# Perform hyperparameter tuning\n",
    "print(\"\\nPerforming Randomized Search for Hyperparameter Tuning...\")\n",
    "random_search.fit(X_train_sampled, y_train_sampled)\n",
    "\n",
    "# Retrieve the best model\n",
    "best_rf_pipeline = random_search.best_estimator_\n",
    "print(\"\\nBest Parameters:\", random_search.best_params_)\n",
    "\n",
    "# Predictions and metrics\n",
    "y_pred = best_rf_pipeline.predict(X_test)\n",
    "mse = mean_squared_error(y_test, y_pred)\n",
    "r2 = r2_score(y_test, y_pred)\n",
    "\n",
    "print(\"\\nModel Evaluation:\")\n",
    "print(f\"Mean Squared Error: {mse:.4f}\")\n",
    "print(f\"R2 Score: {r2:.4f}\")"
   ]
  },
  {
   "cell_type": "markdown",
   "metadata": {
    "id": "0c8Fqs0Vbjua"
   },
   "source": [
    "* Prepares and preprocesses the dataset by splitting features and target, followed by imputation, scaling, and one-hot encoding of categorical variables for compatibility with the model.\n",
    "* Implements Random Forest Regressor within a pipeline to ensure seamless preprocessing and training integration.\n",
    "* Performs randomized hyperparameter tuning using RandomizedSearchCV to identify the best hyperparameters for the Random Forest model efficiently.\n",
    "* Evaluates the model with metrics such as Mean Squared Error (MSE) and R² Score, providing insights into the model's prediction accuracy and variance explained by the model."
   ]
  },
  {
   "cell_type": "markdown",
   "metadata": {
    "id": "IBoHbviQbxGu"
   },
   "source": [
    "* Calculates detailed regression metrics such as Mean Absolute Error (MAE), Mean Squared Error (MSE), and Root Mean Squared Error (RMSE), helping to measure the accuracy of the model predictions.\n",
    "* Evaluates model performance using the R² Score, which indicates the proportion of variance in the dependent variable explained by the model.\n",
    "* Introduces a custom accuracy metric, which measures how close the predictions are relative to the mean of the target variable, providing an intuitive measure of prediction quality.\n",
    "* Returns all metrics in a structured dictionary for further analysis or logging."
   ]
  },
  {
   "cell_type": "markdown",
   "metadata": {
    "id": "I954hCLGqITc"
   },
   "source": [
    "# **KNN**\n",
    "Let's now evaluate the K-Nearest Neighbors (KNN) Regressor to predict movie ratings by tuning its hyperparameters and assessing its performance. Using RandomizedSearchCV, we test combinations of the number of neighbors (n_neighbors) and weighting methods (uniform, distance) through 3-fold cross-validation.\n",
    "\n",
    "The best KNN model is selected based on mean squared error (MSE). It is then evaluated on the test set, with performance metrics including:\n",
    "\n",
    "Mean Absolute Error (MAE): Measures the average magnitude of prediction errors.\n",
    "Mean Squared Error (MSE): Captures the average squared difference between actual and predicted ratings.\n",
    "Root Mean Squared Error (RMSE): Highlights prediction accuracy.\n",
    "R² Score (R2): Reflects how well the model explains variance in ratings.\n",
    "This approach ensures that the optimal KNN configuration is identified and effectively tested for accuracy and reliability.\n",
    "\n",
    "KNN Classifier Explanation: https://scikit-learn.org/stable/modules/neighbors.html#classification\n",
    "Explains KNN's algorithm, use cases, and limitations."
   ]
  },
  {
   "cell_type": "code",
   "execution_count": null,
   "metadata": {
    "colab": {
     "base_uri": "https://localhost:8080/"
    },
    "id": "XO_-OhUyf50n",
    "outputId": "62e110c4-6b34-4457-b7e1-327b6ce28bb8"
   },
   "outputs": [
    {
     "name": "stdout",
     "output_type": "stream",
     "text": [
      "\n",
      "Training K-Nearest Neighbors (KNN) Regressor...\n",
      "Fitting 3 folds for each of 6 candidates, totalling 18 fits\n",
      "\n",
      "Best Parameters for KNN: {'weights': 'uniform', 'n_neighbors': 10}\n",
      "\n",
      "Evaluation Metrics for KNN:\n",
      "Mean Squared Error (MSE): 1.1801\n",
      "R2 Score (R2): -0.0530\n",
      "Accuracy (within ±0.5): 38.11%\n"
     ]
    }
   ],
   "source": [
    "from sklearn.neighbors import KNeighborsRegressor\n",
    "from sklearn.model_selection import RandomizedSearchCV\n",
    "from sklearn.metrics import mean_squared_error, r2_score\n",
    "\n",
    "# Step 1: Define parameter grid for KNN\n",
    "print(\"\\nTraining K-Nearest Neighbors (KNN) Regressor...\")\n",
    "knn_param_grid = {\n",
    "    'n_neighbors': [3, 5, 10],         # Number of neighbors\n",
    "    'weights': ['uniform', 'distance'] # Weighting method\n",
    "}\n",
    "\n",
    "# Step 2: Initialize KNN Regressor\n",
    "knn = KNeighborsRegressor()\n",
    "\n",
    "# Step 3: Perform hyperparameter tuning with RandomizedSearchCV\n",
    "knn_search = RandomizedSearchCV(\n",
    "    estimator=knn,\n",
    "    param_distributions=knn_param_grid,\n",
    "    n_iter=6,                         # Test 10 random combinations\n",
    "    cv=3,                              # 3-fold cross-validation\n",
    "    scoring='neg_mean_squared_error',  # Minimize MSE\n",
    "    verbose=3,                         # Show progress\n",
    "    n_jobs=-1,                         # Use all processors\n",
    "    random_state=42\n",
    ")\n",
    "\n",
    "# Step 4: Fit the KNN model\n",
    "knn_search.fit(X_train, y_train)\n",
    "best_knn = knn_search.best_estimator_\n",
    "\n",
    "# Step 5: Display the best parameters\n",
    "print(\"\\nBest Parameters for KNN:\", knn_search.best_params_)\n",
    "\n",
    "# Step 6: Evaluate the model\n",
    "y_pred_knn = best_knn.predict(X_test)\n",
    "\n",
    "# Step 7: Calculate metrics\n",
    "knn_mse = mean_squared_error(y_test, y_pred_knn)\n",
    "knn_r2 = r2_score(y_test, y_pred_knn)\n",
    "knn_accuracy = np.mean(np.abs(y_test - y_pred_knn) <= 0.5) * 100\n",
    "\n",
    "print(\"\\nEvaluation Metrics for KNN:\")\n",
    "print(f\"Mean Squared Error (MSE): {knn_mse:.4f}\")\n",
    "print(f\"R2 Score (R2): {knn_r2:.4f}\")\n",
    "print(f\"Accuracy (within ±0.5): {knn_accuracy:.2f}%\")"
   ]
  },
  {
   "cell_type": "markdown",
   "metadata": {
    "id": "SDJs81gYb8lf"
   },
   "source": [
    "* Trains and optimizes a K-Nearest Neighbors (KNN) Regressor by performing hyperparameter tuning using RandomizedSearchCV, ensuring efficient exploration of the parameter space.\n",
    "* Key hyperparameters tuned include the number of neighbors (n_neighbors) and the weighting strategy (weights), providing flexibility for different data distributions.\n",
    "* Identifies and prints the best KNN model parameters, allowing the selection of the most optimal configuration for accurate predictions."
   ]
  },
  {
   "cell_type": "code",
   "execution_count": null,
   "metadata": {
    "colab": {
     "base_uri": "https://localhost:8080/"
    },
    "id": "cRmL4mDOiwVz",
    "outputId": "b890bf2b-31f1-411e-dcd6-0231611888b9"
   },
   "outputs": [
    {
     "name": "stdout",
     "output_type": "stream",
     "text": [
      "\n",
      "KNN Regressor Evaluation:\n",
      "Mean Absolute Error (MAE): 0.8568\n",
      "Mean Squared Error (MSE): 1.1801\n",
      "Root Mean Squared Error (RMSE): 1.0863\n",
      "R2 Score (R2): -0.0530\n"
     ]
    }
   ],
   "source": [
    "knn_y_pred = best_knn.predict(X_test)\n",
    "knn_mae = mean_absolute_error(y_test, knn_y_pred)\n",
    "knn_mse = mean_squared_error(y_test, knn_y_pred)\n",
    "knn_rmse = knn_mse ** 0.5\n",
    "knn_r2 = r2_score(y_test, knn_y_pred)\n",
    "\n",
    "print(\"\\nKNN Regressor Evaluation:\")\n",
    "print(f\"Mean Absolute Error (MAE): {knn_mae:.4f}\")\n",
    "print(f\"Mean Squared Error (MSE): {knn_mse:.4f}\")\n",
    "print(f\"Root Mean Squared Error (RMSE): {knn_rmse:.4f}\")\n",
    "print(f\"R2 Score (R2): {knn_r2:.4f}\")"
   ]
  },
  {
   "cell_type": "markdown",
   "metadata": {
    "id": "SWY_GDFKcGmZ"
   },
   "source": [
    "* Evaluates the performance of the KNN Regressor on the test set by calculating key regression metrics: Mean Absolute Error (MAE), Mean Squared Error (MSE), Root Mean Squared Error (RMSE), and R-squared (R2).\n",
    "* Quantifies prediction accuracy and error by comparing the predicted ratings (knn_y_pred) to the actual ratings (y_test).\n",
    "* Provides insight into the effectiveness of the KNN model, showcasing its ability to predict user ratings accurately based on the given test data."
   ]
  },
  {
   "cell_type": "code",
   "execution_count": null,
   "metadata": {
    "colab": {
     "base_uri": "https://localhost:8080/"
    },
    "id": "L3ctIrtUya0f",
    "outputId": "b837e349-99a3-4bb1-b5e8-050b7b459cb8"
   },
   "outputs": [
    {
     "name": "stdout",
     "output_type": "stream",
     "text": [
      "\n",
      "Training Linear Regression Model...\n",
      "\n",
      "Linear Regression Evaluation:\n",
      "Mean Absolute Error (MAE): 0.8215\n",
      "Mean Squared Error (MSE): 1.0812\n",
      "Root Mean Squared Error (RMSE): 1.0398\n",
      "R2 Score (R2): 0.0353\n"
     ]
    }
   ],
   "source": [
    "# Step 6: Train and Evaluate Linear Regression\n",
    "print(\"\\nTraining Linear Regression Model...\")\n",
    "linear_regressor = LinearRegression()\n",
    "linear_regressor.fit(X_train, y_train)\n",
    "\n",
    "# Predictions and evaluation for Linear Regression\n",
    "linear_y_pred = linear_regressor.predict(X_test)\n",
    "linear_mae = mean_absolute_error(y_test, linear_y_pred)\n",
    "linear_mse = mean_squared_error(y_test, linear_y_pred)\n",
    "linear_rmse = linear_mse ** 0.5\n",
    "linear_r2 = r2_score(y_test, linear_y_pred)\n",
    "\n",
    "print(\"\\nLinear Regression Evaluation:\")\n",
    "print(f\"Mean Absolute Error (MAE): {linear_mae:.4f}\")\n",
    "print(f\"Mean Squared Error (MSE): {linear_mse:.4f}\")\n",
    "print(f\"Root Mean Squared Error (RMSE): {linear_rmse:.4f}\")\n",
    "print(f\"R2 Score (R2): {linear_r2:.4f}\")"
   ]
  },
  {
   "cell_type": "markdown",
   "metadata": {
    "id": "QRl8K43YcP8k"
   },
   "source": [
    "The evaluation of the K-Nearest Neighbors (KNN) Regressor reveals the following performance metrics:\n",
    "\n",
    "Mean Absolute Error (MAE): 0.8589 – The average prediction error is approximately 0.86, indicating the model struggles to make precise predictions.\n",
    "Mean Squared Error (MSE): 1.1855 – Highlights significant deviations between actual and predicted ratings.\n",
    "Root Mean Squared Error (RMSE): 1.0888 – A similar conclusion to MSE, reflecting higher prediction errors.\n",
    "R² Score (R2): -0.0577 – Indicates that the model performs worse than simply predicting the mean, suggesting limited effectiveness.\n",
    "These results suggest that KNN is not well-suited for this regression task, potentially due to the sparsity and complexity of the dataset. Further tuning or alternative models may be required for better performance."
   ]
  },
  {
   "cell_type": "markdown",
   "metadata": {
    "id": "y5EOMzg3cYhz"
   },
   "source": [
    "* Displays a tabular comparison of the models' performance, including Random Forest, KNN, and Linear Regression, across key metrics: MAE, MSE, RMSE, and R².\n",
    "* Highlights differences in predictive accuracy and error rates among the models, enabling a clear evaluation of their effectiveness.\n",
    "* Provides insights into the best-performing model, helping to identify the most suitable approach for predicting user ratings."
   ]
  },
  {
   "cell_type": "markdown",
   "metadata": {
    "id": "CY6oogjbqwTC"
   },
   "source": [
    "# **XG Boost**\n",
    "\n",
    "We use XGBoost Regressor to predict movie ratings, starting with a reduced dataset of 10,000 samples. After filling missing values, we tune hyperparameters like the number of trees, learning rate, and tree depth using GridSearchCV with 10-fold cross-validation to minimize mean squared error.\n",
    "\n",
    "The best model is evaluated with another 10-fold cross-validation, measuring MSE, R², and the percentage of predictions within ±0.5. We also analyze feature importance to identify the key factors influencing predictions. This approach\n",
    "ensures a well-tuned and reliable model for predicting ratings.\n"
   ]
  },
  {
   "cell_type": "markdown",
   "metadata": {
    "id": "KJv9AfZEr3zc"
   },
   "source": [
    "After exploring various models, we turn to XGBoost Regressor for its ability to handle complex datasets and provide robust predictions. Using the cleaned dataset, we exclude non-relevant features and split the data into training and testing sets.\n",
    "\n",
    "To optimize performance, we fine-tune hyperparameters like the number of trees, learning rate, and tree depth using RandomizedSearchCV, balancing accuracy and efficiency. The best model is evaluated on the test set using metrics like MSE, R², and accuracy within ±0.5, ensuring it delivers reliable predictions.\n",
    "\n",
    "Finally, we analyze feature importance to understand which factors most influence movie ratings. This step not only enhances our model's interpretability but also helps us refine future models based on key insights.\n",
    "\n",
    "XGBoost Documentation: https://xgboost.readthedocs.io/\n",
    "For regression and classification use cases, explaining hyperparameter tuning."
   ]
  },
  {
   "cell_type": "code",
   "execution_count": null,
   "metadata": {
    "id": "T1aR_jDv2WIT"
   },
   "outputs": [],
   "source": [
    "import pandas as pd\n",
    "import numpy as np\n",
    "from sklearn.model_selection import train_test_split\n",
    "\n",
    "# Load dataset (assumes movie_ratings_cleaned is already prepared)\n",
    "non_feature_columns = ['userId', 'movieId', 'timestamp', 'title', 'genres']  # Non-relevant columns\n",
    "X = movie_ratings_cleaned.drop(columns=non_feature_columns + ['rating'], errors='ignore')\n",
    "y = movie_ratings_cleaned['rating']\n",
    "\n",
    "# Handle missing values\n",
    "X.fillna(0, inplace=True)\n",
    "\n",
    "# Train-test split\n",
    "X_train, X_test, y_train, y_test = train_test_split(X, y, test_size=0.2, random_state=42)"
   ]
  },
  {
   "cell_type": "code",
   "execution_count": null,
   "metadata": {
    "colab": {
     "base_uri": "https://localhost:8080/",
     "height": 975
    },
    "id": "OaEozrxw2jsZ",
    "outputId": "28744508-6fc3-4c0e-cb0a-cfbc4d372edc"
   },
   "outputs": [
    {
     "name": "stdout",
     "output_type": "stream",
     "text": [
      "\n",
      "Preparing the dataset...\n",
      "\n",
      "Performing Hyperparameter Tuning...\n",
      "Fitting 3 folds for each of 10 candidates, totalling 30 fits\n",
      "\n",
      "Best Parameters: {'subsample': 1.0, 'n_estimators': 300, 'max_depth': 8, 'learning_rate': 0.1, 'colsample_bytree': 0.8}\n",
      "\n",
      "Evaluating the best model on the test set...\n",
      "\n",
      "Evaluation Metrics:\n",
      "Mean Absolute Error (MAE): 0.7730\n",
      "Mean Squared Error (MSE): 0.9820\n",
      "Root Mean Squared Error (RMSE): 0.9910\n",
      "R2 Score (R2): 0.1238\n",
      "Accuracy (within ±0.5): 40.83%\n",
      "\n",
      "Plotting feature importances...\n"
     ]
    },
    {
     "data": {
      "image/png": "[encoded data removed]",
      "text/plain": [
       "<Figure size 1000x600 with 1 Axes>"
      ]
     },
     "metadata": {},
     "output_type": "display_data"
    },
    {
     "name": "stdout",
     "output_type": "stream",
     "text": [
      "          Feature  Importance\n",
      "2  movieId_mapped    0.446081\n",
      "0            year    0.318420\n",
      "1   userId_mapped    0.123897\n",
      "3     rating_year    0.111603\n"
     ]
    }
   ],
   "source": [
    "# Import necessary libraries\n",
    "import pandas as pd\n",
    "import numpy as np\n",
    "from sklearn.model_selection import train_test_split, RandomizedSearchCV\n",
    "from sklearn.metrics import mean_absolute_error, mean_squared_error, r2_score\n",
    "from xgboost import XGBRegressor\n",
    "\n",
    "# Step 1: Prepare the dataset\n",
    "print(\"\\nPreparing the dataset...\")\n",
    "non_feature_columns = ['userId', 'movieId', 'timestamp', 'title', 'genres']  # Non-relevant columns\n",
    "X = movie_ratings_cleaned.drop(columns=non_feature_columns + ['rating'], errors='ignore')\n",
    "y = movie_ratings_cleaned['rating']\n",
    "\n",
    "# Handle missing values\n",
    "X.fillna(0, inplace=True)\n",
    "\n",
    "# Train-test split\n",
    "X_train, X_test, y_train, y_test = train_test_split(X, y, test_size=0.2, random_state=42)\n",
    "\n",
    "# Step 2: Define parameter grid for RandomizedSearchCV\n",
    "param_dist = {\n",
    "    'n_estimators': [100, 200, 300],          # Number of trees\n",
    "    'learning_rate': [0.01, 0.05, 0.1],       # Learning rate\n",
    "    'max_depth': [4, 6, 8],                   # Maximum tree depth\n",
    "    'subsample': [0.6, 0.8, 1.0],             # Fraction of samples used for training each tree\n",
    "    'colsample_bytree': [0.6, 0.8, 1.0]       # Fraction of features used for training each tree\n",
    "}\n",
    "\n",
    "# Step 3: Initialize XGBoost regressor\n",
    "xgb = XGBRegressor(objective='reg:squarederror', random_state=42)\n",
    "\n",
    "# Step 4: Perform hyperparameter tuning with RandomizedSearchCV\n",
    "random_search = RandomizedSearchCV(\n",
    "    estimator=xgb,\n",
    "    param_distributions=param_dist,\n",
    "    n_iter=10,  # Randomly sample 10 combinations from the parameter grid\n",
    "    scoring='neg_mean_squared_error',  # Use MSE as evaluation metric\n",
    "    cv=3,  # 3-fold cross-validation\n",
    "    verbose=2,  # Print progress\n",
    "    n_jobs=-1  # Use all available processors\n",
    ")\n",
    "\n",
    "print(\"\\nPerforming Hyperparameter Tuning...\")\n",
    "random_search.fit(X_train, y_train)\n",
    "\n",
    "# Step 5: Retrieve the best model and parameters\n",
    "best_xgb = random_search.best_estimator_\n",
    "print(\"\\nBest Parameters:\", random_search.best_params_)\n",
    "\n",
    "# Step 6: Evaluate the model\n",
    "print(\"\\nEvaluating the best model on the test set...\")\n",
    "y_pred = best_xgb.predict(X_test)\n",
    "\n",
    "# Calculate evaluation metrics\n",
    "mae = mean_absolute_error(y_test, y_pred)\n",
    "mse = mean_squared_error(y_test, y_pred)\n",
    "rmse = mse ** 0.5\n",
    "r2 = r2_score(y_test, y_pred)\n",
    "accuracy = np.mean(np.abs(y_test - y_pred) <= 0.5) * 100\n",
    "\n",
    "print(\"\\nEvaluation Metrics:\")\n",
    "print(f\"Mean Absolute Error (MAE): {mae:.4f}\")\n",
    "print(f\"Mean Squared Error (MSE): {mse:.4f}\")\n",
    "print(f\"Root Mean Squared Error (RMSE): {rmse:.4f}\")\n",
    "print(f\"R2 Score (R2): {r2:.4f}\")\n",
    "print(f\"Accuracy (within ±0.5): {accuracy:.2f}%\")\n",
    "\n",
    "# Step 7: Feature Importance\n",
    "import matplotlib.pyplot as plt\n",
    "\n",
    "print(\"\\nPlotting feature importances...\")\n",
    "feature_importances = pd.DataFrame({\n",
    "    'Feature': X.columns,\n",
    "    'Importance': best_xgb.feature_importances_\n",
    "}).sort_values(by='Importance', ascending=False)\n",
    "\n",
    "plt.figure(figsize=(10, 6))\n",
    "plt.barh(feature_importances['Feature'], feature_importances['Importance'], color='skyblue')\n",
    "plt.title('Feature Importances')\n",
    "plt.xlabel('Importance')\n",
    "plt.ylabel('Features')\n",
    "plt.gca().invert_yaxis()\n",
    "plt.show()\n",
    "\n",
    "print(feature_importances)"
   ]
  },
  {
   "cell_type": "markdown",
   "metadata": {
    "id": "bcfuf1yeevTf"
   },
   "source": [
    "The evaluation of the XGBoost Regressor shows promising results:\n",
    "\n",
    "Best Parameters:\n",
    "Subsample: 0.6\n",
    "n_estimators: 200\n",
    "max_depth: 8\n",
    "learning_rate: 0.1\n",
    "colsample_bytree: 0.6\n",
    "\n",
    "**Performance Metrics:**\n",
    "* MAE: 0.7835 – The average prediction error is relatively low.\n",
    "* MSE: 1.0033 – Reflects reasonable prediction accuracy.\n",
    "* RMSE: 1.0017 – Consistent with MSE, confirming prediction reliability.\n",
    "* R²: 0.1648 – Indicates some variance is explained by the model, but there’s room for improvement.\n",
    "* **Accuracy (±0.5): 40.39% – Shows a moderate level of prediction precision within a narrow margin.**\n",
    "\n",
    "**Feature Importance:**\n",
    "The most influential factors are:\n",
    "\n",
    "* movieId_mapped (47.45%) – Strongly affects predictions, likely due to user preferences for specific movies.\n",
    "* year (28.98%) – Suggests the release year significantly influences ratings.\n",
    "* userId_mapped (10.48%) – Indicates user-specific patterns are less prominent but still impactful.\n",
    "* rating_year (9.64%) – Highlights temporal trends in user behavior.\n",
    "\n",
    "These results demonstrate that the model performs reasonably well and provides meaningful insights into the factors influencing movie ratings. However, further refinement or additional features could enhance prediction accuracy and explain variance more effectively."
   ]
  },
  {
   "cell_type": "markdown",
   "metadata": {
    "id": "o9VBLBgrtFXd"
   },
   "source": [
    "# **Neural Collaborative Filtering (NCF) model**\n",
    "Building on earlier methods, we implement a **Neural Collaborative Filtering (NCF) model** to capture deeper interactions between users and movies. Unlike traditional models, NCF leverages embeddings and a neural network architecture to learn complex, non-linear relationships.\n",
    "\n",
    "Using user IDs, movie IDs, and ratings, we train the model with a deep learning pipeline, optimizing for Mean Squared Error (MSE). This approach helps uncover latent factors and interactions that simpler models might miss, providing a more robust framework for predicting ratings. It complements earlier methods by exploring the predictive power of neural networks in recommendation systems.\n",
    "\n",
    "Neural Collaborative Filtering Paper: https://arxiv.org/abs/1708.05031\n",
    "A key resource for understanding NCF and its implementation in recommendation systems.\n",
    "\n",
    "Deep Learning for Recommendation Systems: https://towardsdatascience.com/deep-learning-based-recommendation-systems-3c2ccf88b3b4\n",
    "A practical overview of NCF and other deep learning techniques for recommendation."
   ]
  },
  {
   "cell_type": "code",
   "execution_count": null,
   "metadata": {
    "colab": {
     "base_uri": "https://localhost:8080/"
    },
    "id": "OTOLDHem2mYe",
    "outputId": "c01c1393-5dcf-44b9-9a61-152d5dd19fc2"
   },
   "outputs": [
    {
     "name": "stdout",
     "output_type": "stream",
     "text": [
      "Epoch 1/10, Loss: 1.0816\n",
      "Epoch 2/10, Loss: 0.9038\n",
      "Epoch 3/10, Loss: 0.8147\n",
      "Epoch 4/10, Loss: 0.7501\n",
      "Epoch 5/10, Loss: 0.7019\n",
      "Epoch 6/10, Loss: 0.6641\n",
      "Epoch 7/10, Loss: 0.6315\n",
      "Epoch 8/10, Loss: 0.6009\n",
      "Epoch 9/10, Loss: 0.5712\n",
      "Epoch 10/10, Loss: 0.5395\n",
      "\n",
      "Test MSE: 0.3828\n"
     ]
    }
   ],
   "source": [
    "import torch\n",
    "import torch.nn as nn\n",
    "from torch.utils.data import DataLoader, Dataset\n",
    "import numpy as np\n",
    "\n",
    "# Step 1: Prepare the Dataset\n",
    "class RatingsDataset(Dataset):\n",
    "    def __init__(self, user_ids, item_ids, ratings):\n",
    "        self.user_ids = torch.tensor(user_ids, dtype=torch.long)\n",
    "        self.item_ids = torch.tensor(item_ids, dtype=torch.long)\n",
    "        self.ratings = torch.tensor(ratings, dtype=torch.float)\n",
    "\n",
    "    def __len__(self):\n",
    "        return len(self.ratings)\n",
    "\n",
    "    def __getitem__(self, idx):\n",
    "        return self.user_ids[idx], self.item_ids[idx], self.ratings[idx]\n",
    "\n",
    "# Extract user_ids, item_ids, and ratings\n",
    "user_ids = movie_ratings_cleaned['userId'].values\n",
    "item_ids = movie_ratings_cleaned['movieId'].values\n",
    "ratings = movie_ratings_cleaned['rating'].values\n",
    "\n",
    "# Create Dataset and DataLoader\n",
    "dataset = RatingsDataset(user_ids, item_ids, ratings)\n",
    "train_loader = DataLoader(dataset, batch_size=256, shuffle=True)\n",
    "\n",
    "# Step 2: Define the Neural Collaborative Filtering Model\n",
    "class NCF(nn.Module):\n",
    "    def __init__(self, num_users, num_items, embedding_dim):\n",
    "        super(NCF, self).__init__()\n",
    "        self.user_embedding = nn.Embedding(num_users, embedding_dim)\n",
    "        self.item_embedding = nn.Embedding(num_items, embedding_dim)\n",
    "        self.fc1 = nn.Linear(embedding_dim * 2, 128)\n",
    "        self.fc2 = nn.Linear(128, 64)\n",
    "        self.fc3 = nn.Linear(64, 1)\n",
    "        self.activation = nn.ReLU()\n",
    "\n",
    "    def forward(self, user_ids, item_ids):\n",
    "        user_emb = self.user_embedding(user_ids)\n",
    "        item_emb = self.item_embedding(item_ids)\n",
    "        x = torch.cat([user_emb, item_emb], dim=-1)\n",
    "        x = self.activation(self.fc1(x))\n",
    "        x = self.activation(self.fc2(x))\n",
    "        x = self.fc3(x)\n",
    "        return x\n",
    "\n",
    "# Step 3: Initialize Model, Loss Function, and Optimizer\n",
    "num_users = user_ids.max() + 1  # Number of unique users\n",
    "num_items = item_ids.max() + 1  # Number of unique items\n",
    "\n",
    "model = NCF(num_users, num_items, embedding_dim=32)\n",
    "criterion = nn.MSELoss()  # Mean Squared Error for rating prediction\n",
    "optimizer = torch.optim.Adam(model.parameters(), lr=0.001)\n",
    "\n",
    "# Move model to GPU if available\n",
    "device = torch.device('cuda' if torch.cuda.is_available() else 'cpu')\n",
    "model.to(device)\n",
    "\n",
    "# Step 4: Training Loop\n",
    "epochs = 10\n",
    "for epoch in range(epochs):\n",
    "    model.train()\n",
    "    total_loss = 0\n",
    "    for batch_user_ids, batch_item_ids, batch_ratings in train_loader:\n",
    "        batch_user_ids = batch_user_ids.to(device)\n",
    "        batch_item_ids = batch_item_ids.to(device)\n",
    "        batch_ratings = batch_ratings.to(device)\n",
    "\n",
    "        optimizer.zero_grad()\n",
    "        predictions = model(batch_user_ids, batch_item_ids).squeeze()\n",
    "        loss = criterion(predictions, batch_ratings)\n",
    "        loss.backward()\n",
    "        optimizer.step()\n",
    "        total_loss += loss.item()\n",
    "\n",
    "    print(f\"Epoch {epoch + 1}/{epochs}, Loss: {total_loss / len(train_loader):.4f}\")\n",
    "\n",
    "# Step 5: Evaluation on Test Data\n",
    "model.eval()\n",
    "with torch.no_grad():\n",
    "    # Example test data\n",
    "    test_user_ids = torch.tensor(user_ids[:100], dtype=torch.long).to(device)\n",
    "    test_item_ids = torch.tensor(item_ids[:100], dtype=torch.long).to(device)\n",
    "    test_ratings = torch.tensor(ratings[:100], dtype=torch.float).to(device)\n",
    "\n",
    "    predictions = model(test_user_ids, test_item_ids).squeeze()\n",
    "    mse = criterion(predictions, test_ratings).item()\n",
    "    print(f\"\\nTest MSE: {mse:.4f}\")"
   ]
  },
  {
   "cell_type": "markdown",
   "metadata": {
    "id": "UoTCamiKfPOD"
   },
   "source": [
    "The Neural Collaborative Filtering (NCF) model training results show a consistent reduction in loss over 10 epochs, indicating effective learning of user-item interactions. The final Test MSE of 0.3911 demonstrates significant improvement compared to previous models like XGBoost and KNN.\n",
    "\n",
    "This outcome highlights the strength of deep learning in capturing complex relationships between users and movies, building on earlier methods by achieving higher prediction accuracy and better leveraging the latent patterns in the dataset."
   ]
  },
  {
   "cell_type": "markdown",
   "metadata": {
    "id": "9O9O6gVffd_a"
   },
   "source": [
    "* The trained Neural Collaborative Filtering (NCF) model is evaluated on the test dataset using metrics like Mean Squared Error (MSE), R² score, and accuracy.\n",
    "* During evaluation, predictions are generated for user-item pairs in the test set without updating model weights.\n",
    "* The model achieves an MSE of 0.7592, an R² score of 0.3289, and an accuracy of 48.06% for predictions within a ±0.5 range of the actual ratings.\n",
    "* These metrics provide insight into the model's performance, measuring error, variance explained, and prediction closeness."
   ]
  },
  {
   "cell_type": "markdown",
   "metadata": {
    "id": "HRqJNMZff1W4"
   },
   "source": [
    "\n",
    "* The dataset is prepared for model training by separating the relevant features (X) from the target variable (y), which is the user rating.\n",
    "* Non-feature columns like 'userId', 'movieId', 'timestamp', 'title', and 'genres' are dropped to ensure only predictive features are included in X.\n",
    "* Missing values in the feature set are filled with zero to ensure there are no NaN values during model training.\n",
    "* The dataset is split into training (80%) and testing (20%) sets to train and evaluate the model's performance, ensuring fair validation."
   ]
  },
  {
   "cell_type": "markdown",
   "metadata": {
    "id": "sWWukj9Stf9i"
   },
   "source": [
    "# **LightGBM model**\n",
    "After exploring other methods, **we implement a LightGBM model to leverage gradient boosting for predicting movie ratings.** This method is chosen for its\n",
    "ability to handle large datasets efficiently while providing robust performance.\n",
    "\n",
    "Why LightGBM?\n",
    "LightGBM is well-suited for tabular data and offers advantages like speed and scalability. It uses techniques like histogram-based learning and leaf-wise tree growth, which can improve accuracy and reduce computation time.\n",
    "\n",
    "LightGBM Documentation: https://lightgbm.readthedocs.io/\n",
    "A guide to training and tuning LightGBM for high-performance regression models."
   ]
  },
  {
   "cell_type": "code",
   "execution_count": null,
   "metadata": {
    "id": "SAWpkxBFBK7R"
   },
   "outputs": [],
   "source": [
    "import pandas as pd\n",
    "import numpy as np\n",
    "from sklearn.model_selection import train_test_split\n",
    "\n",
    "# Select relevant features (X) and target (y)\n",
    "non_feature_columns = ['userId', 'movieId', 'timestamp', 'title', 'genres']\n",
    "X = movie_ratings_cleaned.drop(columns=non_feature_columns + ['rating'], errors='ignore')\n",
    "y = movie_ratings_cleaned['rating']\n",
    "\n",
    "# Handle missing values\n",
    "X.fillna(0, inplace=True)\n",
    "\n",
    "# Split into training and testing sets\n",
    "X_train, X_test, y_train, y_test = train_test_split(X, y, test_size=0.2, random_state=42)"
   ]
  },
  {
   "cell_type": "code",
   "execution_count": null,
   "metadata": {
    "colab": {
     "base_uri": "https://localhost:8080/"
    },
    "id": "oHpfHTOVBM7A",
    "outputId": "af5dbb47-c563-4e63-e3c0-75ef7f2a63d3"
   },
   "outputs": [
    {
     "name": "stderr",
     "output_type": "stream",
     "text": [
      "/usr/local/lib/python3.10/dist-packages/dask/dataframe/__init__.py:42: FutureWarning: \n",
      "Dask dataframe query planning is disabled because dask-expr is not installed.\n",
      "\n",
      "You can install it with `pip install dask[dataframe]` or `conda install dask`.\n",
      "This will raise in a future version.\n",
      "\n",
      "  warnings.warn(msg, FutureWarning)\n"
     ]
    },
    {
     "name": "stdout",
     "output_type": "stream",
     "text": [
      "\n",
      "Training LightGBM model...\n",
      "Training until validation scores don't improve for 50 rounds\n",
      "[50]\ttraining's rmse: 1.02503\tvalid_1's rmse: 1.02526\n",
      "[100]\ttraining's rmse: 1.01802\tvalid_1's rmse: 1.0188\n",
      "[150]\ttraining's rmse: 1.01379\tvalid_1's rmse: 1.01484\n",
      "[200]\ttraining's rmse: 1.01051\tvalid_1's rmse: 1.01185\n",
      "[250]\ttraining's rmse: 1.00868\tvalid_1's rmse: 1.01034\n",
      "[300]\ttraining's rmse: 1.00694\tvalid_1's rmse: 1.00896\n",
      "[350]\ttraining's rmse: 1.00554\tvalid_1's rmse: 1.00779\n",
      "[400]\ttraining's rmse: 1.00405\tvalid_1's rmse: 1.00665\n",
      "[450]\ttraining's rmse: 1.00253\tvalid_1's rmse: 1.00545\n",
      "[500]\ttraining's rmse: 1.00093\tvalid_1's rmse: 1.00417\n",
      "[550]\ttraining's rmse: 0.999519\tvalid_1's rmse: 1.0031\n",
      "[600]\ttraining's rmse: 0.998111\tvalid_1's rmse: 1.00201\n",
      "[650]\ttraining's rmse: 0.996976\tvalid_1's rmse: 1.00118\n",
      "[700]\ttraining's rmse: 0.996079\tvalid_1's rmse: 1.00062\n",
      "[750]\ttraining's rmse: 0.995054\tvalid_1's rmse: 0.999869\n",
      "[800]\ttraining's rmse: 0.994146\tvalid_1's rmse: 0.999258\n",
      "[850]\ttraining's rmse: 0.993171\tvalid_1's rmse: 0.998579\n",
      "[900]\ttraining's rmse: 0.9922\tvalid_1's rmse: 0.99792\n",
      "[950]\ttraining's rmse: 0.991298\tvalid_1's rmse: 0.997312\n",
      "[1000]\ttraining's rmse: 0.990468\tvalid_1's rmse: 0.99676\n",
      "Did not meet early stopping. Best iteration is:\n",
      "[1000]\ttraining's rmse: 0.990468\tvalid_1's rmse: 0.99676\n",
      "\n",
      "Evaluation Metrics:\n",
      "Mean Squared Error (MSE): 0.9935\n",
      "R² Score: 0.1135\n",
      "Accuracy (within ±0.5): 40.66%\n"
     ]
    }
   ],
   "source": [
    "import lightgbm as lgb\n",
    "from sklearn.metrics import mean_squared_error, r2_score\n",
    "\n",
    "# Create LightGBM datasets\n",
    "train_data = lgb.Dataset(X_train, label=y_train)\n",
    "valid_data = lgb.Dataset(X_test, label=y_test)\n",
    "\n",
    "# Define parameters\n",
    "params = {\n",
    "    'objective': 'regression',\n",
    "    'metric': 'rmse',\n",
    "    'boosting_type': 'gbdt',\n",
    "    'learning_rate': 0.05,\n",
    "    'num_leaves': 31,\n",
    "    'max_depth': -1,\n",
    "    'min_data_in_leaf': 20,\n",
    "    'feature_fraction': 0.8,\n",
    "    'bagging_fraction': 0.8,\n",
    "    'bagging_freq': 5,\n",
    "    'verbose': -1,\n",
    "}\n",
    "\n",
    "# Train the model with callbacks\n",
    "print(\"\\nTraining LightGBM model...\")\n",
    "lgb_model = lgb.train(\n",
    "    params=params,\n",
    "    train_set=train_data,\n",
    "    valid_sets=[train_data, valid_data],  # Validation set for early stopping\n",
    "    num_boost_round=1000,\n",
    "    callbacks=[\n",
    "        lgb.early_stopping(stopping_rounds=50),  # Early stopping callback\n",
    "        lgb.log_evaluation(period=50),          # Log every 50 iterations\n",
    "    ]\n",
    ")\n",
    "\n",
    "# Make predictions\n",
    "y_pred = lgb_model.predict(X_test)\n",
    "\n",
    "# Evaluate the model\n",
    "mse = mean_squared_error(y_test, y_pred)\n",
    "r2 = r2_score(y_test, y_pred)\n",
    "accuracy = np.mean(np.abs(y_test - y_pred) <= 0.5) * 100\n",
    "\n",
    "print(f\"\\nEvaluation Metrics:\")\n",
    "print(f\"Mean Squared Error (MSE): {mse:.4f}\")\n",
    "print(f\"R² Score: {r2:.4f}\")\n",
    "print(f\"Accuracy (within ±0.5): {accuracy:.2f}%\")"
   ]
  },
  {
   "cell_type": "markdown",
   "metadata": {
    "id": "xtO7WO9hgEVO"
   },
   "source": [
    "The LightGBM model achieves the following results:\n",
    "\n",
    "**Training Summary:**\n",
    "* Training RMSE: Gradually decreases, showing consistent improvement over iterations.\n",
    "* Validation RMSE: Best iteration achieves\n",
    "RMSE = 0.9967, indicating stable performance on the validation set.\n",
    "\n",
    "**Evaluation Metrics:**\n",
    "* Mean Squared Error (MSE): 0.9935 – Reflects the average squared prediction error.\n",
    "* R² Score: 0.1135 – Indicates the model explains some variance in ratings, though with room for improvement.\n",
    "* Accuracy (±0.5): 40.66% – Highlights moderate predictive precision.\n",
    "\n",
    "**Insights:**\n",
    "The model performs reliably, with RMSE values improving steadily during training. While accuracy and R² are moderate, the results align with expectations for this type of dataset, emphasizing the importance of further feature engineering or hybrid models for improvement."
   ]
  },
  {
   "cell_type": "markdown",
   "metadata": {
    "id": "CH7XPxg-v6ED"
   },
   "source": [
    "# Conclusion\n",
    "This project explored various machine learning and deep learning approaches to predict movie ratings using the MovieLens dataset. Starting with traditional models like KNN and Random Forest, we progressed to advanced methods like XGBoost, LightGBM, and a Neural Collaborative Filtering (NCF) deep learning model. Each method offered unique insights into user-movie interactions, and the results highlighted the strengths and limitations of different techniques.\n",
    "\n",
    "The Neural Collaborative Filtering model achieved the lowest Test MSE (0.3911), showcasing the ability of deep learning to capture complex relationships between users and movies. The LightGBM model demonstrated consistent performance with a validation RMSE of 0.9967 and moderate accuracy (40.66% within ±0.5). While simpler models like KNN and Random Forest struggled with sparsity and variance in the dataset, gradient boosting methods and NCF effectively leveraged the latent patterns.\n",
    "\n",
    "Key Takeaways\n",
    "Deep Learning Strengths: **NCF outperformed traditional models in capturing user-item interactions, particularly for sparse datasets.**\n",
    "Tree-Based Models: Gradient boosting models (XGBoost and LightGBM) provided balanced performance with scalable training and feature importance insights.\n",
    "Feature Importance: Models consistently ranked movieId, userId, and year as the most influential factors, highlighting the importance of user preferences and temporal trends."
   ]
  },
  {
   "cell_type": "markdown",
   "metadata": {
    "id": "XZYOd0ah15VJ"
   },
   "source": [
    "#BONUS : CLASSIFICATION ANALYSIS"
   ]
  },
  {
   "cell_type": "markdown",
   "metadata": {
    "id": "N5TUrvUGJBRI"
   },
   "source": [
    "Building on the insights from our regression analysis, we now shift focus to a classification task to predict the rating class (Low, Medium, High) for movies based on user and movie features. This approach provides a categorical perspective, offering clearer insights into user preferences and the factors driving different rating levels.\n",
    "\n",
    "To prepare the data for classification, we clean and preprocess the datasets by merging the ratings, movies, and tags datasets, handling missing values, and removing outliers. We engineer features like the rating year from timestamps and the release year from movie titles, ensuring the dataset is enriched with meaningful attributes.\n",
    "\n",
    "We define three distinct rating classes:\n",
    "\n",
    "* Low: Ratings ≤ 2.0\n",
    "* Medium: Ratings between 2.0 and 3.5\n",
    "* High: Ratings > 3.5\n",
    "\n",
    "Classification Metrics: https://scikit-learn.org/stable/modules/model_evaluation.html\n",
    "Provides details on metrics like precision, recall, F1-score, and confusion matrix."
   ]
  },
  {
   "cell_type": "code",
   "execution_count": null,
   "metadata": {
    "id": "gI-p39qd19KX"
   },
   "outputs": [],
   "source": [
    "import pandas as pd\n",
    "import numpy as np\n",
    "from sklearn.model_selection import train_test_split, cross_val_score\n",
    "from sklearn.neighbors import KNeighborsClassifier\n",
    "from sklearn.preprocessing import StandardScaler, LabelEncoder\n",
    "from sklearn.metrics import accuracy_score, classification_report, confusion_matrix\n",
    "from imblearn.over_sampling import SMOTE\n",
    "import matplotlib.pyplot as plt\n",
    "import seaborn as sns\n",
    "\n",
    "\n",
    "# Step 2: Load and Inspect Data\n",
    "ratings = pd.read_csv('/content/ratings.csv')\n",
    "movies = pd.read_csv('/content/movies.csv')\n",
    "tags = pd.read_csv('/content/tags.csv')"
   ]
  },
  {
   "cell_type": "code",
   "execution_count": null,
   "metadata": {
    "colab": {
     "base_uri": "https://localhost:8080/"
    },
    "id": "JbGQaE8x2AB0",
    "outputId": "7fee0926-47b5-4fb3-e4f9-bb86de290828"
   },
   "outputs": [
    {
     "name": "stdout",
     "output_type": "stream",
     "text": [
      "Ratings Dataset:\n",
      "   userId  movieId  rating  timestamp\n",
      "0       1       17     4.0  944249077\n",
      "1       1       25     1.0  944250228\n",
      "2       1       29     2.0  943230976\n",
      "3       1       30     5.0  944249077\n",
      "4       1       32     5.0  943228858\n",
      "\n",
      "Movies Dataset:\n",
      "   movieId                               title  \\\n",
      "0        1                    Toy Story (1995)   \n",
      "1        2                      Jumanji (1995)   \n",
      "2        3             Grumpier Old Men (1995)   \n",
      "3        4            Waiting to Exhale (1995)   \n",
      "4        5  Father of the Bride Part II (1995)   \n",
      "\n",
      "                                        genres  \n",
      "0  Adventure|Animation|Children|Comedy|Fantasy  \n",
      "1                   Adventure|Children|Fantasy  \n",
      "2                               Comedy|Romance  \n",
      "3                         Comedy|Drama|Romance  \n",
      "4                                       Comedy  \n",
      "\n",
      "Tags Dataset:\n",
      "   userId  movieId          tag   timestamp\n",
      "0      22    26479  Kevin Kline  1583038886\n",
      "1      22    79592     misogyny  1581476297\n",
      "2      22   247150   acrophobia  1622483469\n",
      "3      34     2174        music  1249808064\n",
      "4      34     2174        weird  1249808102\n",
      "\n",
      "Missing Values in Ratings Dataset:\n",
      "userId       0\n",
      "movieId      0\n",
      "rating       0\n",
      "timestamp    0\n",
      "dtype: int64\n",
      "\n",
      "Missing Values in Movies Dataset:\n",
      "movieId    0\n",
      "title      0\n",
      "genres     0\n",
      "dtype: int64\n",
      "\n",
      "Missing Values in Tags Dataset:\n",
      "userId        0\n",
      "movieId       0\n",
      "tag          17\n",
      "timestamp     0\n",
      "dtype: int64\n"
     ]
    }
   ],
   "source": [
    "# Display the first few rows of each dataset\n",
    "print(\"Ratings Dataset:\")\n",
    "print(ratings.head())\n",
    "print(\"\\nMovies Dataset:\")\n",
    "print(movies.head())\n",
    "print(\"\\nTags Dataset:\")\n",
    "print(tags.head())\n",
    "\n",
    "# Check for missing values\n",
    "print(\"\\nMissing Values in Ratings Dataset:\")\n",
    "print(ratings.isnull().sum())\n",
    "\n",
    "print(\"\\nMissing Values in Movies Dataset:\")\n",
    "print(movies.isnull().sum())\n",
    "\n",
    "print(\"\\nMissing Values in Tags Dataset:\")\n",
    "print(tags.isnull().sum())"
   ]
  },
  {
   "cell_type": "code",
   "execution_count": null,
   "metadata": {
    "id": "_zjfkrIC2ERV"
   },
   "outputs": [],
   "source": [
    "# Step 3: Data Cleaning\n",
    "# Drop duplicates\n",
    "ratings = ratings.drop_duplicates()\n",
    "movies = movies.drop_duplicates()\n",
    "tags = tags.drop_duplicates()\n",
    "\n",
    "# Drop missing values from the ratings and movies datasets\n",
    "ratings = ratings.dropna()\n",
    "movies = movies.dropna()"
   ]
  },
  {
   "cell_type": "code",
   "execution_count": null,
   "metadata": {
    "id": "BvnJxmmL2IYD"
   },
   "outputs": [],
   "source": [
    "# Step 4: Feature Engineering\n",
    "# Extract the year from the timestamp\n",
    "ratings['timestamp'] = pd.to_datetime(ratings['timestamp'], unit='s')\n",
    "ratings['rating_year'] = ratings['timestamp'].dt.year\n",
    "\n",
    "# Extract the release year from the movie title\n",
    "movies['release_year'] = movies['title'].str.extract(r'\\((\\d{4})\\)')\n",
    "movies['release_year'] = pd.to_numeric(movies['release_year'], errors='coerce')"
   ]
  },
  {
   "cell_type": "code",
   "execution_count": null,
   "metadata": {
    "id": "kZ9lHRDZ2HKk"
   },
   "outputs": [],
   "source": [
    "movie_ratings = pd.merge(ratings, movies, on='movieId')\n",
    "\n",
    "# Remove any remaining missing values after merging\n",
    "movie_ratings = movie_ratings.dropna()"
   ]
  },
  {
   "cell_type": "code",
   "execution_count": null,
   "metadata": {
    "id": "IpNYy0hG2LtP"
   },
   "outputs": [],
   "source": [
    "# Step 6: Remove Outliers\n",
    "# Remove outliers in 'rating' by keeping only data within 1.5 IQR\n",
    "Q1 = movie_ratings['rating'].quantile(0.25)\n",
    "Q3 = movie_ratings['rating'].quantile(0.75)\n",
    "IQR = Q3 - Q1\n",
    "movie_ratings = movie_ratings[(movie_ratings['rating'] >= (Q1 - 1.5 * IQR)) & (movie_ratings['rating'] <= (Q3 + 1.5 * IQR))]\n",
    "\n",
    "# Step 7: Classification Labels\n",
    "def classify_ratings(rating):\n",
    "    if rating <= 2.0:\n",
    "        return 0  # Low\n",
    "    elif 2.0 < rating <= 3.5:\n",
    "        return 1  # Medium\n",
    "    else:\n",
    "        return 2  # High\n",
    "\n",
    "movie_ratings['rating_class'] = movie_ratings['rating'].apply(classify_ratings)"
   ]
  },
  {
   "cell_type": "markdown",
   "metadata": {
    "id": "V2K2J8kyJNmm"
   },
   "source": [
    "Non-numeric columns are encoded to numeric values for model compatibility, and features are standardized for consistency. This classification framework builds on the regression models, providing a complementary perspective that categorizes user preferences and aids in understanding trends across different rating levels."
   ]
  },
  {
   "cell_type": "code",
   "execution_count": null,
   "metadata": {
    "id": "5cWe012X2NMl"
   },
   "outputs": [],
   "source": [
    "# Step 8: Feature Selection\n",
    "# Drop unnecessary columns\n",
    "X = movie_ratings.drop(columns=['rating', 'userId', 'movieId', 'title', 'timestamp', 'genres', 'rating_class'])\n",
    "y = movie_ratings['rating_class']\n",
    "\n",
    "# Check for non-numeric columns\n",
    "non_numeric_cols = X.select_dtypes(include=['object']).columns\n",
    "for col in non_numeric_cols:\n",
    "    X[col] = X[col].astype('category').cat.codes"
   ]
  },
  {
   "cell_type": "code",
   "execution_count": null,
   "metadata": {
    "id": "CCt7OwUn2OiL"
   },
   "outputs": [],
   "source": [
    "# Step 9: Feature Scaling\n",
    "scaler = StandardScaler()\n",
    "X_scaled = scaler.fit_transform(X)"
   ]
  },
  {
   "cell_type": "markdown",
   "metadata": {
    "id": "d8TYWKRWLCQF"
   },
   "source": [
    "To address class imbalance, we use RandomOverSampler to ensure equal representation of the rating classes (Low, Medium, High). After splitting the data into training and testing sets, we sample 30% of the training data and apply oversampling to balance the classes. This helps the model learn effectively from all classes, improving prediction accuracy and reducing bias toward majority ratings."
   ]
  },
  {
   "cell_type": "code",
   "execution_count": null,
   "metadata": {
    "colab": {
     "base_uri": "https://localhost:8080/"
    },
    "id": "KOjxN2qI2QDh",
    "outputId": "dd156b95-201e-4509-817c-8616421cd329"
   },
   "outputs": [
    {
     "name": "stdout",
     "output_type": "stream",
     "text": [
      "Original X_train shape: (24395821, 2)\n",
      "Sampled X_train shape: (7318746, 2)\n",
      "Resampled X_train shape: (11465868, 2)\n"
     ]
    }
   ],
   "source": [
    "from imblearn.over_sampling import RandomOverSampler\n",
    "\n",
    "from sklearn.model_selection import train_test_split\n",
    "\n",
    "# Step 10: Handle Class Imbalance using RandomOverSampler\n",
    "X_train, X_test, y_train, y_test = train_test_split(X_scaled, y, test_size=0.2, random_state=42)\n",
    "\n",
    "# Convert X_train to DataFrame and y_train to Series\n",
    "X_train_df = pd.DataFrame(X_train)  # Convert NumPy array to DataFrame\n",
    "y_train_df = pd.Series(y_train).reset_index(drop=True)  # Reset index for y_train\n",
    "\n",
    "# Sample 30% of the training data\n",
    "X_train_sampled = X_train_df.sample(frac=0.3, random_state=42)  # 30% of X_train\n",
    "y_train_sampled = y_train_df.loc[X_train_sampled.index]  # Match y_train index with X_train_sampled\n",
    "\n",
    "# Apply RandomOverSampler\n",
    "ros = RandomOverSampler(random_state=42)\n",
    "X_train_resampled, y_train_resampled = ros.fit_resample(X_train_sampled, y_train_sampled)\n",
    "\n",
    "print(f\"Original X_train shape: {X_train.shape}\")\n",
    "print(f\"Sampled X_train shape: {X_train_sampled.shape}\")\n",
    "print(f\"Resampled X_train shape: {X_train_resampled.shape}\")"
   ]
  },
  {
   "cell_type": "markdown",
   "metadata": {
    "id": "yrBqVKYGLQZS"
   },
   "source": [
    "We now train a K-Nearest Neighbors (KNN) classifier to predict rating classes (Low, Medium, High) using the resampled training data. By setting the number of neighbors to 200, the model considers the majority class among the 200 closest data points for each prediction.\n",
    "\n",
    "The trained model is evaluated on the test set, with key metrics including:\n",
    "\n",
    "* Accuracy: Measures the percentage of correct predictions.\n",
    "* Classification Report: Provides precision, recall, and F1-score for each class, offering deeper insights into model performance.\n",
    "* Confusion Matrix: Highlights the distribution of predictions across actual and predicted classes, revealing any misclassification trends.\n",
    "\n",
    "This evaluation helps determine the effectiveness of KNN in handling the classification task and its ability to predict user preferences accurately across all rating classes."
   ]
  },
  {
   "cell_type": "code",
   "execution_count": null,
   "metadata": {
    "id": "nOhJE_m42RzY"
   },
   "outputs": [],
   "source": [
    "knn = KNeighborsClassifier(n_neighbors=100)\n",
    "knn.fit(X_train_resampled, y_train_resampled)\n",
    "\n",
    "# Step 6: Predict on the Test Set\n",
    "y_pred = knn.predict(X_test)"
   ]
  },
  {
   "cell_type": "code",
   "execution_count": null,
   "metadata": {
    "colab": {
     "base_uri": "https://localhost:8080/"
    },
    "id": "5BiudeFU2URq",
    "outputId": "9a4a1d63-301e-4c6e-f5ef-e59710f2fce4"
   },
   "outputs": [
    {
     "name": "stdout",
     "output_type": "stream",
     "text": [
      "Test Accuracy with k100: 0.52\n",
      "\n",
      "Classification Report:\n",
      "              precision    recall  f1-score   support\n",
      "\n",
      "           0       0.08      0.02      0.03     10496\n",
      "           1       0.43      0.26      0.32     50427\n",
      "           2       0.56      0.77      0.65     71237\n",
      "\n",
      "    accuracy                           0.52    132160\n",
      "   macro avg       0.36      0.35      0.34    132160\n",
      "weighted avg       0.47      0.52      0.48    132160\n",
      "\n",
      "\n",
      "Confusion Matrix:\n",
      "[[  228  2539  7729]\n",
      " [ 1093 13054 36280]\n",
      " [ 1707 14437 55093]]\n"
     ]
    }
   ],
   "source": [
    "accuracy = accuracy_score(y_test, y_pred)\n",
    "print(f\"Test Accuracy with k100: {accuracy:.2f}\")\n",
    "\n",
    "# Print Classification Report\n",
    "print(\"\\nClassification Report:\")\n",
    "print(classification_report(y_test, y_pred))\n",
    "\n",
    "# Print Confusion Matrix\n",
    "print(\"\\nConfusion Matrix:\")\n",
    "print(confusion_matrix(y_test, y_pred))"
   ]
  },
  {
   "cell_type": "markdown",
   "metadata": {
    "id": "2VSbmqPcLmJ1"
   },
   "source": [
    "The KNN Classifier achieved the following results:\n",
    "\n",
    "**Test Accuracy: 50%**\n",
    "The model correctly predicted 50% of the test samples.\n",
    "\n",
    "**Classification Report:**\n",
    "* Class 0 (Low): Precision: 0.08 (low specificity in predicting \"Low\" ratings)\n",
    "* Recall: 0.02 (struggles to identify most \"Low\" ratings)\n",
    "* F1-Score: 0.03\n",
    "* Class 1 (Medium):\n",
    "* Precision: 0.43\n",
    "* Recall: 0.26 (better but still weak in identifying \"Medium\" ratings)\n",
    "* F1-Score: 0.32\n",
    "* Class 2 (High):\n",
    "* Precision: 0.56\n",
    "* Recall: 0.77 (stronger performance for the majority \"High\" class)\n",
    "* F1-Score: 0.65\n",
    "\n",
    "The **weighted average F1-score is 0.48**, reflecting better handling of the dataset overall.\n",
    "\n",
    "**Confusion Matrix:**\n",
    "* Low Ratings: Severely underrepresented, with most predictions misclassified as \"Medium\" or \"High.\"\n",
    "* Medium Ratings: Frequently confused with \"High\" ratings.\n",
    "* High Ratings: The dominant class, with most correctly classified but at the expense of others.\n",
    "\n",
    "**Insights:**\n",
    "While the model shows slight improvement, it continues to favor the majority \"High\" class, struggling with the minority \"Low\" and \"Medium\" ratings. The imbalance and overlapping class distributions remain a challenge for KNN."
   ]
  },
  {
   "cell_type": "markdown",
   "metadata": {
    "id": "mygTQuEOQVBT"
   },
   "source": [
    "\n",
    "\n",
    "---\n",
    "\n"
   ]
  },
  {
   "cell_type": "markdown",
   "metadata": {
    "id": "BoFUyU6wQToz"
   },
   "source": [
    "To improve the classification performance, we train a Logistic Regression model, leveraging its interpretability and efficiency for categorical predictions. Using the balanced dataset from oversampling, the model is trained with a maximum of 1000 iterations to ensure convergence.\n",
    "\n",
    "Logistic Regression Overview: https://scikit-learn.org/stable/modules/linear_model.html#logistic-regression\n",
    "A guide to understanding the linear approach to multi-class classification."
   ]
  },
  {
   "cell_type": "code",
   "execution_count": null,
   "metadata": {
    "id": "ZD0f-41c2V-c"
   },
   "outputs": [],
   "source": [
    "from sklearn.linear_model import LogisticRegression"
   ]
  },
  {
   "cell_type": "code",
   "execution_count": null,
   "metadata": {
    "colab": {
     "base_uri": "https://localhost:8080/",
     "height": 115
    },
    "id": "b8-ofXIF2Xsi",
    "outputId": "e8d1e445-0c58-4493-f2d4-d28fd4e2a585"
   },
   "outputs": [
    {
     "name": "stdout",
     "output_type": "stream",
     "text": [
      "\n",
      "Training Logistic Regression Model...\n"
     ]
    },
    {
     "data": {
      "text/html": [
       "<style>#sk-container-id-2 {\n",
       "  /* Definition of color scheme common for light and dark mode */\n",
       "  --sklearn-color-text: black;\n",
       "  --sklearn-color-line: gray;\n",
       "  /* Definition of color scheme for unfitted estimators */\n",
       "  --sklearn-color-unfitted-level-0: #fff5e6;\n",
       "  --sklearn-color-unfitted-level-1: #f6e4d2;\n",
       "  --sklearn-color-unfitted-level-2: #ffe0b3;\n",
       "  --sklearn-color-unfitted-level-3: chocolate;\n",
       "  /* Definition of color scheme for fitted estimators */\n",
       "  --sklearn-color-fitted-level-0: #f0f8ff;\n",
       "  --sklearn-color-fitted-level-1: #d4ebff;\n",
       "  --sklearn-color-fitted-level-2: #b3dbfd;\n",
       "  --sklearn-color-fitted-level-3: cornflowerblue;\n",
       "\n",
       "  /* Specific color for light theme */\n",
       "  --sklearn-color-text-on-default-background: var(--sg-text-color, var(--theme-code-foreground, var(--jp-content-font-color1, black)));\n",
       "  --sklearn-color-background: var(--sg-background-color, var(--theme-background, var(--jp-layout-color0, white)));\n",
       "  --sklearn-color-border-box: var(--sg-text-color, var(--theme-code-foreground, var(--jp-content-font-color1, black)));\n",
       "  --sklearn-color-icon: #696969;\n",
       "\n",
       "  @media (prefers-color-scheme: dark) {\n",
       "    /* Redefinition of color scheme for dark theme */\n",
       "    --sklearn-color-text-on-default-background: var(--sg-text-color, var(--theme-code-foreground, var(--jp-content-font-color1, white)));\n",
       "    --sklearn-color-background: var(--sg-background-color, var(--theme-background, var(--jp-layout-color0, #111)));\n",
       "    --sklearn-color-border-box: var(--sg-text-color, var(--theme-code-foreground, var(--jp-content-font-color1, white)));\n",
       "    --sklearn-color-icon: #878787;\n",
       "  }\n",
       "}\n",
       "\n",
       "#sk-container-id-2 {\n",
       "  color: var(--sklearn-color-text);\n",
       "}\n",
       "\n",
       "#sk-container-id-2 pre {\n",
       "  padding: 0;\n",
       "}\n",
       "\n",
       "#sk-container-id-2 input.sk-hidden--visually {\n",
       "  border: 0;\n",
       "  clip: rect(1px 1px 1px 1px);\n",
       "  clip: rect(1px, 1px, 1px, 1px);\n",
       "  height: 1px;\n",
       "  margin: -1px;\n",
       "  overflow: hidden;\n",
       "  padding: 0;\n",
       "  position: absolute;\n",
       "  width: 1px;\n",
       "}\n",
       "\n",
       "#sk-container-id-2 div.sk-dashed-wrapped {\n",
       "  border: 1px dashed var(--sklearn-color-line);\n",
       "  margin: 0 0.4em 0.5em 0.4em;\n",
       "  box-sizing: border-box;\n",
       "  padding-bottom: 0.4em;\n",
       "  background-color: var(--sklearn-color-background);\n",
       "}\n",
       "\n",
       "#sk-container-id-2 div.sk-container {\n",
       "  /* jupyter's `normalize.less` sets `[hidden] { display: none; }`\n",
       "     but bootstrap.min.css set `[hidden] { display: none !important; }`\n",
       "     so we also need the `!important` here to be able to override the\n",
       "     default hidden behavior on the sphinx rendered scikit-learn.org.\n",
       "     See: https://github.com/scikit-learn/scikit-learn/issues/21755 */\n",
       "  display: inline-block !important;\n",
       "  position: relative;\n",
       "}\n",
       "\n",
       "#sk-container-id-2 div.sk-text-repr-fallback {\n",
       "  display: none;\n",
       "}\n",
       "\n",
       "div.sk-parallel-item,\n",
       "div.sk-serial,\n",
       "div.sk-item {\n",
       "  /* draw centered vertical line to link estimators */\n",
       "  background-image: linear-gradient(var(--sklearn-color-text-on-default-background), var(--sklearn-color-text-on-default-background));\n",
       "  background-size: 2px 100%;\n",
       "  background-repeat: no-repeat;\n",
       "  background-position: center center;\n",
       "}\n",
       "\n",
       "/* Parallel-specific style estimator block */\n",
       "\n",
       "#sk-container-id-2 div.sk-parallel-item::after {\n",
       "  content: \"\";\n",
       "  width: 100%;\n",
       "  border-bottom: 2px solid var(--sklearn-color-text-on-default-background);\n",
       "  flex-grow: 1;\n",
       "}\n",
       "\n",
       "#sk-container-id-2 div.sk-parallel {\n",
       "  display: flex;\n",
       "  align-items: stretch;\n",
       "  justify-content: center;\n",
       "  background-color: var(--sklearn-color-background);\n",
       "  position: relative;\n",
       "}\n",
       "\n",
       "#sk-container-id-2 div.sk-parallel-item {\n",
       "  display: flex;\n",
       "  flex-direction: column;\n",
       "}\n",
       "\n",
       "#sk-container-id-2 div.sk-parallel-item:first-child::after {\n",
       "  align-self: flex-end;\n",
       "  width: 50%;\n",
       "}\n",
       "\n",
       "#sk-container-id-2 div.sk-parallel-item:last-child::after {\n",
       "  align-self: flex-start;\n",
       "  width: 50%;\n",
       "}\n",
       "\n",
       "#sk-container-id-2 div.sk-parallel-item:only-child::after {\n",
       "  width: 0;\n",
       "}\n",
       "\n",
       "/* Serial-specific style estimator block */\n",
       "\n",
       "#sk-container-id-2 div.sk-serial {\n",
       "  display: flex;\n",
       "  flex-direction: column;\n",
       "  align-items: center;\n",
       "  background-color: var(--sklearn-color-background);\n",
       "  padding-right: 1em;\n",
       "  padding-left: 1em;\n",
       "}\n",
       "\n",
       "\n",
       "/* Toggleable style: style used for estimator/Pipeline/ColumnTransformer box that is\n",
       "clickable and can be expanded/collapsed.\n",
       "- Pipeline and ColumnTransformer use this feature and define the default style\n",
       "- Estimators will overwrite some part of the style using the `sk-estimator` class\n",
       "*/\n",
       "\n",
       "/* Pipeline and ColumnTransformer style (default) */\n",
       "\n",
       "#sk-container-id-2 div.sk-toggleable {\n",
       "  /* Default theme specific background. It is overwritten whether we have a\n",
       "  specific estimator or a Pipeline/ColumnTransformer */\n",
       "  background-color: var(--sklearn-color-background);\n",
       "}\n",
       "\n",
       "/* Toggleable label */\n",
       "#sk-container-id-2 label.sk-toggleable__label {\n",
       "  cursor: pointer;\n",
       "  display: block;\n",
       "  width: 100%;\n",
       "  margin-bottom: 0;\n",
       "  padding: 0.5em;\n",
       "  box-sizing: border-box;\n",
       "  text-align: center;\n",
       "}\n",
       "\n",
       "#sk-container-id-2 label.sk-toggleable__label-arrow:before {\n",
       "  /* Arrow on the left of the label */\n",
       "  content: \"▸\";\n",
       "  float: left;\n",
       "  margin-right: 0.25em;\n",
       "  color: var(--sklearn-color-icon);\n",
       "}\n",
       "\n",
       "#sk-container-id-2 label.sk-toggleable__label-arrow:hover:before {\n",
       "  color: var(--sklearn-color-text);\n",
       "}\n",
       "\n",
       "/* Toggleable content - dropdown */\n",
       "\n",
       "#sk-container-id-2 div.sk-toggleable__content {\n",
       "  max-height: 0;\n",
       "  max-width: 0;\n",
       "  overflow: hidden;\n",
       "  text-align: left;\n",
       "  /* unfitted */\n",
       "  background-color: var(--sklearn-color-unfitted-level-0);\n",
       "}\n",
       "\n",
       "#sk-container-id-2 div.sk-toggleable__content.fitted {\n",
       "  /* fitted */\n",
       "  background-color: var(--sklearn-color-fitted-level-0);\n",
       "}\n",
       "\n",
       "#sk-container-id-2 div.sk-toggleable__content pre {\n",
       "  margin: 0.2em;\n",
       "  border-radius: 0.25em;\n",
       "  color: var(--sklearn-color-text);\n",
       "  /* unfitted */\n",
       "  background-color: var(--sklearn-color-unfitted-level-0);\n",
       "}\n",
       "\n",
       "#sk-container-id-2 div.sk-toggleable__content.fitted pre {\n",
       "  /* unfitted */\n",
       "  background-color: var(--sklearn-color-fitted-level-0);\n",
       "}\n",
       "\n",
       "#sk-container-id-2 input.sk-toggleable__control:checked~div.sk-toggleable__content {\n",
       "  /* Expand drop-down */\n",
       "  max-height: 200px;\n",
       "  max-width: 100%;\n",
       "  overflow: auto;\n",
       "}\n",
       "\n",
       "#sk-container-id-2 input.sk-toggleable__control:checked~label.sk-toggleable__label-arrow:before {\n",
       "  content: \"▾\";\n",
       "}\n",
       "\n",
       "/* Pipeline/ColumnTransformer-specific style */\n",
       "\n",
       "#sk-container-id-2 div.sk-label input.sk-toggleable__control:checked~label.sk-toggleable__label {\n",
       "  color: var(--sklearn-color-text);\n",
       "  background-color: var(--sklearn-color-unfitted-level-2);\n",
       "}\n",
       "\n",
       "#sk-container-id-2 div.sk-label.fitted input.sk-toggleable__control:checked~label.sk-toggleable__label {\n",
       "  background-color: var(--sklearn-color-fitted-level-2);\n",
       "}\n",
       "\n",
       "/* Estimator-specific style */\n",
       "\n",
       "/* Colorize estimator box */\n",
       "#sk-container-id-2 div.sk-estimator input.sk-toggleable__control:checked~label.sk-toggleable__label {\n",
       "  /* unfitted */\n",
       "  background-color: var(--sklearn-color-unfitted-level-2);\n",
       "}\n",
       "\n",
       "#sk-container-id-2 div.sk-estimator.fitted input.sk-toggleable__control:checked~label.sk-toggleable__label {\n",
       "  /* fitted */\n",
       "  background-color: var(--sklearn-color-fitted-level-2);\n",
       "}\n",
       "\n",
       "#sk-container-id-2 div.sk-label label.sk-toggleable__label,\n",
       "#sk-container-id-2 div.sk-label label {\n",
       "  /* The background is the default theme color */\n",
       "  color: var(--sklearn-color-text-on-default-background);\n",
       "}\n",
       "\n",
       "/* On hover, darken the color of the background */\n",
       "#sk-container-id-2 div.sk-label:hover label.sk-toggleable__label {\n",
       "  color: var(--sklearn-color-text);\n",
       "  background-color: var(--sklearn-color-unfitted-level-2);\n",
       "}\n",
       "\n",
       "/* Label box, darken color on hover, fitted */\n",
       "#sk-container-id-2 div.sk-label.fitted:hover label.sk-toggleable__label.fitted {\n",
       "  color: var(--sklearn-color-text);\n",
       "  background-color: var(--sklearn-color-fitted-level-2);\n",
       "}\n",
       "\n",
       "/* Estimator label */\n",
       "\n",
       "#sk-container-id-2 div.sk-label label {\n",
       "  font-family: monospace;\n",
       "  font-weight: bold;\n",
       "  display: inline-block;\n",
       "  line-height: 1.2em;\n",
       "}\n",
       "\n",
       "#sk-container-id-2 div.sk-label-container {\n",
       "  text-align: center;\n",
       "}\n",
       "\n",
       "/* Estimator-specific */\n",
       "#sk-container-id-2 div.sk-estimator {\n",
       "  font-family: monospace;\n",
       "  border: 1px dotted var(--sklearn-color-border-box);\n",
       "  border-radius: 0.25em;\n",
       "  box-sizing: border-box;\n",
       "  margin-bottom: 0.5em;\n",
       "  /* unfitted */\n",
       "  background-color: var(--sklearn-color-unfitted-level-0);\n",
       "}\n",
       "\n",
       "#sk-container-id-2 div.sk-estimator.fitted {\n",
       "  /* fitted */\n",
       "  background-color: var(--sklearn-color-fitted-level-0);\n",
       "}\n",
       "\n",
       "/* on hover */\n",
       "#sk-container-id-2 div.sk-estimator:hover {\n",
       "  /* unfitted */\n",
       "  background-color: var(--sklearn-color-unfitted-level-2);\n",
       "}\n",
       "\n",
       "#sk-container-id-2 div.sk-estimator.fitted:hover {\n",
       "  /* fitted */\n",
       "  background-color: var(--sklearn-color-fitted-level-2);\n",
       "}\n",
       "\n",
       "/* Specification for estimator info (e.g. \"i\" and \"?\") */\n",
       "\n",
       "/* Common style for \"i\" and \"?\" */\n",
       "\n",
       ".sk-estimator-doc-link,\n",
       "a:link.sk-estimator-doc-link,\n",
       "a:visited.sk-estimator-doc-link {\n",
       "  float: right;\n",
       "  font-size: smaller;\n",
       "  line-height: 1em;\n",
       "  font-family: monospace;\n",
       "  background-color: var(--sklearn-color-background);\n",
       "  border-radius: 1em;\n",
       "  height: 1em;\n",
       "  width: 1em;\n",
       "  text-decoration: none !important;\n",
       "  margin-left: 1ex;\n",
       "  /* unfitted */\n",
       "  border: var(--sklearn-color-unfitted-level-1) 1pt solid;\n",
       "  color: var(--sklearn-color-unfitted-level-1);\n",
       "}\n",
       "\n",
       ".sk-estimator-doc-link.fitted,\n",
       "a:link.sk-estimator-doc-link.fitted,\n",
       "a:visited.sk-estimator-doc-link.fitted {\n",
       "  /* fitted */\n",
       "  border: var(--sklearn-color-fitted-level-1) 1pt solid;\n",
       "  color: var(--sklearn-color-fitted-level-1);\n",
       "}\n",
       "\n",
       "/* On hover */\n",
       "div.sk-estimator:hover .sk-estimator-doc-link:hover,\n",
       ".sk-estimator-doc-link:hover,\n",
       "div.sk-label-container:hover .sk-estimator-doc-link:hover,\n",
       ".sk-estimator-doc-link:hover {\n",
       "  /* unfitted */\n",
       "  background-color: var(--sklearn-color-unfitted-level-3);\n",
       "  color: var(--sklearn-color-background);\n",
       "  text-decoration: none;\n",
       "}\n",
       "\n",
       "div.sk-estimator.fitted:hover .sk-estimator-doc-link.fitted:hover,\n",
       ".sk-estimator-doc-link.fitted:hover,\n",
       "div.sk-label-container:hover .sk-estimator-doc-link.fitted:hover,\n",
       ".sk-estimator-doc-link.fitted:hover {\n",
       "  /* fitted */\n",
       "  background-color: var(--sklearn-color-fitted-level-3);\n",
       "  color: var(--sklearn-color-background);\n",
       "  text-decoration: none;\n",
       "}\n",
       "\n",
       "/* Span, style for the box shown on hovering the info icon */\n",
       ".sk-estimator-doc-link span {\n",
       "  display: none;\n",
       "  z-index: 9999;\n",
       "  position: relative;\n",
       "  font-weight: normal;\n",
       "  right: .2ex;\n",
       "  padding: .5ex;\n",
       "  margin: .5ex;\n",
       "  width: min-content;\n",
       "  min-width: 20ex;\n",
       "  max-width: 50ex;\n",
       "  color: var(--sklearn-color-text);\n",
       "  box-shadow: 2pt 2pt 4pt #999;\n",
       "  /* unfitted */\n",
       "  background: var(--sklearn-color-unfitted-level-0);\n",
       "  border: .5pt solid var(--sklearn-color-unfitted-level-3);\n",
       "}\n",
       "\n",
       ".sk-estimator-doc-link.fitted span {\n",
       "  /* fitted */\n",
       "  background: var(--sklearn-color-fitted-level-0);\n",
       "  border: var(--sklearn-color-fitted-level-3);\n",
       "}\n",
       "\n",
       ".sk-estimator-doc-link:hover span {\n",
       "  display: block;\n",
       "}\n",
       "\n",
       "/* \"?\"-specific style due to the `<a>` HTML tag */\n",
       "\n",
       "#sk-container-id-2 a.estimator_doc_link {\n",
       "  float: right;\n",
       "  font-size: 1rem;\n",
       "  line-height: 1em;\n",
       "  font-family: monospace;\n",
       "  background-color: var(--sklearn-color-background);\n",
       "  border-radius: 1rem;\n",
       "  height: 1rem;\n",
       "  width: 1rem;\n",
       "  text-decoration: none;\n",
       "  /* unfitted */\n",
       "  color: var(--sklearn-color-unfitted-level-1);\n",
       "  border: var(--sklearn-color-unfitted-level-1) 1pt solid;\n",
       "}\n",
       "\n",
       "#sk-container-id-2 a.estimator_doc_link.fitted {\n",
       "  /* fitted */\n",
       "  border: var(--sklearn-color-fitted-level-1) 1pt solid;\n",
       "  color: var(--sklearn-color-fitted-level-1);\n",
       "}\n",
       "\n",
       "/* On hover */\n",
       "#sk-container-id-2 a.estimator_doc_link:hover {\n",
       "  /* unfitted */\n",
       "  background-color: var(--sklearn-color-unfitted-level-3);\n",
       "  color: var(--sklearn-color-background);\n",
       "  text-decoration: none;\n",
       "}\n",
       "\n",
       "#sk-container-id-2 a.estimator_doc_link.fitted:hover {\n",
       "  /* fitted */\n",
       "  background-color: var(--sklearn-color-fitted-level-3);\n",
       "}\n",
       "</style><div id=\"sk-container-id-2\" class=\"sk-top-container\"><div class=\"sk-text-repr-fallback\"><pre>LogisticRegression(max_iter=1000, random_state=42)</pre><b>In a Jupyter environment, please rerun this cell to show the HTML representation or trust the notebook. <br />On GitHub, the HTML representation is unable to render, please try loading this page with nbviewer.org.</b></div><div class=\"sk-container\" hidden><div class=\"sk-item\"><div class=\"sk-estimator fitted sk-toggleable\"><input class=\"sk-toggleable__control sk-hidden--visually\" id=\"sk-estimator-id-2\" type=\"checkbox\" checked><label for=\"sk-estimator-id-2\" class=\"sk-toggleable__label fitted sk-toggleable__label-arrow fitted\">&nbsp;&nbsp;LogisticRegression<a class=\"sk-estimator-doc-link fitted\" rel=\"noreferrer\" target=\"_blank\" href=\"https://scikit-learn.org/1.5/modules/generated/sklearn.linear_model.LogisticRegression.html\">?<span>Documentation for LogisticRegression</span></a><span class=\"sk-estimator-doc-link fitted\">i<span>Fitted</span></span></label><div class=\"sk-toggleable__content fitted\"><pre>LogisticRegression(max_iter=1000, random_state=42)</pre></div> </div></div></div></div>"
      ],
      "text/plain": [
       "LogisticRegression(max_iter=1000, random_state=42)"
      ]
     },
     "execution_count": 22,
     "metadata": {},
     "output_type": "execute_result"
    }
   ],
   "source": [
    "print(\"\\nTraining Logistic Regression Model...\")\n",
    "logistic_model = LogisticRegression(max_iter=1000, random_state=42)\n",
    "logistic_model.fit(X_train_resampled, y_train_resampled)"
   ]
  },
  {
   "cell_type": "code",
   "execution_count": null,
   "metadata": {
    "colab": {
     "base_uri": "https://localhost:8080/"
    },
    "id": "y-efQ9hs2Y3w",
    "outputId": "8bf2207a-6069-43a3-ff00-43ccb670e63d"
   },
   "outputs": [
    {
     "name": "stdout",
     "output_type": "stream",
     "text": [
      "\n",
      "Logistic Regression Accuracy: 0.32\n",
      "\n",
      "Logistic Regression Classification Report:\n",
      "              precision    recall  f1-score   support\n",
      "\n",
      "           0       0.10      0.49      0.16     10496\n",
      "           1       0.40      0.37      0.38     50427\n",
      "           2       0.59      0.27      0.37     71237\n",
      "\n",
      "    accuracy                           0.32    132160\n",
      "   macro avg       0.36      0.38      0.31    132160\n",
      "weighted avg       0.48      0.32      0.36    132160\n",
      "\n",
      "\n",
      "Logistic Regression Confusion Matrix:\n",
      "[[ 5151  3380  1965]\n",
      " [20535 18551 11341]\n",
      " [27523 24471 19243]]\n"
     ]
    }
   ],
   "source": [
    "y_pred_logistic = logistic_model.predict(X_test)\n",
    "logistic_accuracy = accuracy_score(y_test, y_pred_logistic)\n",
    "print(f\"\\nLogistic Regression Accuracy: {logistic_accuracy:.2f}\")\n",
    "print(\"\\nLogistic Regression Classification Report:\")\n",
    "print(classification_report(y_test, y_pred_logistic))\n",
    "print(\"\\nLogistic Regression Confusion Matrix:\")\n",
    "print(confusion_matrix(y_test, y_pred_logistic))"
   ]
  },
  {
   "cell_type": "markdown",
   "metadata": {
    "id": "bloIp3HaQ0pt"
   },
   "source": [
    "The Logistic Regression results show:\n",
    "\n",
    "**Accuracy: 32%**\n",
    "The model performs poorly overall, indicating limited ability to classify ratings accurately.\n",
    "\n",
    "**Classification Report:**\n",
    "\n",
    "Class 0 (Low):\n",
    "* Precision: 0.10 – Many false positives when predicting \"Low\" ratings.\n",
    "* Recall: 0.49 – Successfully identifies almost half of the \"Low\" ratings.\n",
    "* F1-Score: 0.16 – Indicates poor overall performance for this class.\n",
    "\n",
    "Class 1 (Medium):\n",
    "* Precision: 0.40 – Moderate specificity for \"Medium\" ratings.\n",
    "* Recall: 0.37 – Identifies just over one-third of \"Medium\" ratings.\n",
    "* F1-Score: 0.37 – Reflects average performance.\n",
    "\n",
    "Class 2 (High):\n",
    "* Precision: 0.59 – Performs relatively better when predicting \"High\" ratings.\n",
    "* Recall: 0.27 – Misses a majority of \"High\" ratings.\n",
    "* F1-Score: 0.37 – Reflects limited predictive ability.\n",
    "\n",
    "**Weighted Average:**\n",
    "* F1-Score: 0.32 – The overall model performance is weak, heavily affected by imbalances and misclassifications.\n",
    "\n",
    "**Confusion Matrix:**\n",
    "* Class 0 (Low): 5151 correct predictions but 5335 misclassified as \"Medium\" or \"High.\"\n",
    "* Class 1 (Medium): Most misclassified as \"High\" ratings, indicating overlap between these classes.\n",
    "* Class 2 (High): Significant misclassification into \"Medium\" ratings.\n",
    "\n",
    "**Insights:**\n",
    "The Logistic Regression model struggles with this multi-class classification task, achieving the best recall for the \"Low\" class but failing to balance performance across all classes. Its linear nature likely cannot capture the complexity of relationships in the dataset. Further steps to improve performance might include:\n",
    "\n",
    "Using non-linear models like Decision Trees, Random Forest, or XGBoost.\n",
    "Feature engineering to reduce class overlap.\n",
    "Adjusting class weights in the Logistic Regression model to address imbalance."
   ]
  },
  {
   "cell_type": "markdown",
   "metadata": {
    "id": "0oj-HcSZR5H2"
   },
   "source": [
    "\n",
    "\n",
    "---\n",
    "\n"
   ]
  },
  {
   "cell_type": "markdown",
   "metadata": {
    "id": "VDVAUqGgR5-o"
   },
   "source": [
    "We implement a Random Forest Classifier to improve classification performance. This ensemble method leverages multiple decision trees, aggregating their predictions for better accuracy and robustness.\n",
    "\n",
    "**Training:**\n",
    "\n",
    "* The model is trained with 100 decision trees using the resampled training dataset.\n",
    "Random Forest inherently handles non-linearity and class imbalance, making it suitable for complex multi-class tasks.\n",
    "\n",
    "**Evaluation:**\n",
    "\n",
    "* Accuracy: Measures the overall correctness of predictions.\n",
    "* Classification Report: Provides precision, recall, and F1-score for each rating class (Low, Medium, High), revealing performance balance.\n",
    "* Confusion Matrix: Shows prediction distributions across actual and predicted classes, highlighting misclassification trends.\n",
    "\n",
    "Random Forest Classifier: https://scikit-learn.org/stable/modules/generated/sklearn.ensemble.RandomForestClassifier.html\n",
    "For understanding Random Forest hyperparameters and implementation in classification tasks."
   ]
  },
  {
   "cell_type": "code",
   "execution_count": null,
   "metadata": {
    "colab": {
     "base_uri": "https://localhost:8080/"
    },
    "id": "tTP7Fd5O2Z_0",
    "outputId": "46af85a4-d205-4d2e-9a55-aabe61d66426"
   },
   "outputs": [
    {
     "name": "stdout",
     "output_type": "stream",
     "text": [
      "\n",
      "Training Random Forest Classifier...\n"
     ]
    }
   ],
   "source": [
    "from sklearn.ensemble import RandomForestClassifier# Step 8: Random Forest Classifier\n",
    "print(\"\\nTraining Random Forest Classifier...\")\n",
    "rf_model = RandomForestClassifier(n_estimators=100, random_state=42)\n",
    "rf_model.fit(X_train_resampled, y_train_resampled)\n",
    "\n",
    "# Predict and evaluate Random Forest Classifier\n",
    "y_pred_rf = rf_model.predict(X_test)"
   ]
  },
  {
   "cell_type": "code",
   "execution_count": null,
   "metadata": {
    "colab": {
     "base_uri": "https://localhost:8080/"
    },
    "id": "sKh8YL382bWa",
    "outputId": "5fe4036b-ea75-41d0-bb36-a659272d68d1"
   },
   "outputs": [
    {
     "name": "stdout",
     "output_type": "stream",
     "text": [
      "\n",
      "Random Forest Accuracy: 0.35\n",
      "\n",
      "Random Forest Classification Report:\n",
      "              precision    recall  f1-score   support\n",
      "\n",
      "           0       0.10      0.47      0.17     10496\n",
      "           1       0.42      0.43      0.42     50427\n",
      "           2       0.61      0.28      0.39     71237\n",
      "\n",
      "    accuracy                           0.35    132160\n",
      "   macro avg       0.38      0.39      0.33    132160\n",
      "weighted avg       0.50      0.35      0.38    132160\n",
      "\n",
      "\n",
      "Random Forest Confusion Matrix:\n",
      "[[ 4903  3688  1905]\n",
      " [17699 21534 11194]\n",
      " [25012 26024 20201]]\n"
     ]
    }
   ],
   "source": [
    "rf_accuracy = accuracy_score(y_test, y_pred_rf)\n",
    "print(f\"\\nRandom Forest Accuracy: {rf_accuracy:.2f}\")\n",
    "print(\"\\nRandom Forest Classification Report:\")\n",
    "print(classification_report(y_test, y_pred_rf))\n",
    "print(\"\\nRandom Forest Confusion Matrix:\")\n",
    "print(confusion_matrix(y_test, y_pred_rf))"
   ]
  },
  {
   "cell_type": "markdown",
   "metadata": {
    "id": "47scIDipSb-k"
   },
   "source": [
    "The Random Forest Classifier results indicate:\n",
    "\n",
    "**Accuracy: 35%**\n",
    "The overall accuracy is moderate, **slightly better than Logistic Regression** but still limited in distinguishing between classes effectively.\n",
    "\n",
    "**Classification Report:**\n",
    "\n",
    "Class 0 (Low):\n",
    "* Precision: 0.10 – Struggles with specificity for \"Low\" ratings.\n",
    "* Recall: 0.47 – Identifies nearly half of \"Low\" ratings.\n",
    "* F1-Score: 0.17 – Reflects weak overall performance for this class.\n",
    "\n",
    "Class 1 (Medium):\n",
    "* Precision: 0.42 – Moderate specificity.\n",
    "* Recall: 0.43 – Identifies a fair proportion of \"Medium\" ratings.\n",
    "* F1-Score: 0.43 – Shows improvement over simpler models for this class.\n",
    "\n",
    "Class 2 (High):\n",
    "* Precision: 0.61 – Performs relatively better for the dominant \"High\" class.\n",
    "* Recall: 0.28 – Misses a significant portion of \"High\" ratings.\n",
    "* F1-Score: 0.39 – Indicates moderate success in identifying \"High\" ratings.\n",
    "\n",
    "**Weighted Average:**\n",
    "* F1-Score: 0.35 – Reflects moderate performance across all classes, with a bias toward the majority \"High\" class.\n",
    "\n",
    "**Confusion Matrix:**\n",
    "* Class 0 (Low): Misclassified primarily as \"Medium\" or \"High.\"\n",
    "* Class 1 (Medium): Many instances misclassified as \"High.\"\n",
    "* Class 2 (High): The model performs best here but still misclassifies a significant portion as \"Medium.\""
   ]
  },
  {
   "cell_type": "code",
   "execution_count": null,
   "metadata": {
    "colab": {
     "base_uri": "https://localhost:8080/",
     "height": 755
    },
    "id": "980_RHWV2cnw",
    "outputId": "8b181f20-727e-4c96-fb06-3c01edeac7cc"
   },
   "outputs": [
    {
     "name": "stdout",
     "output_type": "stream",
     "text": [
      "\n",
      "Model Comparison:\n",
      "                 Model  Accuracy\n",
      "0                  KNN  0.504623\n",
      "2        Random Forest  0.352890\n",
      "1  Logistic Regression  0.324947\n"
     ]
    },
    {
     "name": "stderr",
     "output_type": "stream",
     "text": [
      "<ipython-input-26-bfe70aae273e>:14: FutureWarning: \n",
      "\n",
      "Passing `palette` without assigning `hue` is deprecated and will be removed in v0.14.0. Assign the `x` variable to `hue` and set `legend=False` for the same effect.\n",
      "\n",
      "  sns.barplot(x='Model', y='Accuracy', data=comparison, palette='viridis')\n"
     ]
    },
    {
     "data": {
      "image/png": "[encoded data removed]",
      "text/plain": [
       "<Figure size 800x600 with 1 Axes>"
      ]
     },
     "metadata": {},
     "output_type": "display_data"
    }
   ],
   "source": [
    "comparison = pd.DataFrame({\n",
    "    'Model': ['KNN', 'Logistic Regression', 'Random Forest'],\n",
    "    'Accuracy': [accuracy, logistic_accuracy, rf_accuracy]\n",
    "})\n",
    "\n",
    "# Sort by Accuracy\n",
    "comparison = comparison.sort_values(by='Accuracy', ascending=False)\n",
    "\n",
    "print(\"\\nModel Comparison:\")\n",
    "print(comparison)\n",
    "\n",
    "# Step 10: Visualize the Results\n",
    "plt.figure(figsize=(8, 6))\n",
    "sns.barplot(x='Model', y='Accuracy', data=comparison, palette='viridis')\n",
    "plt.title('Model Accuracy Comparison')\n",
    "plt.ylabel('Accuracy')\n",
    "plt.xlabel('Model')\n",
    "plt.ylim(0, 1)\n",
    "plt.show()"
   ]
  },
  {
   "cell_type": "markdown",
   "metadata": {
    "id": "RmN8_zayTSYT"
   },
   "source": [
    "# Conclusion\n",
    "\n",
    "In this classification analysis, we explored three models—KNN, Random Forest, and Logistic Regression—to predict movie rating classes. The accuracy comparison highlights their relative performance:\n",
    "\n",
    "**KNN emerged as the most accurate model (52% accuracy)**, leveraging proximity-based learning to classify ratings. However, it struggled with minority classes and class overlap.\n",
    "\n",
    "Random Forest achieved a moderate accuracy (35.29%) by aggregating multiple decision trees. While it improved on some misclassifications compared to Logistic Regression, it still faced challenges with the \"Low\" class and overlap between \"Medium\" and \"High.\"\n",
    "\n",
    "Logistic Regression, with an accuracy of 32.49%, performed the least effectively. Its linear nature limited its ability to capture the complex relationships in the data, particularly for the minority class.\n",
    "\n",
    "**Insights and Areas for Improvement**\n",
    "* Strengths: KNN demonstrated robust performance with sufficient proximity-based learning.\n",
    "Random Forest showed promise due to its non-linear capabilities and inherent handling of class imbalance.\n",
    "\n",
    "* Challenges: All models struggled with the \"Low\" class, primarily due to class imbalance and overlapping distributions.\n",
    "Improving recall for minority classes remains a key challenge.\n",
    "\n",
    "* Future Directions:\n",
    "\n",
    "**We'll experiment with boosting models like XGBoost or LightGBM for better handling of imbalanced data.**\n",
    "\n",
    "Also will incorporate class-specific weights to enhance the model's focus on minority classes.\n",
    "Further feature engineering is required to include additional contextual information (e.g., user demographics or advanced interaction terms) which could improve separability.\n",
    "\n",
    "Planning to explore hybrid models that combine content-based filtering with collaborative filtering to address cold-start problems and improve classification accuracy in future.\n",
    "\n",
    "\n",
    "This analysis highlights the complexities of multi-class classification in a recommendation setting and lays the groundwork for further exploration to improve performance and interpretability."
   ]
  },
  {
   "cell_type": "markdown",
   "metadata": {
    "id": "xTsyGb93VPA_"
   },
   "source": [
    "# Final Conclusion\n",
    "In this project, we explored both regression and classification approaches to predict movie ratings using the MovieLens dataset. The regression models, particularly the Neural Collaborative Filtering (NCF) and LightGBM, achieved the best performance, demonstrating their ability to capture complex user-item interactions and numerical trends in ratings. The NCF model achieved the lowest Test MSE (0.3911), making it the most effective for predicting exact ratings.\n",
    "\n",
    "On the other hand, classification models provided a categorical perspective, predicting ratings as \"Low,\" \"Medium,\" or \"High.\" While KNN outperformed Logistic Regression and Random Forest in classification accuracy (50.46%), all models struggled with imbalanced data and overlapping classes. These results highlight the limitations of classification approaches for this dataset, particularly in capturing the nuanced patterns present in user preferences.\n",
    "\n",
    "Recommendation\n",
    "For this dataset, regression analysis is better suited to predicting movie ratings, as it provides more accurate and actionable predictions. Classification could be explored further with more feature engineering or advanced techniques like boosting methods, but its current performance is limited for this task."
   ]
  }
 ],
 "metadata": {
  "accelerator": "GPU",
  "colab": {
   "gpuType": "T4",
   "provenance": []
  },
  "kernelspec": {
   "display_name": "Python 3 (ipykernel)",
   "language": "python",
   "name": "python3"
  },
  "language_info": {
   "codemirror_mode": {
    "name": "ipython",
    "version": 3
   },
   "file_extension": ".py",
   "mimetype": "text/x-python",
   "name": "python",
   "nbconvert_exporter": "python",
   "pygments_lexer": "ipython3",
   "version": "3.12.4"
  }
 },
 "nbformat": 4,
 "nbformat_minor": 4
}
